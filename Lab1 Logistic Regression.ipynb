{
 "cells": [
  {
   "cell_type": "markdown",
   "metadata": {},
   "source": [
    "# Lab 1: Logistic Regression"
   ]
  },
  {
   "cell_type": "markdown",
   "metadata": {},
   "source": [
    "## Lab Instruction \n",
    "\n",
    "In this lab, you are to create a logistic regression model to predict the sale price of <br>\n",
    "houses (Low, High) from a given set of attributes. <br>\n",
    "The data file is`lab1_dataset.csv` <br>\n",
    "Note that you need to explore and process/drop attributes, <br>\n",
    "and map numerical values of sale prices to categorical values (Low, High)"
   ]
  },
  {
   "cell_type": "markdown",
   "metadata": {},
   "source": [
    "###  1. Import the Dataset and Learn About the Data\n"
   ]
  },
  {
   "cell_type": "code",
   "execution_count": 1,
   "metadata": {},
   "outputs": [
    {
     "data": {
      "text/html": [
       "<div>\n",
       "<style scoped>\n",
       "    .dataframe tbody tr th:only-of-type {\n",
       "        vertical-align: middle;\n",
       "    }\n",
       "\n",
       "    .dataframe tbody tr th {\n",
       "        vertical-align: top;\n",
       "    }\n",
       "\n",
       "    .dataframe thead th {\n",
       "        text-align: right;\n",
       "    }\n",
       "</style>\n",
       "<table border=\"1\" class=\"dataframe\">\n",
       "  <thead>\n",
       "    <tr style=\"text-align: right;\">\n",
       "      <th></th>\n",
       "      <th>Id</th>\n",
       "      <th>Foundation</th>\n",
       "      <th>1stFlrSF</th>\n",
       "      <th>KitchenQual</th>\n",
       "      <th>Fireplaces</th>\n",
       "      <th>HeatingQC</th>\n",
       "      <th>FullBath</th>\n",
       "      <th>BsmtQual</th>\n",
       "      <th>OpenPorchSF</th>\n",
       "      <th>GarageYrBlt</th>\n",
       "      <th>...</th>\n",
       "      <th>BsmtFinType1</th>\n",
       "      <th>YearBuilt</th>\n",
       "      <th>GarageArea</th>\n",
       "      <th>TotRmsAbvGrd</th>\n",
       "      <th>GarageCars</th>\n",
       "      <th>GrLivArea</th>\n",
       "      <th>YearRemodAdd</th>\n",
       "      <th>LotFrontage</th>\n",
       "      <th>Fence</th>\n",
       "      <th>SalePrice</th>\n",
       "    </tr>\n",
       "  </thead>\n",
       "  <tbody>\n",
       "    <tr>\n",
       "      <th>0</th>\n",
       "      <td>1</td>\n",
       "      <td>PConc</td>\n",
       "      <td>856</td>\n",
       "      <td>Gd</td>\n",
       "      <td>0</td>\n",
       "      <td>Ex</td>\n",
       "      <td>2</td>\n",
       "      <td>Gd</td>\n",
       "      <td>61</td>\n",
       "      <td>2003.0</td>\n",
       "      <td>...</td>\n",
       "      <td>GLQ</td>\n",
       "      <td>2003</td>\n",
       "      <td>548</td>\n",
       "      <td>8</td>\n",
       "      <td>2</td>\n",
       "      <td>1710</td>\n",
       "      <td>2003</td>\n",
       "      <td>65.0</td>\n",
       "      <td>NaN</td>\n",
       "      <td>208500</td>\n",
       "    </tr>\n",
       "    <tr>\n",
       "      <th>1</th>\n",
       "      <td>2</td>\n",
       "      <td>CBlock</td>\n",
       "      <td>1262</td>\n",
       "      <td>TA</td>\n",
       "      <td>1</td>\n",
       "      <td>Ex</td>\n",
       "      <td>2</td>\n",
       "      <td>Gd</td>\n",
       "      <td>0</td>\n",
       "      <td>1976.0</td>\n",
       "      <td>...</td>\n",
       "      <td>ALQ</td>\n",
       "      <td>1976</td>\n",
       "      <td>460</td>\n",
       "      <td>6</td>\n",
       "      <td>2</td>\n",
       "      <td>1262</td>\n",
       "      <td>1976</td>\n",
       "      <td>80.0</td>\n",
       "      <td>NaN</td>\n",
       "      <td>181500</td>\n",
       "    </tr>\n",
       "    <tr>\n",
       "      <th>2</th>\n",
       "      <td>3</td>\n",
       "      <td>PConc</td>\n",
       "      <td>920</td>\n",
       "      <td>Gd</td>\n",
       "      <td>1</td>\n",
       "      <td>Ex</td>\n",
       "      <td>2</td>\n",
       "      <td>Gd</td>\n",
       "      <td>42</td>\n",
       "      <td>2001.0</td>\n",
       "      <td>...</td>\n",
       "      <td>GLQ</td>\n",
       "      <td>2001</td>\n",
       "      <td>608</td>\n",
       "      <td>6</td>\n",
       "      <td>2</td>\n",
       "      <td>1786</td>\n",
       "      <td>2002</td>\n",
       "      <td>68.0</td>\n",
       "      <td>NaN</td>\n",
       "      <td>223500</td>\n",
       "    </tr>\n",
       "    <tr>\n",
       "      <th>3</th>\n",
       "      <td>4</td>\n",
       "      <td>BrkTil</td>\n",
       "      <td>961</td>\n",
       "      <td>Gd</td>\n",
       "      <td>1</td>\n",
       "      <td>Gd</td>\n",
       "      <td>1</td>\n",
       "      <td>TA</td>\n",
       "      <td>35</td>\n",
       "      <td>1998.0</td>\n",
       "      <td>...</td>\n",
       "      <td>ALQ</td>\n",
       "      <td>1915</td>\n",
       "      <td>642</td>\n",
       "      <td>7</td>\n",
       "      <td>3</td>\n",
       "      <td>1717</td>\n",
       "      <td>1970</td>\n",
       "      <td>60.0</td>\n",
       "      <td>NaN</td>\n",
       "      <td>140000</td>\n",
       "    </tr>\n",
       "    <tr>\n",
       "      <th>4</th>\n",
       "      <td>5</td>\n",
       "      <td>PConc</td>\n",
       "      <td>1145</td>\n",
       "      <td>Gd</td>\n",
       "      <td>1</td>\n",
       "      <td>Ex</td>\n",
       "      <td>2</td>\n",
       "      <td>Gd</td>\n",
       "      <td>84</td>\n",
       "      <td>2000.0</td>\n",
       "      <td>...</td>\n",
       "      <td>GLQ</td>\n",
       "      <td>2000</td>\n",
       "      <td>836</td>\n",
       "      <td>9</td>\n",
       "      <td>3</td>\n",
       "      <td>2198</td>\n",
       "      <td>2000</td>\n",
       "      <td>84.0</td>\n",
       "      <td>NaN</td>\n",
       "      <td>250000</td>\n",
       "    </tr>\n",
       "  </tbody>\n",
       "</table>\n",
       "<p>5 rows × 22 columns</p>\n",
       "</div>"
      ],
      "text/plain": [
       "   Id Foundation  1stFlrSF KitchenQual  Fireplaces HeatingQC  FullBath  \\\n",
       "0   1      PConc       856          Gd           0        Ex         2   \n",
       "1   2     CBlock      1262          TA           1        Ex         2   \n",
       "2   3      PConc       920          Gd           1        Ex         2   \n",
       "3   4     BrkTil       961          Gd           1        Gd         1   \n",
       "4   5      PConc      1145          Gd           1        Ex         2   \n",
       "\n",
       "  BsmtQual  OpenPorchSF  GarageYrBlt    ...     BsmtFinType1  YearBuilt  \\\n",
       "0       Gd           61       2003.0    ...              GLQ       2003   \n",
       "1       Gd            0       1976.0    ...              ALQ       1976   \n",
       "2       Gd           42       2001.0    ...              GLQ       2001   \n",
       "3       TA           35       1998.0    ...              ALQ       1915   \n",
       "4       Gd           84       2000.0    ...              GLQ       2000   \n",
       "\n",
       "  GarageArea  TotRmsAbvGrd  GarageCars  GrLivArea  YearRemodAdd  LotFrontage  \\\n",
       "0        548             8           2       1710          2003         65.0   \n",
       "1        460             6           2       1262          1976         80.0   \n",
       "2        608             6           2       1786          2002         68.0   \n",
       "3        642             7           3       1717          1970         60.0   \n",
       "4        836             9           3       2198          2000         84.0   \n",
       "\n",
       "   Fence  SalePrice  \n",
       "0    NaN     208500  \n",
       "1    NaN     181500  \n",
       "2    NaN     223500  \n",
       "3    NaN     140000  \n",
       "4    NaN     250000  \n",
       "\n",
       "[5 rows x 22 columns]"
      ]
     },
     "execution_count": 1,
     "metadata": {},
     "output_type": "execute_result"
    }
   ],
   "source": [
    "import pandas as pd\n",
    "import numpy as np\n",
    "trainData = pd.read_csv('lab1_dataset.csv') #read data\n",
    "trainData.head() "
   ]
  },
  {
   "cell_type": "markdown",
   "metadata": {},
   "source": [
    "###  2. Preprocessing\n",
    "\n",
    "Use techniques that you have learned to preprocess the data. For example, \n",
    "-  Remove non-informative features\n",
    "-  Remove features with too many NA\n",
    "-  Remove rows with incomplete data\n",
    "-  Remove features with highly unbalanced labels\n",
    "-  Encode categorical variables as appropriate"
   ]
  },
  {
   "cell_type": "code",
   "execution_count": 2,
   "metadata": {},
   "outputs": [
    {
     "name": "stdout",
     "output_type": "stream",
     "text": [
      "<class 'pandas.core.frame.DataFrame'>\n",
      "RangeIndex: 1460 entries, 0 to 1459\n",
      "Data columns (total 22 columns):\n",
      "Id              1460 non-null int64\n",
      "Foundation      1460 non-null object\n",
      "1stFlrSF        1460 non-null int64\n",
      "KitchenQual     1460 non-null object\n",
      "Fireplaces      1460 non-null int64\n",
      "HeatingQC       1460 non-null object\n",
      "FullBath        1460 non-null int64\n",
      "BsmtQual        1423 non-null object\n",
      "OpenPorchSF     1460 non-null int64\n",
      "GarageYrBlt     1379 non-null float64\n",
      "ExterQual       1460 non-null object\n",
      "OverallQual     1460 non-null int64\n",
      "BsmtFinType1    1423 non-null object\n",
      "YearBuilt       1460 non-null int64\n",
      "GarageArea      1460 non-null int64\n",
      "TotRmsAbvGrd    1460 non-null int64\n",
      "GarageCars      1460 non-null int64\n",
      "GrLivArea       1460 non-null int64\n",
      "YearRemodAdd    1460 non-null int64\n",
      "LotFrontage     1201 non-null float64\n",
      "Fence           281 non-null object\n",
      "SalePrice       1460 non-null int64\n",
      "dtypes: float64(2), int64(13), object(7)\n",
      "memory usage: 251.0+ KB\n"
     ]
    }
   ],
   "source": [
    "trainData.info() #see info"
   ]
  },
  {
   "cell_type": "code",
   "execution_count": 3,
   "metadata": {},
   "outputs": [
    {
     "data": {
      "text/html": [
       "<div>\n",
       "<style scoped>\n",
       "    .dataframe tbody tr th:only-of-type {\n",
       "        vertical-align: middle;\n",
       "    }\n",
       "\n",
       "    .dataframe tbody tr th {\n",
       "        vertical-align: top;\n",
       "    }\n",
       "\n",
       "    .dataframe thead th {\n",
       "        text-align: right;\n",
       "    }\n",
       "</style>\n",
       "<table border=\"1\" class=\"dataframe\">\n",
       "  <thead>\n",
       "    <tr style=\"text-align: right;\">\n",
       "      <th></th>\n",
       "      <th>Foundation</th>\n",
       "      <th>KitchenQual</th>\n",
       "      <th>HeatingQC</th>\n",
       "      <th>BsmtQual</th>\n",
       "      <th>ExterQual</th>\n",
       "      <th>BsmtFinType1</th>\n",
       "      <th>Fence</th>\n",
       "    </tr>\n",
       "  </thead>\n",
       "  <tbody>\n",
       "    <tr>\n",
       "      <th>count</th>\n",
       "      <td>1460</td>\n",
       "      <td>1460</td>\n",
       "      <td>1460</td>\n",
       "      <td>1423</td>\n",
       "      <td>1460</td>\n",
       "      <td>1423</td>\n",
       "      <td>281</td>\n",
       "    </tr>\n",
       "    <tr>\n",
       "      <th>unique</th>\n",
       "      <td>6</td>\n",
       "      <td>4</td>\n",
       "      <td>5</td>\n",
       "      <td>4</td>\n",
       "      <td>4</td>\n",
       "      <td>6</td>\n",
       "      <td>4</td>\n",
       "    </tr>\n",
       "    <tr>\n",
       "      <th>top</th>\n",
       "      <td>PConc</td>\n",
       "      <td>TA</td>\n",
       "      <td>Ex</td>\n",
       "      <td>TA</td>\n",
       "      <td>TA</td>\n",
       "      <td>Unf</td>\n",
       "      <td>MnPrv</td>\n",
       "    </tr>\n",
       "    <tr>\n",
       "      <th>freq</th>\n",
       "      <td>647</td>\n",
       "      <td>735</td>\n",
       "      <td>741</td>\n",
       "      <td>649</td>\n",
       "      <td>906</td>\n",
       "      <td>430</td>\n",
       "      <td>157</td>\n",
       "    </tr>\n",
       "  </tbody>\n",
       "</table>\n",
       "</div>"
      ],
      "text/plain": [
       "       Foundation KitchenQual HeatingQC BsmtQual ExterQual BsmtFinType1  Fence\n",
       "count        1460        1460      1460     1423      1460         1423    281\n",
       "unique          6           4         5        4         4            6      4\n",
       "top         PConc          TA        Ex       TA        TA          Unf  MnPrv\n",
       "freq          647         735       741      649       906          430    157"
      ]
     },
     "execution_count": 3,
     "metadata": {},
     "output_type": "execute_result"
    }
   ],
   "source": [
    "trainData.select_dtypes(['object','bool']).describe() "
   ]
  },
  {
   "cell_type": "code",
   "execution_count": 4,
   "metadata": {},
   "outputs": [
    {
     "data": {
      "text/html": [
       "<div>\n",
       "<style scoped>\n",
       "    .dataframe tbody tr th:only-of-type {\n",
       "        vertical-align: middle;\n",
       "    }\n",
       "\n",
       "    .dataframe tbody tr th {\n",
       "        vertical-align: top;\n",
       "    }\n",
       "\n",
       "    .dataframe thead th {\n",
       "        text-align: right;\n",
       "    }\n",
       "</style>\n",
       "<table border=\"1\" class=\"dataframe\">\n",
       "  <thead>\n",
       "    <tr style=\"text-align: right;\">\n",
       "      <th></th>\n",
       "      <th>Id</th>\n",
       "      <th>1stFlrSF</th>\n",
       "      <th>Fireplaces</th>\n",
       "      <th>FullBath</th>\n",
       "      <th>OpenPorchSF</th>\n",
       "      <th>GarageYrBlt</th>\n",
       "      <th>OverallQual</th>\n",
       "      <th>YearBuilt</th>\n",
       "      <th>GarageArea</th>\n",
       "      <th>TotRmsAbvGrd</th>\n",
       "      <th>GarageCars</th>\n",
       "      <th>GrLivArea</th>\n",
       "      <th>YearRemodAdd</th>\n",
       "      <th>LotFrontage</th>\n",
       "      <th>SalePrice</th>\n",
       "    </tr>\n",
       "  </thead>\n",
       "  <tbody>\n",
       "    <tr>\n",
       "      <th>count</th>\n",
       "      <td>1460.000000</td>\n",
       "      <td>1460.000000</td>\n",
       "      <td>1460.000000</td>\n",
       "      <td>1460.000000</td>\n",
       "      <td>1460.000000</td>\n",
       "      <td>1379.000000</td>\n",
       "      <td>1460.000000</td>\n",
       "      <td>1460.000000</td>\n",
       "      <td>1460.000000</td>\n",
       "      <td>1460.000000</td>\n",
       "      <td>1460.000000</td>\n",
       "      <td>1460.000000</td>\n",
       "      <td>1460.000000</td>\n",
       "      <td>1201.000000</td>\n",
       "      <td>1460.000000</td>\n",
       "    </tr>\n",
       "    <tr>\n",
       "      <th>mean</th>\n",
       "      <td>730.500000</td>\n",
       "      <td>1162.626712</td>\n",
       "      <td>0.613014</td>\n",
       "      <td>1.565068</td>\n",
       "      <td>46.660274</td>\n",
       "      <td>1978.506164</td>\n",
       "      <td>6.099315</td>\n",
       "      <td>1971.267808</td>\n",
       "      <td>472.980137</td>\n",
       "      <td>6.517808</td>\n",
       "      <td>1.767123</td>\n",
       "      <td>1515.463699</td>\n",
       "      <td>1984.865753</td>\n",
       "      <td>70.049958</td>\n",
       "      <td>180921.195890</td>\n",
       "    </tr>\n",
       "    <tr>\n",
       "      <th>std</th>\n",
       "      <td>421.610009</td>\n",
       "      <td>386.587738</td>\n",
       "      <td>0.644666</td>\n",
       "      <td>0.550916</td>\n",
       "      <td>66.256028</td>\n",
       "      <td>24.689725</td>\n",
       "      <td>1.382997</td>\n",
       "      <td>30.202904</td>\n",
       "      <td>213.804841</td>\n",
       "      <td>1.625393</td>\n",
       "      <td>0.747315</td>\n",
       "      <td>525.480383</td>\n",
       "      <td>20.645407</td>\n",
       "      <td>24.284752</td>\n",
       "      <td>79442.502883</td>\n",
       "    </tr>\n",
       "    <tr>\n",
       "      <th>min</th>\n",
       "      <td>1.000000</td>\n",
       "      <td>334.000000</td>\n",
       "      <td>0.000000</td>\n",
       "      <td>0.000000</td>\n",
       "      <td>0.000000</td>\n",
       "      <td>1900.000000</td>\n",
       "      <td>1.000000</td>\n",
       "      <td>1872.000000</td>\n",
       "      <td>0.000000</td>\n",
       "      <td>2.000000</td>\n",
       "      <td>0.000000</td>\n",
       "      <td>334.000000</td>\n",
       "      <td>1950.000000</td>\n",
       "      <td>21.000000</td>\n",
       "      <td>34900.000000</td>\n",
       "    </tr>\n",
       "    <tr>\n",
       "      <th>25%</th>\n",
       "      <td>365.750000</td>\n",
       "      <td>882.000000</td>\n",
       "      <td>0.000000</td>\n",
       "      <td>1.000000</td>\n",
       "      <td>0.000000</td>\n",
       "      <td>1961.000000</td>\n",
       "      <td>5.000000</td>\n",
       "      <td>1954.000000</td>\n",
       "      <td>334.500000</td>\n",
       "      <td>5.000000</td>\n",
       "      <td>1.000000</td>\n",
       "      <td>1129.500000</td>\n",
       "      <td>1967.000000</td>\n",
       "      <td>59.000000</td>\n",
       "      <td>129975.000000</td>\n",
       "    </tr>\n",
       "    <tr>\n",
       "      <th>50%</th>\n",
       "      <td>730.500000</td>\n",
       "      <td>1087.000000</td>\n",
       "      <td>1.000000</td>\n",
       "      <td>2.000000</td>\n",
       "      <td>25.000000</td>\n",
       "      <td>1980.000000</td>\n",
       "      <td>6.000000</td>\n",
       "      <td>1973.000000</td>\n",
       "      <td>480.000000</td>\n",
       "      <td>6.000000</td>\n",
       "      <td>2.000000</td>\n",
       "      <td>1464.000000</td>\n",
       "      <td>1994.000000</td>\n",
       "      <td>69.000000</td>\n",
       "      <td>163000.000000</td>\n",
       "    </tr>\n",
       "    <tr>\n",
       "      <th>75%</th>\n",
       "      <td>1095.250000</td>\n",
       "      <td>1391.250000</td>\n",
       "      <td>1.000000</td>\n",
       "      <td>2.000000</td>\n",
       "      <td>68.000000</td>\n",
       "      <td>2002.000000</td>\n",
       "      <td>7.000000</td>\n",
       "      <td>2000.000000</td>\n",
       "      <td>576.000000</td>\n",
       "      <td>7.000000</td>\n",
       "      <td>2.000000</td>\n",
       "      <td>1776.750000</td>\n",
       "      <td>2004.000000</td>\n",
       "      <td>80.000000</td>\n",
       "      <td>214000.000000</td>\n",
       "    </tr>\n",
       "    <tr>\n",
       "      <th>max</th>\n",
       "      <td>1460.000000</td>\n",
       "      <td>4692.000000</td>\n",
       "      <td>3.000000</td>\n",
       "      <td>3.000000</td>\n",
       "      <td>547.000000</td>\n",
       "      <td>2010.000000</td>\n",
       "      <td>10.000000</td>\n",
       "      <td>2010.000000</td>\n",
       "      <td>1418.000000</td>\n",
       "      <td>14.000000</td>\n",
       "      <td>4.000000</td>\n",
       "      <td>5642.000000</td>\n",
       "      <td>2010.000000</td>\n",
       "      <td>313.000000</td>\n",
       "      <td>755000.000000</td>\n",
       "    </tr>\n",
       "  </tbody>\n",
       "</table>\n",
       "</div>"
      ],
      "text/plain": [
       "                Id     1stFlrSF   Fireplaces     FullBath  OpenPorchSF  \\\n",
       "count  1460.000000  1460.000000  1460.000000  1460.000000  1460.000000   \n",
       "mean    730.500000  1162.626712     0.613014     1.565068    46.660274   \n",
       "std     421.610009   386.587738     0.644666     0.550916    66.256028   \n",
       "min       1.000000   334.000000     0.000000     0.000000     0.000000   \n",
       "25%     365.750000   882.000000     0.000000     1.000000     0.000000   \n",
       "50%     730.500000  1087.000000     1.000000     2.000000    25.000000   \n",
       "75%    1095.250000  1391.250000     1.000000     2.000000    68.000000   \n",
       "max    1460.000000  4692.000000     3.000000     3.000000   547.000000   \n",
       "\n",
       "       GarageYrBlt  OverallQual    YearBuilt   GarageArea  TotRmsAbvGrd  \\\n",
       "count  1379.000000  1460.000000  1460.000000  1460.000000   1460.000000   \n",
       "mean   1978.506164     6.099315  1971.267808   472.980137      6.517808   \n",
       "std      24.689725     1.382997    30.202904   213.804841      1.625393   \n",
       "min    1900.000000     1.000000  1872.000000     0.000000      2.000000   \n",
       "25%    1961.000000     5.000000  1954.000000   334.500000      5.000000   \n",
       "50%    1980.000000     6.000000  1973.000000   480.000000      6.000000   \n",
       "75%    2002.000000     7.000000  2000.000000   576.000000      7.000000   \n",
       "max    2010.000000    10.000000  2010.000000  1418.000000     14.000000   \n",
       "\n",
       "        GarageCars    GrLivArea  YearRemodAdd  LotFrontage      SalePrice  \n",
       "count  1460.000000  1460.000000   1460.000000  1201.000000    1460.000000  \n",
       "mean      1.767123  1515.463699   1984.865753    70.049958  180921.195890  \n",
       "std       0.747315   525.480383     20.645407    24.284752   79442.502883  \n",
       "min       0.000000   334.000000   1950.000000    21.000000   34900.000000  \n",
       "25%       1.000000  1129.500000   1967.000000    59.000000  129975.000000  \n",
       "50%       2.000000  1464.000000   1994.000000    69.000000  163000.000000  \n",
       "75%       2.000000  1776.750000   2004.000000    80.000000  214000.000000  \n",
       "max       4.000000  5642.000000   2010.000000   313.000000  755000.000000  "
      ]
     },
     "execution_count": 4,
     "metadata": {},
     "output_type": "execute_result"
    }
   ],
   "source": [
    "trainData.describe()"
   ]
  },
  {
   "cell_type": "code",
   "execution_count": 5,
   "metadata": {
    "scrolled": true
   },
   "outputs": [
    {
     "data": {
      "text/html": [
       "<div>\n",
       "<style scoped>\n",
       "    .dataframe tbody tr th:only-of-type {\n",
       "        vertical-align: middle;\n",
       "    }\n",
       "\n",
       "    .dataframe tbody tr th {\n",
       "        vertical-align: top;\n",
       "    }\n",
       "\n",
       "    .dataframe thead th {\n",
       "        text-align: right;\n",
       "    }\n",
       "</style>\n",
       "<table border=\"1\" class=\"dataframe\">\n",
       "  <thead>\n",
       "    <tr style=\"text-align: right;\">\n",
       "      <th></th>\n",
       "      <th>Foundation</th>\n",
       "      <th>1stFlrSF</th>\n",
       "      <th>KitchenQual</th>\n",
       "      <th>Fireplaces</th>\n",
       "      <th>HeatingQC</th>\n",
       "      <th>FullBath</th>\n",
       "      <th>BsmtQual</th>\n",
       "      <th>OpenPorchSF</th>\n",
       "      <th>ExterQual</th>\n",
       "      <th>OverallQual</th>\n",
       "      <th>BsmtFinType1</th>\n",
       "      <th>GarageArea</th>\n",
       "      <th>TotRmsAbvGrd</th>\n",
       "      <th>GarageCars</th>\n",
       "      <th>GrLivArea</th>\n",
       "      <th>LotFrontage</th>\n",
       "      <th>SalePrice</th>\n",
       "    </tr>\n",
       "  </thead>\n",
       "  <tbody>\n",
       "    <tr>\n",
       "      <th>0</th>\n",
       "      <td>PConc</td>\n",
       "      <td>856</td>\n",
       "      <td>Gd</td>\n",
       "      <td>0</td>\n",
       "      <td>Ex</td>\n",
       "      <td>2</td>\n",
       "      <td>Gd</td>\n",
       "      <td>61</td>\n",
       "      <td>Gd</td>\n",
       "      <td>7</td>\n",
       "      <td>GLQ</td>\n",
       "      <td>548</td>\n",
       "      <td>8</td>\n",
       "      <td>2</td>\n",
       "      <td>1710</td>\n",
       "      <td>65.0</td>\n",
       "      <td>208500</td>\n",
       "    </tr>\n",
       "    <tr>\n",
       "      <th>1</th>\n",
       "      <td>CBlock</td>\n",
       "      <td>1262</td>\n",
       "      <td>TA</td>\n",
       "      <td>1</td>\n",
       "      <td>Ex</td>\n",
       "      <td>2</td>\n",
       "      <td>Gd</td>\n",
       "      <td>0</td>\n",
       "      <td>TA</td>\n",
       "      <td>6</td>\n",
       "      <td>ALQ</td>\n",
       "      <td>460</td>\n",
       "      <td>6</td>\n",
       "      <td>2</td>\n",
       "      <td>1262</td>\n",
       "      <td>80.0</td>\n",
       "      <td>181500</td>\n",
       "    </tr>\n",
       "    <tr>\n",
       "      <th>2</th>\n",
       "      <td>PConc</td>\n",
       "      <td>920</td>\n",
       "      <td>Gd</td>\n",
       "      <td>1</td>\n",
       "      <td>Ex</td>\n",
       "      <td>2</td>\n",
       "      <td>Gd</td>\n",
       "      <td>42</td>\n",
       "      <td>Gd</td>\n",
       "      <td>7</td>\n",
       "      <td>GLQ</td>\n",
       "      <td>608</td>\n",
       "      <td>6</td>\n",
       "      <td>2</td>\n",
       "      <td>1786</td>\n",
       "      <td>68.0</td>\n",
       "      <td>223500</td>\n",
       "    </tr>\n",
       "    <tr>\n",
       "      <th>3</th>\n",
       "      <td>BrkTil</td>\n",
       "      <td>961</td>\n",
       "      <td>Gd</td>\n",
       "      <td>1</td>\n",
       "      <td>Gd</td>\n",
       "      <td>1</td>\n",
       "      <td>TA</td>\n",
       "      <td>35</td>\n",
       "      <td>TA</td>\n",
       "      <td>7</td>\n",
       "      <td>ALQ</td>\n",
       "      <td>642</td>\n",
       "      <td>7</td>\n",
       "      <td>3</td>\n",
       "      <td>1717</td>\n",
       "      <td>60.0</td>\n",
       "      <td>140000</td>\n",
       "    </tr>\n",
       "    <tr>\n",
       "      <th>4</th>\n",
       "      <td>PConc</td>\n",
       "      <td>1145</td>\n",
       "      <td>Gd</td>\n",
       "      <td>1</td>\n",
       "      <td>Ex</td>\n",
       "      <td>2</td>\n",
       "      <td>Gd</td>\n",
       "      <td>84</td>\n",
       "      <td>Gd</td>\n",
       "      <td>8</td>\n",
       "      <td>GLQ</td>\n",
       "      <td>836</td>\n",
       "      <td>9</td>\n",
       "      <td>3</td>\n",
       "      <td>2198</td>\n",
       "      <td>84.0</td>\n",
       "      <td>250000</td>\n",
       "    </tr>\n",
       "  </tbody>\n",
       "</table>\n",
       "</div>"
      ],
      "text/plain": [
       "  Foundation  1stFlrSF KitchenQual  Fireplaces HeatingQC  FullBath BsmtQual  \\\n",
       "0      PConc       856          Gd           0        Ex         2       Gd   \n",
       "1     CBlock      1262          TA           1        Ex         2       Gd   \n",
       "2      PConc       920          Gd           1        Ex         2       Gd   \n",
       "3     BrkTil       961          Gd           1        Gd         1       TA   \n",
       "4      PConc      1145          Gd           1        Ex         2       Gd   \n",
       "\n",
       "   OpenPorchSF ExterQual  OverallQual BsmtFinType1  GarageArea  TotRmsAbvGrd  \\\n",
       "0           61        Gd            7          GLQ         548             8   \n",
       "1            0        TA            6          ALQ         460             6   \n",
       "2           42        Gd            7          GLQ         608             6   \n",
       "3           35        TA            7          ALQ         642             7   \n",
       "4           84        Gd            8          GLQ         836             9   \n",
       "\n",
       "   GarageCars  GrLivArea  LotFrontage  SalePrice  \n",
       "0           2       1710         65.0     208500  \n",
       "1           2       1262         80.0     181500  \n",
       "2           2       1786         68.0     223500  \n",
       "3           3       1717         60.0     140000  \n",
       "4           3       2198         84.0     250000  "
      ]
     },
     "execution_count": 5,
     "metadata": {},
     "output_type": "execute_result"
    }
   ],
   "source": [
    "trainData2 = trainData.drop(['Id','Fence','GarageYrBlt','YearRemodAdd','YearBuilt'],axis=1)\n",
    "trainData2.head()"
   ]
  },
  {
   "cell_type": "code",
   "execution_count": 6,
   "metadata": {},
   "outputs": [
    {
     "data": {
      "text/html": [
       "<div>\n",
       "<style scoped>\n",
       "    .dataframe tbody tr th:only-of-type {\n",
       "        vertical-align: middle;\n",
       "    }\n",
       "\n",
       "    .dataframe tbody tr th {\n",
       "        vertical-align: top;\n",
       "    }\n",
       "\n",
       "    .dataframe thead th {\n",
       "        text-align: right;\n",
       "    }\n",
       "</style>\n",
       "<table border=\"1\" class=\"dataframe\">\n",
       "  <thead>\n",
       "    <tr style=\"text-align: right;\">\n",
       "      <th></th>\n",
       "      <th>Foundation</th>\n",
       "      <th>KitchenQual</th>\n",
       "      <th>HeatingQC</th>\n",
       "      <th>BsmtQual</th>\n",
       "      <th>ExterQual</th>\n",
       "      <th>BsmtFinType1</th>\n",
       "    </tr>\n",
       "  </thead>\n",
       "  <tbody>\n",
       "    <tr>\n",
       "      <th>count</th>\n",
       "      <td>1460</td>\n",
       "      <td>1460</td>\n",
       "      <td>1460</td>\n",
       "      <td>1423</td>\n",
       "      <td>1460</td>\n",
       "      <td>1423</td>\n",
       "    </tr>\n",
       "    <tr>\n",
       "      <th>unique</th>\n",
       "      <td>6</td>\n",
       "      <td>4</td>\n",
       "      <td>5</td>\n",
       "      <td>4</td>\n",
       "      <td>4</td>\n",
       "      <td>6</td>\n",
       "    </tr>\n",
       "    <tr>\n",
       "      <th>top</th>\n",
       "      <td>PConc</td>\n",
       "      <td>TA</td>\n",
       "      <td>Ex</td>\n",
       "      <td>TA</td>\n",
       "      <td>TA</td>\n",
       "      <td>Unf</td>\n",
       "    </tr>\n",
       "    <tr>\n",
       "      <th>freq</th>\n",
       "      <td>647</td>\n",
       "      <td>735</td>\n",
       "      <td>741</td>\n",
       "      <td>649</td>\n",
       "      <td>906</td>\n",
       "      <td>430</td>\n",
       "    </tr>\n",
       "  </tbody>\n",
       "</table>\n",
       "</div>"
      ],
      "text/plain": [
       "       Foundation KitchenQual HeatingQC BsmtQual ExterQual BsmtFinType1\n",
       "count        1460        1460      1460     1423      1460         1423\n",
       "unique          6           4         5        4         4            6\n",
       "top         PConc          TA        Ex       TA        TA          Unf\n",
       "freq          647         735       741      649       906          430"
      ]
     },
     "execution_count": 6,
     "metadata": {},
     "output_type": "execute_result"
    }
   ],
   "source": [
    "trainData2.select_dtypes(['object','bool']).describe()"
   ]
  },
  {
   "cell_type": "code",
   "execution_count": 7,
   "metadata": {},
   "outputs": [
    {
     "data": {
      "text/plain": [
       "Foundation        0\n",
       "1stFlrSF          0\n",
       "KitchenQual       0\n",
       "Fireplaces        0\n",
       "HeatingQC         0\n",
       "FullBath          0\n",
       "BsmtQual         37\n",
       "OpenPorchSF       0\n",
       "ExterQual         0\n",
       "OverallQual       0\n",
       "BsmtFinType1     37\n",
       "GarageArea        0\n",
       "TotRmsAbvGrd      0\n",
       "GarageCars        0\n",
       "GrLivArea         0\n",
       "LotFrontage     259\n",
       "SalePrice         0\n",
       "dtype: int64"
      ]
     },
     "execution_count": 7,
     "metadata": {},
     "output_type": "execute_result"
    }
   ],
   "source": [
    "trainData2.isnull().sum() #check whatever there is null value in any labels"
   ]
  },
  {
   "cell_type": "code",
   "execution_count": 8,
   "metadata": {},
   "outputs": [],
   "source": [
    "trainData2 = trainData2.drop('LotFrontage',axis=1) #labels with 17% of incomplete data"
   ]
  },
  {
   "cell_type": "code",
   "execution_count": 9,
   "metadata": {},
   "outputs": [
    {
     "data": {
      "text/plain": [
       "(1460, 16)"
      ]
     },
     "execution_count": 9,
     "metadata": {},
     "output_type": "execute_result"
    }
   ],
   "source": [
    "trainData2.shape #check data features"
   ]
  },
  {
   "cell_type": "code",
   "execution_count": 10,
   "metadata": {},
   "outputs": [],
   "source": [
    "trainData2=trainData2.dropna(how='any') #remove na and nan"
   ]
  },
  {
   "cell_type": "code",
   "execution_count": 11,
   "metadata": {},
   "outputs": [
    {
     "data": {
      "text/plain": [
       "(1423, 16)"
      ]
     },
     "execution_count": 11,
     "metadata": {},
     "output_type": "execute_result"
    }
   ],
   "source": [
    "trainData2.shape #check data features"
   ]
  },
  {
   "cell_type": "code",
   "execution_count": 12,
   "metadata": {},
   "outputs": [],
   "source": [
    "#check all labels with object and boolean type"
   ]
  },
  {
   "cell_type": "code",
   "execution_count": 13,
   "metadata": {},
   "outputs": [
    {
     "data": {
      "text/plain": [
       "PConc     644\n",
       "CBlock    625\n",
       "BrkTil    145\n",
       "Stone       6\n",
       "Wood        3\n",
       "Name: Foundation, dtype: int64"
      ]
     },
     "execution_count": 13,
     "metadata": {},
     "output_type": "execute_result"
    }
   ],
   "source": [
    "trainData2['Foundation'].value_counts() #balance"
   ]
  },
  {
   "cell_type": "code",
   "execution_count": 14,
   "metadata": {},
   "outputs": [
    {
     "data": {
      "text/plain": [
       "TA    706\n",
       "Gd    582\n",
       "Ex    100\n",
       "Fa     35\n",
       "Name: KitchenQual, dtype: int64"
      ]
     },
     "execution_count": 14,
     "metadata": {},
     "output_type": "execute_result"
    }
   ],
   "source": [
    "trainData2['KitchenQual'].value_counts() #balance"
   ]
  },
  {
   "cell_type": "code",
   "execution_count": 15,
   "metadata": {},
   "outputs": [
    {
     "data": {
      "text/plain": [
       "Ex    734\n",
       "TA    410\n",
       "Gd    235\n",
       "Fa     43\n",
       "Po      1\n",
       "Name: HeatingQC, dtype: int64"
      ]
     },
     "execution_count": 15,
     "metadata": {},
     "output_type": "execute_result"
    }
   ],
   "source": [
    "trainData2['HeatingQC'].value_counts() #balance"
   ]
  },
  {
   "cell_type": "code",
   "execution_count": 16,
   "metadata": {},
   "outputs": [
    {
     "data": {
      "text/plain": [
       "TA    649\n",
       "Gd    618\n",
       "Ex    121\n",
       "Fa     35\n",
       "Name: BsmtQual, dtype: int64"
      ]
     },
     "execution_count": 16,
     "metadata": {},
     "output_type": "execute_result"
    }
   ],
   "source": [
    "trainData['BsmtQual'].value_counts() #balance"
   ]
  },
  {
   "cell_type": "code",
   "execution_count": 17,
   "metadata": {},
   "outputs": [
    {
     "data": {
      "text/plain": [
       "TA    872\n",
       "Gd    487\n",
       "Ex     52\n",
       "Fa     12\n",
       "Name: ExterQual, dtype: int64"
      ]
     },
     "execution_count": 17,
     "metadata": {},
     "output_type": "execute_result"
    }
   ],
   "source": [
    "trainData2['ExterQual'].value_counts() #balance"
   ]
  },
  {
   "cell_type": "code",
   "execution_count": 18,
   "metadata": {},
   "outputs": [
    {
     "data": {
      "text/plain": [
       "Unf    430\n",
       "GLQ    418\n",
       "ALQ    220\n",
       "BLQ    148\n",
       "Rec    133\n",
       "LwQ     74\n",
       "Name: BsmtFinType1, dtype: int64"
      ]
     },
     "execution_count": 18,
     "metadata": {},
     "output_type": "execute_result"
    }
   ],
   "source": [
    "trainData2['BsmtFinType1'].value_counts() #balance "
   ]
  },
  {
   "cell_type": "code",
   "execution_count": 19,
   "metadata": {},
   "outputs": [],
   "source": [
    "#trainData2['Fireplaces'].value_counts() #balance"
   ]
  },
  {
   "cell_type": "code",
   "execution_count": 20,
   "metadata": {},
   "outputs": [
    {
     "data": {
      "text/plain": [
       "2    747\n",
       "1    635\n",
       "3     32\n",
       "0      9\n",
       "Name: FullBath, dtype: int64"
      ]
     },
     "execution_count": 20,
     "metadata": {},
     "output_type": "execute_result"
    }
   ],
   "source": [
    "trainData2['FullBath'].value_counts() #balance"
   ]
  },
  {
   "cell_type": "code",
   "execution_count": 21,
   "metadata": {},
   "outputs": [
    {
     "data": {
      "text/plain": [
       "2    802\n",
       "1    361\n",
       "3    181\n",
       "0     74\n",
       "4      5\n",
       "Name: GarageCars, dtype: int64"
      ]
     },
     "execution_count": 21,
     "metadata": {},
     "output_type": "execute_result"
    }
   ],
   "source": [
    "trainData2['GarageCars'].value_counts() #balance "
   ]
  },
  {
   "cell_type": "code",
   "execution_count": 22,
   "metadata": {},
   "outputs": [
    {
     "data": {
      "text/plain": [
       "5     382\n",
       "6     373\n",
       "7     318\n",
       "8     168\n",
       "4     103\n",
       "9      43\n",
       "10     18\n",
       "3      14\n",
       "2       3\n",
       "1       1\n",
       "Name: OverallQual, dtype: int64"
      ]
     },
     "execution_count": 22,
     "metadata": {},
     "output_type": "execute_result"
    }
   ],
   "source": [
    "trainData2['OverallQual'].value_counts() #balance  "
   ]
  },
  {
   "cell_type": "code",
   "execution_count": 23,
   "metadata": {},
   "outputs": [
    {
     "data": {
      "text/plain": [
       "<matplotlib.axes._subplots.AxesSubplot at 0x188ac338f98>"
      ]
     },
     "execution_count": 23,
     "metadata": {},
     "output_type": "execute_result"
    },
    {
     "data": {
      "image/png": "[encoded data removed]",
      "text/plain": [
       "<matplotlib.figure.Figure at 0x188ab828828>"
      ]
     },
     "metadata": {},
     "output_type": "display_data"
    }
   ],
   "source": [
    "import matplotlib as plt\n",
    "%matplotlib inline\n",
    "\n",
    "trainData2.SalePrice.hist() #check the skewness of our data"
   ]
  },
  {
   "cell_type": "code",
   "execution_count": 24,
   "metadata": {},
   "outputs": [],
   "source": [
    "medSale = np.median(trainData2.SalePrice) #use median to divide the data because our graph is a right-skewed\n",
    "high = trainData2.SalePrice >= medSale #if current saleprice is greater than median, set to high\n",
    "low = trainData2.SalePrice < medSale #if current saleprice is lower than median, set to low\n",
    "trainData2.loc[high,'SalePrice'] = \"High\"\n",
    "trainData2.loc[low,'SalePrice'] = \"Low\""
   ]
  },
  {
   "cell_type": "code",
   "execution_count": 25,
   "metadata": {},
   "outputs": [
    {
     "data": {
      "text/html": [
       "<div>\n",
       "<style scoped>\n",
       "    .dataframe tbody tr th:only-of-type {\n",
       "        vertical-align: middle;\n",
       "    }\n",
       "\n",
       "    .dataframe tbody tr th {\n",
       "        vertical-align: top;\n",
       "    }\n",
       "\n",
       "    .dataframe thead th {\n",
       "        text-align: right;\n",
       "    }\n",
       "</style>\n",
       "<table border=\"1\" class=\"dataframe\">\n",
       "  <thead>\n",
       "    <tr style=\"text-align: right;\">\n",
       "      <th></th>\n",
       "      <th>Foundation</th>\n",
       "      <th>1stFlrSF</th>\n",
       "      <th>KitchenQual</th>\n",
       "      <th>Fireplaces</th>\n",
       "      <th>HeatingQC</th>\n",
       "      <th>FullBath</th>\n",
       "      <th>BsmtQual</th>\n",
       "      <th>OpenPorchSF</th>\n",
       "      <th>ExterQual</th>\n",
       "      <th>OverallQual</th>\n",
       "      <th>BsmtFinType1</th>\n",
       "      <th>GarageArea</th>\n",
       "      <th>TotRmsAbvGrd</th>\n",
       "      <th>GarageCars</th>\n",
       "      <th>GrLivArea</th>\n",
       "      <th>SalePrice</th>\n",
       "    </tr>\n",
       "  </thead>\n",
       "  <tbody>\n",
       "    <tr>\n",
       "      <th>0</th>\n",
       "      <td>PConc</td>\n",
       "      <td>856</td>\n",
       "      <td>Gd</td>\n",
       "      <td>0</td>\n",
       "      <td>Ex</td>\n",
       "      <td>2</td>\n",
       "      <td>Gd</td>\n",
       "      <td>61</td>\n",
       "      <td>Gd</td>\n",
       "      <td>7</td>\n",
       "      <td>GLQ</td>\n",
       "      <td>548</td>\n",
       "      <td>8</td>\n",
       "      <td>2</td>\n",
       "      <td>1710</td>\n",
       "      <td>High</td>\n",
       "    </tr>\n",
       "    <tr>\n",
       "      <th>1</th>\n",
       "      <td>CBlock</td>\n",
       "      <td>1262</td>\n",
       "      <td>TA</td>\n",
       "      <td>1</td>\n",
       "      <td>Ex</td>\n",
       "      <td>2</td>\n",
       "      <td>Gd</td>\n",
       "      <td>0</td>\n",
       "      <td>TA</td>\n",
       "      <td>6</td>\n",
       "      <td>ALQ</td>\n",
       "      <td>460</td>\n",
       "      <td>6</td>\n",
       "      <td>2</td>\n",
       "      <td>1262</td>\n",
       "      <td>High</td>\n",
       "    </tr>\n",
       "    <tr>\n",
       "      <th>2</th>\n",
       "      <td>PConc</td>\n",
       "      <td>920</td>\n",
       "      <td>Gd</td>\n",
       "      <td>1</td>\n",
       "      <td>Ex</td>\n",
       "      <td>2</td>\n",
       "      <td>Gd</td>\n",
       "      <td>42</td>\n",
       "      <td>Gd</td>\n",
       "      <td>7</td>\n",
       "      <td>GLQ</td>\n",
       "      <td>608</td>\n",
       "      <td>6</td>\n",
       "      <td>2</td>\n",
       "      <td>1786</td>\n",
       "      <td>High</td>\n",
       "    </tr>\n",
       "    <tr>\n",
       "      <th>3</th>\n",
       "      <td>BrkTil</td>\n",
       "      <td>961</td>\n",
       "      <td>Gd</td>\n",
       "      <td>1</td>\n",
       "      <td>Gd</td>\n",
       "      <td>1</td>\n",
       "      <td>TA</td>\n",
       "      <td>35</td>\n",
       "      <td>TA</td>\n",
       "      <td>7</td>\n",
       "      <td>ALQ</td>\n",
       "      <td>642</td>\n",
       "      <td>7</td>\n",
       "      <td>3</td>\n",
       "      <td>1717</td>\n",
       "      <td>Low</td>\n",
       "    </tr>\n",
       "    <tr>\n",
       "      <th>4</th>\n",
       "      <td>PConc</td>\n",
       "      <td>1145</td>\n",
       "      <td>Gd</td>\n",
       "      <td>1</td>\n",
       "      <td>Ex</td>\n",
       "      <td>2</td>\n",
       "      <td>Gd</td>\n",
       "      <td>84</td>\n",
       "      <td>Gd</td>\n",
       "      <td>8</td>\n",
       "      <td>GLQ</td>\n",
       "      <td>836</td>\n",
       "      <td>9</td>\n",
       "      <td>3</td>\n",
       "      <td>2198</td>\n",
       "      <td>High</td>\n",
       "    </tr>\n",
       "  </tbody>\n",
       "</table>\n",
       "</div>"
      ],
      "text/plain": [
       "  Foundation  1stFlrSF KitchenQual  Fireplaces HeatingQC  FullBath BsmtQual  \\\n",
       "0      PConc       856          Gd           0        Ex         2       Gd   \n",
       "1     CBlock      1262          TA           1        Ex         2       Gd   \n",
       "2      PConc       920          Gd           1        Ex         2       Gd   \n",
       "3     BrkTil       961          Gd           1        Gd         1       TA   \n",
       "4      PConc      1145          Gd           1        Ex         2       Gd   \n",
       "\n",
       "   OpenPorchSF ExterQual  OverallQual BsmtFinType1  GarageArea  TotRmsAbvGrd  \\\n",
       "0           61        Gd            7          GLQ         548             8   \n",
       "1            0        TA            6          ALQ         460             6   \n",
       "2           42        Gd            7          GLQ         608             6   \n",
       "3           35        TA            7          ALQ         642             7   \n",
       "4           84        Gd            8          GLQ         836             9   \n",
       "\n",
       "   GarageCars  GrLivArea SalePrice  \n",
       "0           2       1710      High  \n",
       "1           2       1262      High  \n",
       "2           2       1786      High  \n",
       "3           3       1717       Low  \n",
       "4           3       2198      High  "
      ]
     },
     "execution_count": 25,
     "metadata": {},
     "output_type": "execute_result"
    }
   ],
   "source": [
    "trainData2.head()"
   ]
  },
  {
   "cell_type": "code",
   "execution_count": 31,
   "metadata": {},
   "outputs": [
    {
     "data": {
      "text/html": [
       "<div>\n",
       "<style scoped>\n",
       "    .dataframe tbody tr th:only-of-type {\n",
       "        vertical-align: middle;\n",
       "    }\n",
       "\n",
       "    .dataframe tbody tr th {\n",
       "        vertical-align: top;\n",
       "    }\n",
       "\n",
       "    .dataframe thead th {\n",
       "        text-align: right;\n",
       "    }\n",
       "</style>\n",
       "<table border=\"1\" class=\"dataframe\">\n",
       "  <thead>\n",
       "    <tr style=\"text-align: right;\">\n",
       "      <th></th>\n",
       "      <th>OpenPorchSF</th>\n",
       "      <th>OverallQual</th>\n",
       "      <th>GarageArea</th>\n",
       "      <th>TotRmsAbvGrd</th>\n",
       "      <th>GarageCars</th>\n",
       "      <th>GrLivArea</th>\n",
       "      <th>SalePrice</th>\n",
       "      <th>Foundation_BrkTil</th>\n",
       "      <th>Foundation_CBlock</th>\n",
       "      <th>Foundation_PConc</th>\n",
       "      <th>...</th>\n",
       "      <th>FullBath_2</th>\n",
       "      <th>FullBath_3</th>\n",
       "      <th>BsmtQual_Ex</th>\n",
       "      <th>BsmtQual_Fa</th>\n",
       "      <th>BsmtQual_Gd</th>\n",
       "      <th>BsmtQual_TA</th>\n",
       "      <th>ExterQual_Ex</th>\n",
       "      <th>ExterQual_Fa</th>\n",
       "      <th>ExterQual_Gd</th>\n",
       "      <th>ExterQual_TA</th>\n",
       "    </tr>\n",
       "  </thead>\n",
       "  <tbody>\n",
       "    <tr>\n",
       "      <th>0</th>\n",
       "      <td>61</td>\n",
       "      <td>7</td>\n",
       "      <td>548</td>\n",
       "      <td>8</td>\n",
       "      <td>2</td>\n",
       "      <td>1710</td>\n",
       "      <td>High</td>\n",
       "      <td>0</td>\n",
       "      <td>0</td>\n",
       "      <td>1</td>\n",
       "      <td>...</td>\n",
       "      <td>1</td>\n",
       "      <td>0</td>\n",
       "      <td>0</td>\n",
       "      <td>0</td>\n",
       "      <td>1</td>\n",
       "      <td>0</td>\n",
       "      <td>0</td>\n",
       "      <td>0</td>\n",
       "      <td>1</td>\n",
       "      <td>0</td>\n",
       "    </tr>\n",
       "    <tr>\n",
       "      <th>1</th>\n",
       "      <td>0</td>\n",
       "      <td>6</td>\n",
       "      <td>460</td>\n",
       "      <td>6</td>\n",
       "      <td>2</td>\n",
       "      <td>1262</td>\n",
       "      <td>High</td>\n",
       "      <td>0</td>\n",
       "      <td>1</td>\n",
       "      <td>0</td>\n",
       "      <td>...</td>\n",
       "      <td>1</td>\n",
       "      <td>0</td>\n",
       "      <td>0</td>\n",
       "      <td>0</td>\n",
       "      <td>1</td>\n",
       "      <td>0</td>\n",
       "      <td>0</td>\n",
       "      <td>0</td>\n",
       "      <td>0</td>\n",
       "      <td>1</td>\n",
       "    </tr>\n",
       "    <tr>\n",
       "      <th>2</th>\n",
       "      <td>42</td>\n",
       "      <td>7</td>\n",
       "      <td>608</td>\n",
       "      <td>6</td>\n",
       "      <td>2</td>\n",
       "      <td>1786</td>\n",
       "      <td>High</td>\n",
       "      <td>0</td>\n",
       "      <td>0</td>\n",
       "      <td>1</td>\n",
       "      <td>...</td>\n",
       "      <td>1</td>\n",
       "      <td>0</td>\n",
       "      <td>0</td>\n",
       "      <td>0</td>\n",
       "      <td>1</td>\n",
       "      <td>0</td>\n",
       "      <td>0</td>\n",
       "      <td>0</td>\n",
       "      <td>1</td>\n",
       "      <td>0</td>\n",
       "    </tr>\n",
       "    <tr>\n",
       "      <th>3</th>\n",
       "      <td>35</td>\n",
       "      <td>7</td>\n",
       "      <td>642</td>\n",
       "      <td>7</td>\n",
       "      <td>3</td>\n",
       "      <td>1717</td>\n",
       "      <td>Low</td>\n",
       "      <td>1</td>\n",
       "      <td>0</td>\n",
       "      <td>0</td>\n",
       "      <td>...</td>\n",
       "      <td>0</td>\n",
       "      <td>0</td>\n",
       "      <td>0</td>\n",
       "      <td>0</td>\n",
       "      <td>0</td>\n",
       "      <td>1</td>\n",
       "      <td>0</td>\n",
       "      <td>0</td>\n",
       "      <td>0</td>\n",
       "      <td>1</td>\n",
       "    </tr>\n",
       "    <tr>\n",
       "      <th>4</th>\n",
       "      <td>84</td>\n",
       "      <td>8</td>\n",
       "      <td>836</td>\n",
       "      <td>9</td>\n",
       "      <td>3</td>\n",
       "      <td>2198</td>\n",
       "      <td>High</td>\n",
       "      <td>0</td>\n",
       "      <td>0</td>\n",
       "      <td>1</td>\n",
       "      <td>...</td>\n",
       "      <td>1</td>\n",
       "      <td>0</td>\n",
       "      <td>0</td>\n",
       "      <td>0</td>\n",
       "      <td>1</td>\n",
       "      <td>0</td>\n",
       "      <td>0</td>\n",
       "      <td>0</td>\n",
       "      <td>1</td>\n",
       "      <td>0</td>\n",
       "    </tr>\n",
       "  </tbody>\n",
       "</table>\n",
       "<p>5 rows × 787 columns</p>\n",
       "</div>"
      ],
      "text/plain": [
       "   OpenPorchSF  OverallQual  GarageArea  TotRmsAbvGrd  GarageCars  GrLivArea  \\\n",
       "0           61            7         548             8           2       1710   \n",
       "1            0            6         460             6           2       1262   \n",
       "2           42            7         608             6           2       1786   \n",
       "3           35            7         642             7           3       1717   \n",
       "4           84            8         836             9           3       2198   \n",
       "\n",
       "  SalePrice  Foundation_BrkTil  Foundation_CBlock  Foundation_PConc  \\\n",
       "0      High                  0                  0                 1   \n",
       "1      High                  0                  1                 0   \n",
       "2      High                  0                  0                 1   \n",
       "3       Low                  1                  0                 0   \n",
       "4      High                  0                  0                 1   \n",
       "\n",
       "       ...       FullBath_2  FullBath_3  BsmtQual_Ex  BsmtQual_Fa  \\\n",
       "0      ...                1           0            0            0   \n",
       "1      ...                1           0            0            0   \n",
       "2      ...                1           0            0            0   \n",
       "3      ...                0           0            0            0   \n",
       "4      ...                1           0            0            0   \n",
       "\n",
       "   BsmtQual_Gd  BsmtQual_TA  ExterQual_Ex  ExterQual_Fa  ExterQual_Gd  \\\n",
       "0            1            0             0             0             1   \n",
       "1            1            0             0             0             0   \n",
       "2            1            0             0             0             1   \n",
       "3            0            1             0             0             0   \n",
       "4            1            0             0             0             1   \n",
       "\n",
       "   ExterQual_TA  \n",
       "0             0  \n",
       "1             1  \n",
       "2             0  \n",
       "3             1  \n",
       "4             0  \n",
       "\n",
       "[5 rows x 787 columns]"
      ]
     },
     "execution_count": 31,
     "metadata": {},
     "output_type": "execute_result"
    }
   ],
   "source": [
    "trainData3 = pd.get_dummies(trainData2, columns = ['Foundation','1stFlrSF','KitchenQual','BsmtFinType1','Fireplaces','HeatingQC','FullBath','BsmtQual','ExterQual'])\n",
    "#convert string to number by using one-hot coding\n",
    "trainData3.head()"
   ]
  },
  {
   "cell_type": "markdown",
   "metadata": {},
   "source": [
    "### 3. Model Training \n",
    "We will use Scikit-learn package to build a model.\n",
    "- http://scikit-learn.org/stable/\n",
    "\n",
    "Model Evaluation Method\n",
    "- Split into train set and test set"
   ]
  },
  {
   "cell_type": "code",
   "execution_count": 33,
   "metadata": {},
   "outputs": [],
   "source": [
    "trainData_X = trainData3.drop('SalePrice',axis = 1) #remove the predictor\n",
    "trainData_Y = trainData3.SalePrice #set the predictor\n",
    "\n",
    "from sklearn.model_selection import train_test_split\n",
    "X_train, X_test, y_train, y_test = train_test_split(trainData_X, trainData_Y,\n",
    "test_size = 0.4) #divide training and testing data by using hold-out method"
   ]
  },
  {
   "cell_type": "markdown",
   "metadata": {},
   "source": [
    "- Fit Logistic Regression model"
   ]
  },
  {
   "cell_type": "code",
   "execution_count": 34,
   "metadata": {},
   "outputs": [
    {
     "data": {
      "text/plain": [
       "LogisticRegression(C=1.0, class_weight=None, dual=False, fit_intercept=True,\n",
       "          intercept_scaling=1, max_iter=100, multi_class='ovr', n_jobs=1,\n",
       "          penalty='l2', random_state=None, solver='liblinear', tol=0.0001,\n",
       "          verbose=0, warm_start=False)"
      ]
     },
     "execution_count": 34,
     "metadata": {},
     "output_type": "execute_result"
    }
   ],
   "source": [
    "from sklearn import linear_model \n",
    "lr = linear_model.LogisticRegression() \n",
    "lr.fit(X_train,y_train) #train model using training data set"
   ]
  },
  {
   "cell_type": "code",
   "execution_count": 42,
   "metadata": {},
   "outputs": [],
   "source": [
    "yhat_train = lr.predict(X_train) #predict the our model using the training data"
   ]
  },
  {
   "cell_type": "code",
   "execution_count": 40,
   "metadata": {},
   "outputs": [
    {
     "name": "stdout",
     "output_type": "stream",
     "text": [
      "             precision    recall  f1-score   support\n",
      "\n",
      "       High       0.93      0.94      0.93       442\n",
      "        Low       0.93      0.93      0.93       411\n",
      "\n",
      "avg / total       0.93      0.93      0.93       853\n",
      "\n"
     ]
    }
   ],
   "source": [
    "from sklearn.metrics import classification_report\n",
    "print(classification_report(y_train, yhat_train, target_names =\n",
    "['High','Low'])) #show the performance report of model using the training predictor"
   ]
  },
  {
   "cell_type": "code",
   "execution_count": 43,
   "metadata": {},
   "outputs": [
    {
     "name": "stdout",
     "output_type": "stream",
     "text": [
      "Confusion matrix for train dataset: \n",
      "\n",
      "[[414  28]\n",
      " [ 30 381]]\n"
     ]
    }
   ],
   "source": [
    "from sklearn.metrics import confusion_matrix\n",
    "print(\"Confusion matrix for train dataset: \\n\")\n",
    "print(confusion_matrix(y_train,yhat_train)) #show confusion matrix "
   ]
  },
  {
   "cell_type": "markdown",
   "metadata": {},
   "source": [
    "### 4. Model Tuning &  Result Analysis \n",
    "\n",
    "Analyze the model results. Do you think the model is good enough? <br>\n",
    "Does it overfit or underfit the data? <br>\n",
    "Explain and provide evidence to support your claims.\n"
   ]
  },
  {
   "cell_type": "code",
   "execution_count": 53,
   "metadata": {},
   "outputs": [
    {
     "name": "stdout",
     "output_type": "stream",
     "text": [
      "             precision    recall  f1-score   support\n",
      "\n",
      "       High       0.89      0.91      0.90       272\n",
      "        Low       0.91      0.90      0.91       298\n",
      "\n",
      "avg / total       0.90      0.90      0.90       570\n",
      "\n"
     ]
    }
   ],
   "source": [
    "yhat_test = lr.predict(X_test) #predict the our model using the testing data\n",
    "from sklearn.metrics import classification_report\n",
    "print(classification_report(y_test, yhat_test, target_names =\n",
    "['High','Low'])) #show the performance report of model using the testing predictor"
   ]
  },
  {
   "cell_type": "code",
   "execution_count": 54,
   "metadata": {},
   "outputs": [
    {
     "name": "stdout",
     "output_type": "stream",
     "text": [
      "Confusion matrix for train dataset: \n",
      "\n",
      "[[247  25]\n",
      " [ 31 267]]\n"
     ]
    }
   ],
   "source": [
    "from sklearn.metrics import confusion_matrix\n",
    "print(\"Confusion matrix for train dataset: \\n\")\n",
    "print(confusion_matrix(y_test,yhat_test))  #show confusion matrix "
   ]
  },
  {
   "cell_type": "code",
   "execution_count": null,
   "metadata": {},
   "outputs": [],
   "source": [
    "'''Our Model is balanced. It is not overfitting because the value of the accuracy drops insignificantly \n",
    "when use the testing data. It is not underfitting because the value of the accuracy \n",
    "when using both training and test data is quite good'''"
   ]
  },
  {
   "cell_type": "markdown",
   "metadata": {},
   "source": [
    "### 5. (Optional) Mutlinomial Logistic Regression Model\n",
    "\n",
    "Binning the sale price into three classes : `Low`, `Medium`, `High`.\n",
    "Then, apply the logistic regression model and evaluate the model performance. <br>\n",
    "See http://scikit-learn.org/stable/modules/generated/sklearn.linear_model.LogisticRegression.html"
   ]
  },
  {
   "cell_type": "code",
   "execution_count": null,
   "metadata": {},
   "outputs": [],
   "source": []
  }
 ],
 "metadata": {
  "kernelspec": {
   "display_name": "Python 3",
   "language": "python",
   "name": "python3"
  },
  "language_info": {
   "codemirror_mode": {
    "name": "ipython",
    "version": 3
   },
   "file_extension": ".py",
   "mimetype": "text/x-python",
   "name": "python",
   "nbconvert_exporter": "python",
   "pygments_lexer": "ipython3",
   "version": "3.6.4"
  }
 },
 "nbformat": 4,
 "nbformat_minor": 2
}
