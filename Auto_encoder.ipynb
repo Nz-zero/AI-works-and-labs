{
 "cells": [
  {
   "cell_type": "code",
   "execution_count": 1,
   "metadata": {},
   "outputs": [
    {
     "name": "stderr",
     "output_type": "stream",
     "text": [
      "C:\\Users\\Nz-zero\\Anaconda3\\lib\\site-packages\\h5py\\__init__.py:36: FutureWarning: Conversion of the second argument of issubdtype from `float` to `np.floating` is deprecated. In future, it will be treated as `np.float64 == np.dtype(float).type`.\n",
      "  from ._conv import register_converters as _register_converters\n",
      "Using TensorFlow backend.\n"
     ]
    }
   ],
   "source": [
    "from keras.layers import Input, Dense\n",
    "from keras.models import Model\n",
    "from keras.datasets import mnist\n",
    "import numpy as np\n",
    "# use Matplotlib (don't ask)\n",
    "import matplotlib.pyplot as plt\n",
    "from keras import regularizers"
   ]
  },
  {
   "cell_type": "code",
   "execution_count": 2,
   "metadata": {},
   "outputs": [],
   "source": [
    "# this is the size of our encoded representations\n",
    "encoding_dim = 32  # 32 floats -> compression of factor 24.5, assuming the input is 784 floats\n",
    "\n",
    "# this is our input placeholder\n",
    "input_img = Input(shape=(784,))\n",
    "# \"encoded\" is the encoded representation of the input\n",
    "encoded = Dense(encoding_dim, activation='relu')(input_img)\n",
    "# \"decoded\" is the lossy reconstruction of the input\n",
    "decoded = Dense(784, activation='sigmoid')(encoded)\n",
    "\n",
    "# this model maps an input to its reconstruction\n",
    "autoencoder = Model(input_img, decoded)"
   ]
  },
  {
   "cell_type": "code",
   "execution_count": 3,
   "metadata": {},
   "outputs": [],
   "source": [
    "# this model maps an input to its encoded representation\n",
    "encoder = Model(input_img, encoded)"
   ]
  },
  {
   "cell_type": "code",
   "execution_count": 4,
   "metadata": {},
   "outputs": [],
   "source": [
    "# create a placeholder for an encoded (32-dimensional) input\n",
    "encoded_input = Input(shape=(encoding_dim,))\n",
    "# retrieve the last layer of the autoencoder model\n",
    "decoder_layer = autoencoder.layers[-1]\n",
    "# create the decoder model\n",
    "decoder = Model(encoded_input, decoder_layer(encoded_input))"
   ]
  },
  {
   "cell_type": "code",
   "execution_count": 5,
   "metadata": {},
   "outputs": [],
   "source": [
    "autoencoder.compile(optimizer='adadelta', loss='binary_crossentropy')"
   ]
  },
  {
   "cell_type": "code",
   "execution_count": 6,
   "metadata": {},
   "outputs": [],
   "source": [
    "(x_train, _), (x_test, _) = mnist.load_data()"
   ]
  },
  {
   "cell_type": "code",
   "execution_count": 7,
   "metadata": {},
   "outputs": [
    {
     "name": "stdout",
     "output_type": "stream",
     "text": [
      "(60000, 784)\n",
      "(10000, 784)\n"
     ]
    }
   ],
   "source": [
    "x_train = x_train.astype('float32') / 255.\n",
    "x_test = x_test.astype('float32') / 255.\n",
    "x_train = x_train.reshape((len(x_train), np.prod(x_train.shape[1:])))\n",
    "x_test = x_test.reshape((len(x_test), np.prod(x_test.shape[1:])))\n",
    "print (x_train.shape)\n",
    "print (x_test.shape)"
   ]
  },
  {
   "cell_type": "code",
   "execution_count": 8,
   "metadata": {},
   "outputs": [
    {
     "name": "stdout",
     "output_type": "stream",
     "text": [
      "Train on 60000 samples, validate on 10000 samples\n",
      "Epoch 1/50\n",
      "60000/60000 [==============================] - 4s 59us/step - loss: 0.3631 - val_loss: 0.2714\n",
      "Epoch 2/50\n",
      "60000/60000 [==============================] - 1s 20us/step - loss: 0.2649 - val_loss: 0.2547\n",
      "Epoch 3/50\n",
      "60000/60000 [==============================] - 1s 20us/step - loss: 0.2439 - val_loss: 0.2307\n",
      "Epoch 4/50\n",
      "60000/60000 [==============================] - 1s 21us/step - loss: 0.2221 - val_loss: 0.2116\n",
      "Epoch 5/50\n",
      "60000/60000 [==============================] - 1s 22us/step - loss: 0.2062 - val_loss: 0.1985\n",
      "Epoch 6/50\n",
      "60000/60000 [==============================] - 1s 21us/step - loss: 0.1951 - val_loss: 0.1890\n",
      "Epoch 7/50\n",
      "60000/60000 [==============================] - 1s 21us/step - loss: 0.1869 - val_loss: 0.1818\n",
      "Epoch 8/50\n",
      "60000/60000 [==============================] - 1s 22us/step - loss: 0.1802 - val_loss: 0.1756\n",
      "Epoch 9/50\n",
      "60000/60000 [==============================] - 1s 20us/step - loss: 0.1744 - val_loss: 0.1702\n",
      "Epoch 10/50\n",
      "60000/60000 [==============================] - 1s 20us/step - loss: 0.1691 - val_loss: 0.1652\n",
      "Epoch 11/50\n",
      "60000/60000 [==============================] - 1s 19us/step - loss: 0.1643 - val_loss: 0.1607\n",
      "Epoch 12/50\n",
      "60000/60000 [==============================] - 1s 19us/step - loss: 0.1600 - val_loss: 0.1566\n",
      "Epoch 13/50\n",
      "60000/60000 [==============================] - 1s 20us/step - loss: 0.1561 - val_loss: 0.1528\n",
      "Epoch 14/50\n",
      "60000/60000 [==============================] - 1s 20us/step - loss: 0.1525 - val_loss: 0.1494\n",
      "Epoch 15/50\n",
      "60000/60000 [==============================] - 1s 21us/step - loss: 0.1492 - val_loss: 0.1462\n",
      "Epoch 16/50\n",
      "60000/60000 [==============================] - 1s 21us/step - loss: 0.1461 - val_loss: 0.1433\n",
      "Epoch 17/50\n",
      "60000/60000 [==============================] - 1s 20us/step - loss: 0.1432 - val_loss: 0.1405\n",
      "Epoch 18/50\n",
      "60000/60000 [==============================] - 1s 21us/step - loss: 0.1405 - val_loss: 0.1378\n",
      "Epoch 19/50\n",
      "60000/60000 [==============================] - 1s 19us/step - loss: 0.1380 - val_loss: 0.1354\n",
      "Epoch 20/50\n",
      "60000/60000 [==============================] - 1s 21us/step - loss: 0.1356 - val_loss: 0.1330\n",
      "Epoch 21/50\n",
      "60000/60000 [==============================] - 1s 21us/step - loss: 0.1334 - val_loss: 0.1308\n",
      "Epoch 22/50\n",
      "60000/60000 [==============================] - 1s 21us/step - loss: 0.1312 - val_loss: 0.1287\n",
      "Epoch 23/50\n",
      "60000/60000 [==============================] - 1s 21us/step - loss: 0.1291 - val_loss: 0.1266\n",
      "Epoch 24/50\n",
      "60000/60000 [==============================] - 1s 19us/step - loss: 0.1271 - val_loss: 0.1247\n",
      "Epoch 25/50\n",
      "60000/60000 [==============================] - 1s 21us/step - loss: 0.1252 - val_loss: 0.1228\n",
      "Epoch 26/50\n",
      "60000/60000 [==============================] - 1s 20us/step - loss: 0.1234 - val_loss: 0.1211\n",
      "Epoch 27/50\n",
      "60000/60000 [==============================] - 1s 20us/step - loss: 0.1217 - val_loss: 0.1194\n",
      "Epoch 28/50\n",
      "60000/60000 [==============================] - 1s 20us/step - loss: 0.1201 - val_loss: 0.1178\n",
      "Epoch 29/50\n",
      "60000/60000 [==============================] - 1s 20us/step - loss: 0.1186 - val_loss: 0.1163\n",
      "Epoch 30/50\n",
      "60000/60000 [==============================] - 1s 22us/step - loss: 0.1172 - val_loss: 0.1150\n",
      "Epoch 31/50\n",
      "60000/60000 [==============================] - 1s 22us/step - loss: 0.1159 - val_loss: 0.1138\n",
      "Epoch 32/50\n",
      "60000/60000 [==============================] - 1s 20us/step - loss: 0.1147 - val_loss: 0.1126\n",
      "Epoch 33/50\n",
      "60000/60000 [==============================] - 1s 20us/step - loss: 0.1136 - val_loss: 0.1115\n",
      "Epoch 34/50\n",
      "60000/60000 [==============================] - 1s 20us/step - loss: 0.1126 - val_loss: 0.1105\n",
      "Epoch 35/50\n",
      "60000/60000 [==============================] - 1s 20us/step - loss: 0.1116 - val_loss: 0.1096\n",
      "Epoch 36/50\n",
      "60000/60000 [==============================] - 1s 20us/step - loss: 0.1107 - val_loss: 0.1087\n",
      "Epoch 37/50\n",
      "60000/60000 [==============================] - 1s 20us/step - loss: 0.1099 - val_loss: 0.1079\n",
      "Epoch 38/50\n",
      "60000/60000 [==============================] - 1s 20us/step - loss: 0.1091 - val_loss: 0.1072\n",
      "Epoch 39/50\n",
      "60000/60000 [==============================] - 1s 20us/step - loss: 0.1084 - val_loss: 0.1065\n",
      "Epoch 40/50\n",
      "60000/60000 [==============================] - 1s 21us/step - loss: 0.1078 - val_loss: 0.1058\n",
      "Epoch 41/50\n",
      "60000/60000 [==============================] - 1s 21us/step - loss: 0.1071 - val_loss: 0.1052\n",
      "Epoch 42/50\n",
      "60000/60000 [==============================] - 1s 21us/step - loss: 0.1065 - val_loss: 0.1047\n",
      "Epoch 43/50\n",
      "60000/60000 [==============================] - 1s 23us/step - loss: 0.1060 - val_loss: 0.1041\n",
      "Epoch 44/50\n",
      "60000/60000 [==============================] - 1s 23us/step - loss: 0.1055 - val_loss: 0.1037\n",
      "Epoch 45/50\n",
      "60000/60000 [==============================] - 1s 20us/step - loss: 0.1050 - val_loss: 0.1032\n",
      "Epoch 46/50\n",
      "60000/60000 [==============================] - 1s 21us/step - loss: 0.1045 - val_loss: 0.1027\n",
      "Epoch 47/50\n",
      "60000/60000 [==============================] - 1s 22us/step - loss: 0.1041 - val_loss: 0.1023\n",
      "Epoch 48/50\n",
      "60000/60000 [==============================] - 1s 21us/step - loss: 0.1037 - val_loss: 0.1019\n",
      "Epoch 49/50\n",
      "60000/60000 [==============================] - 1s 21us/step - loss: 0.1033 - val_loss: 0.1016\n",
      "Epoch 50/50\n",
      "60000/60000 [==============================] - 1s 22us/step - loss: 0.1030 - val_loss: 0.1012\n"
     ]
    }
   ],
   "source": [
    "history = autoencoder.fit(x_train, x_train,\n",
    "                epochs=50,\n",
    "                batch_size=256,\n",
    "                shuffle=True,\n",
    "                validation_data=(x_test, x_test))"
   ]
  },
  {
   "cell_type": "code",
   "execution_count": 9,
   "metadata": {},
   "outputs": [],
   "source": [
    "# encode and decode some digits\n",
    "# note that we take them from the *test* set\n",
    "encoded_imgs = encoder.predict(x_test)\n",
    "decoded_imgs = decoder.predict(encoded_imgs)"
   ]
  },
  {
   "cell_type": "code",
   "execution_count": 10,
   "metadata": {},
   "outputs": [
    {
     "data": {
      "image/png": "[encoded data removed]",
      "text/plain": [
       "<Figure size 1440x288 with 20 Axes>"
      ]
     },
     "metadata": {},
     "output_type": "display_data"
    }
   ],
   "source": [
    "# use Matplotlib (don't ask)\n",
    "import matplotlib.pyplot as plt\n",
    "\n",
    "n = 10  # how many digits we will display\n",
    "plt.figure(figsize=(20, 4))\n",
    "for i in range(n):\n",
    "    # display original\n",
    "    ax = plt.subplot(2, n, i + 1)\n",
    "    plt.imshow(x_test[i].reshape(28, 28))\n",
    "    plt.gray()\n",
    "    ax.get_xaxis().set_visible(False)\n",
    "    ax.get_yaxis().set_visible(False)\n",
    "\n",
    "    # display reconstruction\n",
    "    ax = plt.subplot(2, n, i + 1 + n)\n",
    "    plt.imshow(decoded_imgs[i].reshape(28, 28))\n",
    "    plt.gray()\n",
    "    ax.get_xaxis().set_visible(False)\n",
    "    ax.get_yaxis().set_visible(False)\n",
    "plt.show()"
   ]
  },
  {
   "cell_type": "code",
   "execution_count": 15,
   "metadata": {},
   "outputs": [],
   "source": [
    "# Plot training history\n",
    "def viz_loss(history): \n",
    "    \n",
    "    # Print the result from the last epoch\n",
    "    print('Last Training set loss: %s'%history.history['loss'][-1])\n",
    "    print('Last Validation set loss: %s'%history.history['val_loss'][-1])\n",
    "    \n",
    "    loss = history.history['loss']\n",
    "    val_loss = history.history['val_loss']\n",
    "    \n",
    "    epochs = range(1, len(loss) + 1)   \n",
    "    \n",
    "    plt.plot(epochs, loss, 'c--', label='Training loss')\n",
    "    plt.plot(epochs, val_loss, 'b', label='Validation loss')\n",
    "    plt.title('Training and validation loss')\n",
    "    plt.xlabel('Epochs')\n",
    "    plt.ylabel('Loss')\n",
    "    plt.legend()"
   ]
  },
  {
   "cell_type": "code",
   "execution_count": 16,
   "metadata": {},
   "outputs": [
    {
     "name": "stdout",
     "output_type": "stream",
     "text": [
      "Last Training set loss: 0.10295879312753678\n",
      "Last Validation set loss: 0.10122264952659607\n"
     ]
    },
    {
     "data": {
      "image/png": "[encoded data removed]",
      "text/plain": [
       "<Figure size 432x288 with 1 Axes>"
      ]
     },
     "metadata": {},
     "output_type": "display_data"
    }
   ],
   "source": [
    "# Visualize loss\n",
    "viz_loss(history)"
   ]
  }
 ],
 "metadata": {
  "kernelspec": {
   "display_name": "Python 3",
   "language": "python",
   "name": "python3"
  },
  "language_info": {
   "codemirror_mode": {
    "name": "ipython",
    "version": 3
   },
   "file_extension": ".py",
   "mimetype": "text/x-python",
   "name": "python",
   "nbconvert_exporter": "python",
   "pygments_lexer": "ipython3",
   "version": "3.6.5"
  }
 },
 "nbformat": 4,
 "nbformat_minor": 2
}
