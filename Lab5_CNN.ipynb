{
 "cells": [
  {
   "cell_type": "markdown",
   "metadata": {},
   "source": [
    "# Lab5 - Training Deep Convolutional Neural Network\n",
    "- Name1, Student's ID1\n",
    "- Name2, Student's ID2\n",
    "- Name3, Student's ID3\n",
    "\n",
    "Name your file to (first 2 student ID digit)_(last 4 student ID digit)*4.ipynb\n",
    "\n",
    "## Lab Instruction \n",
    "\n",
    "In this lab, you will learn to train a deep convolutional neural network using Keras library with Tensorflow backend. We will use MNIST and Cat vs Dog dataset.\n",
    "\n",
    "See http://yann.lecun.com/exdb/mnist <br>\n",
    "See https://www.kaggle.com/c/dogs-vs-cats/data"
   ]
  },
  {
   "cell_type": "code",
   "execution_count": null,
   "metadata": {},
   "outputs": [],
   "source": [
    "import keras\n",
    "from keras import models\n",
    "from keras import layers\n",
    "from keras import optimizers\n",
    "from keras import callbacks\n",
    "from keras import backend as K\n",
    "from keras.preprocessing import image\n",
    "from keras.datasets import mnist\n",
    "\n",
    "from sklearn.model_selection import train_test_split\n",
    "from sklearn.metrics import confusion_matrix, classification_report\n",
    "\n",
    "import numpy as np\n",
    "import matplotlib.pyplot as plt\n",
    "%matplotlib inline"
   ]
  },
  {
   "cell_type": "code",
   "execution_count": null,
   "metadata": {},
   "outputs": [],
   "source": [
    "%load _utils "
   ]
  },
  {
   "cell_type": "markdown",
   "metadata": {},
   "source": [
    "### 1. Load MNIST dataset "
   ]
  },
  {
   "cell_type": "code",
   "execution_count": null,
   "metadata": {},
   "outputs": [],
   "source": [
    "### Load dataset ###\n",
    "\n",
    "####################"
   ]
  },
  {
   "cell_type": "markdown",
   "metadata": {},
   "source": [
    "### 2. Preprocess data "
   ]
  },
  {
   "cell_type": "code",
   "execution_count": null,
   "metadata": {},
   "outputs": [],
   "source": []
  },
  {
   "cell_type": "markdown",
   "metadata": {},
   "source": [
    "### 3. Build a convolutional neural network \n",
    "Try to build a network that have a same or out perform our previous fully-connect model. (You can use any technique)"
   ]
  },
  {
   "cell_type": "code",
   "execution_count": null,
   "metadata": {},
   "outputs": [],
   "source": []
  },
  {
   "cell_type": "markdown",
   "metadata": {},
   "source": [
    "### 4. Trainig CNN Model "
   ]
  },
  {
   "cell_type": "code",
   "execution_count": 1,
   "metadata": {},
   "outputs": [],
   "source": [
    "### Split train and validation data ###\n",
    "\n",
    "#######################################"
   ]
  },
  {
   "cell_type": "code",
   "execution_count": null,
   "metadata": {},
   "outputs": [],
   "source": [
    "### Train model ###\n",
    "\n",
    "###################"
   ]
  },
  {
   "cell_type": "code",
   "execution_count": null,
   "metadata": {},
   "outputs": [],
   "source": [
    "show_result(history)"
   ]
  },
  {
   "cell_type": "markdown",
   "metadata": {},
   "source": [
    "### 5. Evaluate your model \n",
    "#### 5.1 Show the confusion matrix and classification report\n",
    "Using function ```evaluation_report(model,feature,label)``` define above to print the classification report"
   ]
  },
  {
   "cell_type": "code",
   "execution_count": null,
   "metadata": {},
   "outputs": [],
   "source": []
  },
  {
   "cell_type": "markdown",
   "metadata": {},
   "source": [
    "### 6.2 Show which image that your model incorrectly predict\n",
    "\n",
    "Using function ```show_false_prediction(pred_class, actual_feature, actual_label)``` that is define above to show which image that your model predict wrong."
   ]
  },
  {
   "cell_type": "code",
   "execution_count": null,
   "metadata": {},
   "outputs": [],
   "source": []
  },
  {
   "cell_type": "markdown",
   "metadata": {},
   "source": [
    "**Discuss the results**\n",
    "\n",
    "*Discussion*"
   ]
  },
  {
   "cell_type": "markdown",
   "metadata": {},
   "source": [
    "### 5. Data Augmentation \n",
    "\n",
    "Using the ```ImageDataGenerator``` module to generate more data. This technique is called data augmentation. It help generate more variation of the data which help prevent overfit and generalize better.\n",
    "\n",
    "Lookup in the Keras document to see what method does it provide. https://keras.io/preprocessing/image\n",
    "\n",
    "Becasue we want to build a data generator object, we have to re-load the data and specify rescale argument in ImageDataGenerator module."
   ]
  },
  {
   "cell_type": "code",
   "execution_count": null,
   "metadata": {},
   "outputs": [],
   "source": [
    "# Re-load the image data\n",
    "(X_train,y_train), (X_test,y_test) = mnist.load_data()\n",
    "\n",
    "# Because the ImageDataGenerator require tensor of 4 dimension \n",
    "# Reshape data to 4 dimension (batch, width, height, channel)\n",
    "def reshape_gray(data):\n",
    "    data = data.reshape(data.shape[0],data.shape[1],data.shape[2],1)\n",
    "    return data\n",
    "\n",
    "X_train = reshape_gray(X_train)\n",
    "X_test = reshape_gray(X_test)\n",
    "\n",
    "# split to validation set and train set\n",
    "X_train, X_val, y_train, y_val = train_test_split(X_train,y_train,test_size=0.1,random_state=0,stratify=y_train)"
   ]
  },
  {
   "cell_type": "code",
   "execution_count": null,
   "metadata": {},
   "outputs": [],
   "source": [
    "# update global variable\n",
    "IMG_WIDTH = X_train.shape[1]\n",
    "IMG_HEIGHT = X_train.shape[2]\n",
    "CHANNEL = X_train.shape[3]\n",
    "\n",
    "BATCH_SIZE = 32"
   ]
  },
  {
   "cell_type": "code",
   "execution_count": null,
   "metadata": {},
   "outputs": [],
   "source": [
    "# Define a generator for train set and test set\n",
    "\n",
    "train_datagen = image.ImageDataGenerator(rescale=1./255,\n",
    "                                  rotation_range=40,\n",
    "                                  width_shift_range=0.2,\n",
    "                                  height_shift_range=0.2,\n",
    "                                  shear_range=0.2,\n",
    "                                  zoom_range=0.2,\n",
    "                                  horizontal_flip=False)\n",
    "\n",
    "train_datagen = image.ImageDataGenerator(rescale=1./255)"
   ]
  },
  {
   "cell_type": "code",
   "execution_count": null,
   "metadata": {},
   "outputs": [],
   "source": [
    "# Create an Iterator object. \n",
    "train_generator = train_datagen.flow(X_train,y_train,\n",
    "                                    batch_size = BATCH_SIZE,\n",
    "                                    seed=0)\n",
    "\n",
    "validate_generator = test_datagen.flow(X_val,y_val,\n",
    "                                    batch_size = BATCH_SIZE,\n",
    "                                    shuffle=False)"
   ]
  },
  {
   "cell_type": "markdown",
   "metadata": {},
   "source": [
    "#### 5.2 Initialize new model using same network structure "
   ]
  },
  {
   "cell_type": "code",
   "execution_count": null,
   "metadata": {},
   "outputs": [],
   "source": []
  },
  {
   "cell_type": "markdown",
   "metadata": {},
   "source": [
    "#### 5.3 Train a model using Data Augmentation"
   ]
  },
  {
   "cell_type": "code",
   "execution_count": null,
   "metadata": {},
   "outputs": [],
   "source": [
    "# Using fit_generator to train your model. We don't need to specify the batch size since we already done that when we create Iterator\n",
    "history = cnn.fit_generator(train_generator, \n",
    "                              epochs=20, \n",
    "                              validation_data=validate_generator)\n",
    "show_result(history)"
   ]
  },
  {
   "cell_type": "markdown",
   "metadata": {},
   "source": [
    "#### 5.4 Evaluate your model"
   ]
  },
  {
   "cell_type": "code",
   "execution_count": null,
   "metadata": {},
   "outputs": [],
   "source": [
    "show_result(history)"
   ]
  },
  {
   "cell_type": "markdown",
   "metadata": {},
   "source": [
    "#### 5.5 Compare the result\n",
    "\n",
    "Compare the result between a model with data augmentation and without data augmentation"
   ]
  },
  {
   "cell_type": "code",
   "execution_count": null,
   "metadata": {},
   "outputs": [],
   "source": []
  },
  {
   "cell_type": "markdown",
   "metadata": {},
   "source": [
    "### 6. Visualize Layer Activation \n",
    "**Note:** the function is defined above."
   ]
  },
  {
   "cell_type": "code",
   "execution_count": null,
   "metadata": {},
   "outputs": [],
   "source": [
    "# Create an activation model (the model with convolution layer only)\n",
    "\n",
    "num_conv = # Number of convolutional layer in your model (if more than 4, just used 4)\n",
    "layer_outputs = [layer.output for layer in cnn.layers[:num_conv]]\n",
    "activation_model = models.Model(inputs=cnn.input, outputs=layer_outputs)\n",
    "activation_model.summary()"
   ]
  },
  {
   "cell_type": "code",
   "execution_count": null,
   "metadata": {},
   "outputs": [],
   "source": [
    "from keras.preprocessing import image\n",
    "\n",
    "# load image to feed into network\n",
    "img = image.load_img('test_data_1.png',target_size=(28,28),grayscale=True)\n",
    "img_tensor = image.img_to_array(img)\n",
    "\n",
    "# Preprocess data\n",
    "img_tensor = np.expand_dims(image.img_to_array(img),axis=0)/255.\n",
    "\n",
    "# Feed into activation model to get an activation value\n",
    "activation = activation_model.predict(img_tensor)"
   ]
  },
  {
   "cell_type": "code",
   "execution_count": null,
   "metadata": {},
   "outputs": [],
   "source": [
    "### Feed your model and number of layer you want to show \n",
    "\n",
    "show_layer_activation(activation, model,num_layer)"
   ]
  },
  {
   "cell_type": "markdown",
   "metadata": {},
   "source": [
    "#### 6.1 What do you think the network can detect?"
   ]
  },
  {
   "cell_type": "code",
   "execution_count": null,
   "metadata": {},
   "outputs": [],
   "source": []
  },
  {
   "cell_type": "markdown",
   "metadata": {},
   "source": [
    "### 7. Visualize What The Model See"
   ]
  },
  {
   "cell_type": "code",
   "execution_count": null,
   "metadata": {},
   "outputs": [],
   "source": [
    "### Feed your model and layer name, ie. 'conv_1', that you want to show.\n",
    "\n",
    "visualize_filter(model,layer_name)"
   ]
  },
  {
   "cell_type": "markdown",
   "metadata": {},
   "source": [
    "#### 6.2 What do you think the network see?"
   ]
  },
  {
   "cell_type": "code",
   "execution_count": null,
   "metadata": {},
   "outputs": [],
   "source": []
  },
  {
   "cell_type": "markdown",
   "metadata": {},
   "source": [
    "### 8. Transfer Learning \n",
    "- What is transfer learning https://towardsdatascience.com/transfer-learning-946518f95666\n",
    "- which transfer learning method to use https://medium.com/@14prakash/transfer-learning-using-keras-d804b2e04ef8\n",
    "\n",
    "The following is a tutorial code to load and freeze some layer. Keras also come with a build-in pre-train network on imageNet dataset (See www.image-net.org)\n",
    "\n",
    "Keras Pre-train Network https://keras.io/applications\n",
    "\n",
    "#### 8.1.1 Use Build-in Pre-train Network\n",
    "Keras come with a build-in pre-train network that let you download and use it in your problem. You can import only model structure or import neuron weight that had been train on imageNet."
   ]
  },
  {
   "cell_type": "code",
   "execution_count": null,
   "metadata": {},
   "outputs": [],
   "source": [
    "from keras.applications import vgg16\n",
    "\n",
    "vgg = vgg16.VGG16(include_top=False, \n",
    "                  weights='imagenet',\n",
    "                  input_shape=(150,150,3))"
   ]
  },
  {
   "cell_type": "code",
   "execution_count": null,
   "metadata": {},
   "outputs": [],
   "source": [
    "vgg.summary()"
   ]
  },
  {
   "cell_type": "markdown",
   "metadata": {},
   "source": [
    "#### 8.1.2 Use Our Pre-train Network\n",
    "\n",
    "When we are doing the deep learning/machine learning project, sometime, we may encounter a similar problem. After several project, we will have many existing model that we experiment and develop. We can used these model as a pre-train network to solve a new problem. This can save a hugh cost (time and money) and jump start our new project very quickly."
   ]
  },
  {
   "cell_type": "code",
   "execution_count": null,
   "metadata": {},
   "outputs": [],
   "source": [
    "prev_cnn = models.load_model('your_previos_model.h5')\n",
    "prev_cnn.summary()"
   ]
  },
  {
   "cell_type": "code",
   "execution_count": null,
   "metadata": {},
   "outputs": [],
   "source": [
    "# Use .pop() to remove the last layer\n",
    "# In this case, we want to remove last two layer\n",
    "\n",
    "prev_cnn.pop()\n",
    "prev_cnn.pop()"
   ]
  },
  {
   "cell_type": "code",
   "execution_count": null,
   "metadata": {},
   "outputs": [],
   "source": [
    "# See how our model change\n",
    "prev_cnn.summary()"
   ]
  },
  {
   "cell_type": "markdown",
   "metadata": {},
   "source": [
    "For both method, if you want to change input size of your network, you have to create a model using functional API.\n",
    "See https://keras.io/models/model"
   ]
  },
  {
   "cell_type": "markdown",
   "metadata": {},
   "source": [
    "#### 8.2.1 Freezing layer - All"
   ]
  },
  {
   "cell_type": "code",
   "execution_count": null,
   "metadata": {},
   "outputs": [],
   "source": [
    "# If we don't want to train these layer, we have to freeze these layer. \n",
    "# Note that if we want a pre-train as a weight initializer, we don't have to freeze the layer.\n",
    "\n",
    "prev_cnn.trainable = False"
   ]
  },
  {
   "cell_type": "markdown",
   "metadata": {},
   "source": [
    "#### 8.2.2 Freezing layer - Specific layer"
   ]
  },
  {
   "cell_type": "code",
   "execution_count": null,
   "metadata": {},
   "outputs": [],
   "source": [
    "# Freeze a specific layers\n",
    "# Freeze first 3 layer\n",
    "for i in range(3):\n",
    "    prev_cnn.layers[i].trainable = False"
   ]
  },
  {
   "cell_type": "markdown",
   "metadata": {},
   "source": [
    "#### 8.3 Connnect your model"
   ]
  },
  {
   "cell_type": "code",
   "execution_count": null,
   "metadata": {},
   "outputs": [],
   "source": [
    "# Time to create a new model\n",
    "new_cnn = models.Sequential()\n",
    "\n",
    "# Add convolutional layer as a pre-train network\n",
    "new_cnn.add(prev_cnn)\n",
    "\n",
    "# Define fully-connect layer\n",
    "new_cnn.add(layers.Dense(256,activation='elu'))\n",
    "new_cnn.add(layers.Dropout(0.2))\n",
    "new_cnn.add(layers.Dense(10,activation='softmax',name='output'))\n",
    "\n",
    "# Show how your network looklike\n",
    "new_cnn.summary()"
   ]
  },
  {
   "cell_type": "markdown",
   "metadata": {},
   "source": [
    "After this process, you can use your network as the way you like. "
   ]
  },
  {
   "cell_type": "markdown",
   "metadata": {},
   "source": [
    "### Your Turn! Dog or Cat Application \n",
    "\n",
    "Now, it time to put everything together and develop and Cat vs Dog classifier model. Assume that you and your company want to get more attraction on your product by launching a new product that can classify whether it is a dog or a cat. You have decide that you want a precision more than 90 - 95% in order to launch to product.\n",
    "\n",
    "You have a cat and dog dataset contain total of 25000 images, 12500 for cat and other half for a dog.\n",
    "\n",
    "After successfully develop this model, you can try to play with it to see how it perform. (You can upload your selfies image to see you are a dog or a cat)\n",
    "\n",
    "Some note before start a project:\n",
    "1. You have to load a data into a project using any method (we are not using build-in data anymore!)\n",
    "2. You have to plan on how you will split a data.\n",
    "3. You have to preprocess your data before feed into a network. For example, cropping, padding, etc.\n",
    "4. You can come up with any model or use pre-train model. It depend on you!\n",
    "\n",
    "You have two week for this project so that you can compete with your competitor app! Now, create a new Jupyter notebook and start building a model!"
   ]
  },
  {
   "cell_type": "code",
   "execution_count": null,
   "metadata": {},
   "outputs": [],
   "source": []
  }
 ],
 "metadata": {
  "kernelspec": {
   "display_name": "Python 3",
   "language": "python",
   "name": "python3"
  },
  "language_info": {
   "codemirror_mode": {
    "name": "ipython",
    "version": 3
   },
   "file_extension": ".py",
   "mimetype": "text/x-python",
   "name": "python",
   "nbconvert_exporter": "python",
   "pygments_lexer": "ipython3",
   "version": "3.6.5"
  }
 },
 "nbformat": 4,
 "nbformat_minor": 2
}
