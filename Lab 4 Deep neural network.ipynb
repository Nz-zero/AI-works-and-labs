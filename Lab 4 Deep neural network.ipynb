{
 "cells": [
  {
   "cell_type": "markdown",
   "metadata": {},
   "source": [
    "# Lab4 - Training Deep Neural Network\n",
    "- Nattapat Yuvasuta, 59070501028\n",
    "- Niti     Buesamae, 59070501047\n",
    "\n",
    "Name your file to 59_1028_1047.ipynb\n",
    "\n",
    "## Lab Instruction \n",
    "\n",
    "In this lab, you will learn to train a deep fully-connect neural network using Keras library with Tensorflow backend. We will use MNIST data which is a Keras build-in dataset. \n",
    "\n",
    "See http://yann.lecun.com/exdb/mnist\n",
    "\n",
    "**Note:**\n",
    "Before doing any machine learning/deep learning project, you have to think about the following thing:\n",
    "1. What is your problem and your data?\n",
    "- What type of problem do you want to solve? What is your data? What are you trying to predict? Does your data have enough information for your model to predict the expected output?\n",
    "\n",
    "2. How do you measure your success?\n",
    "- What do you mean by good model performance? How do you know that your model is ready to be deploy?\n",
    "- Accuracy? Precision and recall? profit gain? ROC AUC?\n",
    "\n",
    "3. What is your evaluation method?\n",
    "- Hold-out method? CV? Iterate CV?\n",
    "\n",
    "4. How to preprocess your data before fed into a model?\n",
    "\n",
    "5. What is your baseline? What is a model structure? how does your last layer look like? What is your loss function? What is your optimization function? \n",
    "\n",
    "6. Develop a overfit model to figure out how big a model you need by\n",
    "6.1 Add more layer\n",
    "6.2 Make layer bigger\n",
    "6.3 Train more epochs\n",
    "\n",
    "7. Tune your model to balance the model performance between underfit and overfit (optimization vs generalization)\n",
    "\n",
    "First, import all important library to this project."
   ]
  },
  {
   "cell_type": "code",
   "execution_count": 2,
   "metadata": {},
   "outputs": [
    {
     "name": "stderr",
     "output_type": "stream",
     "text": [
      "C:\\Users\\Nz-zero\\Anaconda3\\lib\\site-packages\\h5py\\__init__.py:36: FutureWarning: Conversion of the second argument of issubdtype from `float` to `np.floating` is deprecated. In future, it will be treated as `np.float64 == np.dtype(float).type`.\n",
      "  from ._conv import register_converters as _register_converters\n",
      "Using TensorFlow backend.\n"
     ]
    }
   ],
   "source": [
    "import keras\n",
    "import numpy as np"
   ]
  },
  {
   "cell_type": "markdown",
   "metadata": {},
   "source": [
    "### 1. Load MNIST data"
   ]
  },
  {
   "cell_type": "code",
   "execution_count": 2,
   "metadata": {},
   "outputs": [],
   "source": [
    "from keras.datasets import mnist\n",
    "\n",
    "### Load Data ###\n",
    "(train_images, train_labels), (test_images, test_labels) = mnist.load_data()\n",
    "#################"
   ]
  },
  {
   "cell_type": "markdown",
   "metadata": {},
   "source": [
    "Learn more about the data. For example:\n",
    "- The distribution of a target class. \n",
    "- The characteristic of the input data. How does it looklike? \n",
    "- etc."
   ]
  },
  {
   "cell_type": "code",
   "execution_count": 3,
   "metadata": {},
   "outputs": [
    {
     "name": "stdout",
     "output_type": "stream",
     "text": [
      "Feature type: <class 'numpy.ndarray'>\n",
      "Label type: <class 'numpy.ndarray'>\n"
     ]
    }
   ],
   "source": [
    "print('Feature type: %s'%type(train_images))\n",
    "print('Label type: %s'%type(train_labels))"
   ]
  },
  {
   "cell_type": "code",
   "execution_count": 4,
   "metadata": {},
   "outputs": [
    {
     "name": "stdout",
     "output_type": "stream",
     "text": [
      "Train_set Feature shape: (60000, 28, 28)\n",
      "Train_set Label type: (60000,)\n",
      "Test_set Feature shape: (10000, 28, 28)\n",
      "Test_set Label type: (10000,)\n"
     ]
    }
   ],
   "source": [
    "print('Train_set Feature shape: %s'%str(train_images.shape))\n",
    "print('Train_set Label type: %s'%str(train_labels.shape))\n",
    "print('Test_set Feature shape: %s'%str(test_images.shape))\n",
    "print('Test_set Label type: %s'%str(test_labels.shape))"
   ]
  },
  {
   "cell_type": "code",
   "execution_count": 5,
   "metadata": {},
   "outputs": [
    {
     "data": {
      "text/plain": [
       "array([[  0,   0,   0,   0,   0,   0,   0,   0,   0,   0,   0,   0,   0,\n",
       "          0,   0,   0,   0,   0,   0,   0,   0,   0,   0,   0,   0,   0,\n",
       "          0,   0],\n",
       "       [  0,   0,   0,   0,   0,   0,   0,   0,   0,   0,   0,   0,   0,\n",
       "          0,   0,   0,   0,   0,   0,   0,   0,   0,   0,   0,   0,   0,\n",
       "          0,   0],\n",
       "       [  0,   0,   0,   0,   0,   0,   0,   0,   0,   0,   0,   0,   0,\n",
       "          0,   0,   0,   0,   0,   0,   0,   0,   0,   0,   0,   0,   0,\n",
       "          0,   0],\n",
       "       [  0,   0,   0,   0,   0,   0,   0,   0,   0,   0,   0,   0,   0,\n",
       "          0,   0,   0,   0,   0,   0,   0,   0,   0,   0,   0,   0,   0,\n",
       "          0,   0],\n",
       "       [  0,   0,   0,   0,   0,   0,   0,   0,   0,   0,   0,   0,   0,\n",
       "          0,   0,   0,   0,   0,   0,   0,   0,   0,   0,   0,   0,   0,\n",
       "          0,   0],\n",
       "       [  0,   0,   0,   0,   0,   0,   0,   0,   0,   0,   0,   0,   3,\n",
       "         18,  18,  18, 126, 136, 175,  26, 166, 255, 247, 127,   0,   0,\n",
       "          0,   0],\n",
       "       [  0,   0,   0,   0,   0,   0,   0,   0,  30,  36,  94, 154, 170,\n",
       "        253, 253, 253, 253, 253, 225, 172, 253, 242, 195,  64,   0,   0,\n",
       "          0,   0],\n",
       "       [  0,   0,   0,   0,   0,   0,   0,  49, 238, 253, 253, 253, 253,\n",
       "        253, 253, 253, 253, 251,  93,  82,  82,  56,  39,   0,   0,   0,\n",
       "          0,   0],\n",
       "       [  0,   0,   0,   0,   0,   0,   0,  18, 219, 253, 253, 253, 253,\n",
       "        253, 198, 182, 247, 241,   0,   0,   0,   0,   0,   0,   0,   0,\n",
       "          0,   0],\n",
       "       [  0,   0,   0,   0,   0,   0,   0,   0,  80, 156, 107, 253, 253,\n",
       "        205,  11,   0,  43, 154,   0,   0,   0,   0,   0,   0,   0,   0,\n",
       "          0,   0],\n",
       "       [  0,   0,   0,   0,   0,   0,   0,   0,   0,  14,   1, 154, 253,\n",
       "         90,   0,   0,   0,   0,   0,   0,   0,   0,   0,   0,   0,   0,\n",
       "          0,   0],\n",
       "       [  0,   0,   0,   0,   0,   0,   0,   0,   0,   0,   0, 139, 253,\n",
       "        190,   2,   0,   0,   0,   0,   0,   0,   0,   0,   0,   0,   0,\n",
       "          0,   0],\n",
       "       [  0,   0,   0,   0,   0,   0,   0,   0,   0,   0,   0,  11, 190,\n",
       "        253,  70,   0,   0,   0,   0,   0,   0,   0,   0,   0,   0,   0,\n",
       "          0,   0],\n",
       "       [  0,   0,   0,   0,   0,   0,   0,   0,   0,   0,   0,   0,  35,\n",
       "        241, 225, 160, 108,   1,   0,   0,   0,   0,   0,   0,   0,   0,\n",
       "          0,   0],\n",
       "       [  0,   0,   0,   0,   0,   0,   0,   0,   0,   0,   0,   0,   0,\n",
       "         81, 240, 253, 253, 119,  25,   0,   0,   0,   0,   0,   0,   0,\n",
       "          0,   0],\n",
       "       [  0,   0,   0,   0,   0,   0,   0,   0,   0,   0,   0,   0,   0,\n",
       "          0,  45, 186, 253, 253, 150,  27,   0,   0,   0,   0,   0,   0,\n",
       "          0,   0],\n",
       "       [  0,   0,   0,   0,   0,   0,   0,   0,   0,   0,   0,   0,   0,\n",
       "          0,   0,  16,  93, 252, 253, 187,   0,   0,   0,   0,   0,   0,\n",
       "          0,   0],\n",
       "       [  0,   0,   0,   0,   0,   0,   0,   0,   0,   0,   0,   0,   0,\n",
       "          0,   0,   0,   0, 249, 253, 249,  64,   0,   0,   0,   0,   0,\n",
       "          0,   0],\n",
       "       [  0,   0,   0,   0,   0,   0,   0,   0,   0,   0,   0,   0,   0,\n",
       "          0,  46, 130, 183, 253, 253, 207,   2,   0,   0,   0,   0,   0,\n",
       "          0,   0],\n",
       "       [  0,   0,   0,   0,   0,   0,   0,   0,   0,   0,   0,   0,  39,\n",
       "        148, 229, 253, 253, 253, 250, 182,   0,   0,   0,   0,   0,   0,\n",
       "          0,   0],\n",
       "       [  0,   0,   0,   0,   0,   0,   0,   0,   0,   0,  24, 114, 221,\n",
       "        253, 253, 253, 253, 201,  78,   0,   0,   0,   0,   0,   0,   0,\n",
       "          0,   0],\n",
       "       [  0,   0,   0,   0,   0,   0,   0,   0,  23,  66, 213, 253, 253,\n",
       "        253, 253, 198,  81,   2,   0,   0,   0,   0,   0,   0,   0,   0,\n",
       "          0,   0],\n",
       "       [  0,   0,   0,   0,   0,   0,  18, 171, 219, 253, 253, 253, 253,\n",
       "        195,  80,   9,   0,   0,   0,   0,   0,   0,   0,   0,   0,   0,\n",
       "          0,   0],\n",
       "       [  0,   0,   0,   0,  55, 172, 226, 253, 253, 253, 253, 244, 133,\n",
       "         11,   0,   0,   0,   0,   0,   0,   0,   0,   0,   0,   0,   0,\n",
       "          0,   0],\n",
       "       [  0,   0,   0,   0, 136, 253, 253, 253, 212, 135, 132,  16,   0,\n",
       "          0,   0,   0,   0,   0,   0,   0,   0,   0,   0,   0,   0,   0,\n",
       "          0,   0],\n",
       "       [  0,   0,   0,   0,   0,   0,   0,   0,   0,   0,   0,   0,   0,\n",
       "          0,   0,   0,   0,   0,   0,   0,   0,   0,   0,   0,   0,   0,\n",
       "          0,   0],\n",
       "       [  0,   0,   0,   0,   0,   0,   0,   0,   0,   0,   0,   0,   0,\n",
       "          0,   0,   0,   0,   0,   0,   0,   0,   0,   0,   0,   0,   0,\n",
       "          0,   0],\n",
       "       [  0,   0,   0,   0,   0,   0,   0,   0,   0,   0,   0,   0,   0,\n",
       "          0,   0,   0,   0,   0,   0,   0,   0,   0,   0,   0,   0,   0,\n",
       "          0,   0]], dtype=uint8)"
      ]
     },
     "execution_count": 5,
     "metadata": {},
     "output_type": "execute_result"
    }
   ],
   "source": [
    "train_images[0]"
   ]
  },
  {
   "cell_type": "code",
   "execution_count": 6,
   "metadata": {},
   "outputs": [
    {
     "data": {
      "text/plain": [
       "<matplotlib.image.AxesImage at 0x11ebab404a8>"
      ]
     },
     "execution_count": 6,
     "metadata": {},
     "output_type": "execute_result"
    },
    {
     "data": {
      "image/png": "[encoded data removed]",
      "text/plain": [
       "<Figure size 432x288 with 1 Axes>"
      ]
     },
     "metadata": {},
     "output_type": "display_data"
    }
   ],
   "source": [
    "digit = train_images[2]\n",
    "\n",
    "import matplotlib.pyplot as plt\n",
    "%matplotlib inline\n",
    "\n",
    "plt.imshow(digit,cmap=plt.cm.binary)"
   ]
  },
  {
   "cell_type": "code",
   "execution_count": 7,
   "metadata": {},
   "outputs": [
    {
     "data": {
      "text/plain": [
       "array([5, 0, 4, ..., 5, 6, 8], dtype=uint8)"
      ]
     },
     "execution_count": 7,
     "metadata": {},
     "output_type": "execute_result"
    }
   ],
   "source": [
    "train_labels"
   ]
  },
  {
   "cell_type": "markdown",
   "metadata": {},
   "source": [
    "### 2. Preprocess a data"
   ]
  },
  {
   "cell_type": "code",
   "execution_count": 8,
   "metadata": {},
   "outputs": [
    {
     "name": "stdout",
     "output_type": "stream",
     "text": [
      "(60000, 28, 28)\n",
      "(10000, 28, 28)\n"
     ]
    }
   ],
   "source": [
    "print(train_images.shape)\n",
    "print(test_images.shape)"
   ]
  },
  {
   "cell_type": "code",
   "execution_count": 9,
   "metadata": {},
   "outputs": [],
   "source": [
    "train_images = train_images.reshape(60000,28*28) # Reshape\n",
    "train_images = train_images.astype('float32')/255 # Normalize\n",
    "\n",
    "test_images = test_images.reshape(10000,28*28) # Reshape\n",
    "test_images = test_images.astype('float32')/255 # Normalize"
   ]
  },
  {
   "cell_type": "code",
   "execution_count": 10,
   "metadata": {},
   "outputs": [
    {
     "name": "stdout",
     "output_type": "stream",
     "text": [
      "(60000, 784)\n",
      "(10000, 784)\n"
     ]
    }
   ],
   "source": [
    "print(train_images.shape)\n",
    "print(test_images.shape)"
   ]
  },
  {
   "cell_type": "code",
   "execution_count": 11,
   "metadata": {},
   "outputs": [
    {
     "data": {
      "text/plain": [
       "array([0.        , 0.        , 0.        , 0.        , 0.        ,\n",
       "       0.        , 0.        , 0.        , 0.        , 0.        ,\n",
       "       0.        , 0.        , 0.        , 0.        , 0.        ,\n",
       "       0.        , 0.        , 0.        , 0.        , 0.        ,\n",
       "       0.        , 0.        , 0.        , 0.        , 0.        ,\n",
       "       0.        , 0.        , 0.        , 0.        , 0.        ,\n",
       "       0.        , 0.        , 0.        , 0.        , 0.        ,\n",
       "       0.        , 0.        , 0.        , 0.        , 0.        ,\n",
       "       0.        , 0.        , 0.        , 0.        , 0.        ,\n",
       "       0.        , 0.        , 0.        , 0.        , 0.        ,\n",
       "       0.        , 0.        , 0.        , 0.        , 0.        ,\n",
       "       0.        , 0.        , 0.        , 0.        , 0.        ,\n",
       "       0.        , 0.        , 0.        , 0.        , 0.        ,\n",
       "       0.        , 0.        , 0.        , 0.        , 0.        ,\n",
       "       0.        , 0.        , 0.        , 0.        , 0.        ,\n",
       "       0.        , 0.        , 0.        , 0.        , 0.        ,\n",
       "       0.        , 0.        , 0.        , 0.        , 0.        ,\n",
       "       0.        , 0.        , 0.        , 0.        , 0.        ,\n",
       "       0.        , 0.        , 0.        , 0.        , 0.        ,\n",
       "       0.        , 0.        , 0.        , 0.        , 0.        ,\n",
       "       0.        , 0.        , 0.        , 0.        , 0.        ,\n",
       "       0.        , 0.        , 0.        , 0.        , 0.        ,\n",
       "       0.        , 0.        , 0.        , 0.        , 0.        ,\n",
       "       0.        , 0.        , 0.        , 0.        , 0.        ,\n",
       "       0.        , 0.        , 0.        , 0.        , 0.        ,\n",
       "       0.        , 0.        , 0.        , 0.        , 0.        ,\n",
       "       0.        , 0.        , 0.        , 0.        , 0.        ,\n",
       "       0.        , 0.        , 0.        , 0.        , 0.        ,\n",
       "       0.        , 0.        , 0.        , 0.        , 0.        ,\n",
       "       0.        , 0.        , 0.        , 0.        , 0.        ,\n",
       "       0.        , 0.        , 0.01176471, 0.07058824, 0.07058824,\n",
       "       0.07058824, 0.49411765, 0.53333336, 0.6862745 , 0.10196079,\n",
       "       0.6509804 , 1.        , 0.96862745, 0.49803922, 0.        ,\n",
       "       0.        , 0.        , 0.        , 0.        , 0.        ,\n",
       "       0.        , 0.        , 0.        , 0.        , 0.        ,\n",
       "       0.        , 0.11764706, 0.14117648, 0.36862746, 0.6039216 ,\n",
       "       0.6666667 , 0.99215686, 0.99215686, 0.99215686, 0.99215686,\n",
       "       0.99215686, 0.88235295, 0.6745098 , 0.99215686, 0.9490196 ,\n",
       "       0.7647059 , 0.2509804 , 0.        , 0.        , 0.        ,\n",
       "       0.        , 0.        , 0.        , 0.        , 0.        ,\n",
       "       0.        , 0.        , 0.        , 0.19215687, 0.93333334,\n",
       "       0.99215686, 0.99215686, 0.99215686, 0.99215686, 0.99215686,\n",
       "       0.99215686, 0.99215686, 0.99215686, 0.9843137 , 0.3647059 ,\n",
       "       0.32156864, 0.32156864, 0.21960784, 0.15294118, 0.        ,\n",
       "       0.        , 0.        , 0.        , 0.        , 0.        ,\n",
       "       0.        , 0.        , 0.        , 0.        , 0.        ,\n",
       "       0.        , 0.07058824, 0.85882354, 0.99215686, 0.99215686,\n",
       "       0.99215686, 0.99215686, 0.99215686, 0.7764706 , 0.7137255 ,\n",
       "       0.96862745, 0.94509804, 0.        , 0.        , 0.        ,\n",
       "       0.        , 0.        , 0.        , 0.        , 0.        ,\n",
       "       0.        , 0.        , 0.        , 0.        , 0.        ,\n",
       "       0.        , 0.        , 0.        , 0.        , 0.        ,\n",
       "       0.3137255 , 0.6117647 , 0.41960785, 0.99215686, 0.99215686,\n",
       "       0.8039216 , 0.04313726, 0.        , 0.16862746, 0.6039216 ,\n",
       "       0.        , 0.        , 0.        , 0.        , 0.        ,\n",
       "       0.        , 0.        , 0.        , 0.        , 0.        ,\n",
       "       0.        , 0.        , 0.        , 0.        , 0.        ,\n",
       "       0.        , 0.        , 0.        , 0.        , 0.05490196,\n",
       "       0.00392157, 0.6039216 , 0.99215686, 0.3529412 , 0.        ,\n",
       "       0.        , 0.        , 0.        , 0.        , 0.        ,\n",
       "       0.        , 0.        , 0.        , 0.        , 0.        ,\n",
       "       0.        , 0.        , 0.        , 0.        , 0.        ,\n",
       "       0.        , 0.        , 0.        , 0.        , 0.        ,\n",
       "       0.        , 0.        , 0.        , 0.        , 0.54509807,\n",
       "       0.99215686, 0.74509805, 0.00784314, 0.        , 0.        ,\n",
       "       0.        , 0.        , 0.        , 0.        , 0.        ,\n",
       "       0.        , 0.        , 0.        , 0.        , 0.        ,\n",
       "       0.        , 0.        , 0.        , 0.        , 0.        ,\n",
       "       0.        , 0.        , 0.        , 0.        , 0.        ,\n",
       "       0.        , 0.        , 0.04313726, 0.74509805, 0.99215686,\n",
       "       0.27450982, 0.        , 0.        , 0.        , 0.        ,\n",
       "       0.        , 0.        , 0.        , 0.        , 0.        ,\n",
       "       0.        , 0.        , 0.        , 0.        , 0.        ,\n",
       "       0.        , 0.        , 0.        , 0.        , 0.        ,\n",
       "       0.        , 0.        , 0.        , 0.        , 0.        ,\n",
       "       0.        , 0.13725491, 0.94509804, 0.88235295, 0.627451  ,\n",
       "       0.42352942, 0.00392157, 0.        , 0.        , 0.        ,\n",
       "       0.        , 0.        , 0.        , 0.        , 0.        ,\n",
       "       0.        , 0.        , 0.        , 0.        , 0.        ,\n",
       "       0.        , 0.        , 0.        , 0.        , 0.        ,\n",
       "       0.        , 0.        , 0.        , 0.        , 0.        ,\n",
       "       0.31764707, 0.9411765 , 0.99215686, 0.99215686, 0.46666667,\n",
       "       0.09803922, 0.        , 0.        , 0.        , 0.        ,\n",
       "       0.        , 0.        , 0.        , 0.        , 0.        ,\n",
       "       0.        , 0.        , 0.        , 0.        , 0.        ,\n",
       "       0.        , 0.        , 0.        , 0.        , 0.        ,\n",
       "       0.        , 0.        , 0.        , 0.        , 0.1764706 ,\n",
       "       0.7294118 , 0.99215686, 0.99215686, 0.5882353 , 0.10588235,\n",
       "       0.        , 0.        , 0.        , 0.        , 0.        ,\n",
       "       0.        , 0.        , 0.        , 0.        , 0.        ,\n",
       "       0.        , 0.        , 0.        , 0.        , 0.        ,\n",
       "       0.        , 0.        , 0.        , 0.        , 0.        ,\n",
       "       0.        , 0.        , 0.        , 0.0627451 , 0.3647059 ,\n",
       "       0.9882353 , 0.99215686, 0.73333335, 0.        , 0.        ,\n",
       "       0.        , 0.        , 0.        , 0.        , 0.        ,\n",
       "       0.        , 0.        , 0.        , 0.        , 0.        ,\n",
       "       0.        , 0.        , 0.        , 0.        , 0.        ,\n",
       "       0.        , 0.        , 0.        , 0.        , 0.        ,\n",
       "       0.        , 0.        , 0.        , 0.9764706 , 0.99215686,\n",
       "       0.9764706 , 0.2509804 , 0.        , 0.        , 0.        ,\n",
       "       0.        , 0.        , 0.        , 0.        , 0.        ,\n",
       "       0.        , 0.        , 0.        , 0.        , 0.        ,\n",
       "       0.        , 0.        , 0.        , 0.        , 0.        ,\n",
       "       0.        , 0.        , 0.        , 0.18039216, 0.50980395,\n",
       "       0.7176471 , 0.99215686, 0.99215686, 0.8117647 , 0.00784314,\n",
       "       0.        , 0.        , 0.        , 0.        , 0.        ,\n",
       "       0.        , 0.        , 0.        , 0.        , 0.        ,\n",
       "       0.        , 0.        , 0.        , 0.        , 0.        ,\n",
       "       0.        , 0.        , 0.        , 0.        , 0.15294118,\n",
       "       0.5803922 , 0.8980392 , 0.99215686, 0.99215686, 0.99215686,\n",
       "       0.98039216, 0.7137255 , 0.        , 0.        , 0.        ,\n",
       "       0.        , 0.        , 0.        , 0.        , 0.        ,\n",
       "       0.        , 0.        , 0.        , 0.        , 0.        ,\n",
       "       0.        , 0.        , 0.        , 0.        , 0.        ,\n",
       "       0.09411765, 0.44705883, 0.8666667 , 0.99215686, 0.99215686,\n",
       "       0.99215686, 0.99215686, 0.7882353 , 0.30588236, 0.        ,\n",
       "       0.        , 0.        , 0.        , 0.        , 0.        ,\n",
       "       0.        , 0.        , 0.        , 0.        , 0.        ,\n",
       "       0.        , 0.        , 0.        , 0.        , 0.        ,\n",
       "       0.        , 0.09019608, 0.25882354, 0.8352941 , 0.99215686,\n",
       "       0.99215686, 0.99215686, 0.99215686, 0.7764706 , 0.31764707,\n",
       "       0.00784314, 0.        , 0.        , 0.        , 0.        ,\n",
       "       0.        , 0.        , 0.        , 0.        , 0.        ,\n",
       "       0.        , 0.        , 0.        , 0.        , 0.        ,\n",
       "       0.        , 0.        , 0.07058824, 0.67058825, 0.85882354,\n",
       "       0.99215686, 0.99215686, 0.99215686, 0.99215686, 0.7647059 ,\n",
       "       0.3137255 , 0.03529412, 0.        , 0.        , 0.        ,\n",
       "       0.        , 0.        , 0.        , 0.        , 0.        ,\n",
       "       0.        , 0.        , 0.        , 0.        , 0.        ,\n",
       "       0.        , 0.        , 0.        , 0.21568628, 0.6745098 ,\n",
       "       0.8862745 , 0.99215686, 0.99215686, 0.99215686, 0.99215686,\n",
       "       0.95686275, 0.52156866, 0.04313726, 0.        , 0.        ,\n",
       "       0.        , 0.        , 0.        , 0.        , 0.        ,\n",
       "       0.        , 0.        , 0.        , 0.        , 0.        ,\n",
       "       0.        , 0.        , 0.        , 0.        , 0.        ,\n",
       "       0.        , 0.53333336, 0.99215686, 0.99215686, 0.99215686,\n",
       "       0.83137256, 0.5294118 , 0.5176471 , 0.0627451 , 0.        ,\n",
       "       0.        , 0.        , 0.        , 0.        , 0.        ,\n",
       "       0.        , 0.        , 0.        , 0.        , 0.        ,\n",
       "       0.        , 0.        , 0.        , 0.        , 0.        ,\n",
       "       0.        , 0.        , 0.        , 0.        , 0.        ,\n",
       "       0.        , 0.        , 0.        , 0.        , 0.        ,\n",
       "       0.        , 0.        , 0.        , 0.        , 0.        ,\n",
       "       0.        , 0.        , 0.        , 0.        , 0.        ,\n",
       "       0.        , 0.        , 0.        , 0.        , 0.        ,\n",
       "       0.        , 0.        , 0.        , 0.        , 0.        ,\n",
       "       0.        , 0.        , 0.        , 0.        , 0.        ,\n",
       "       0.        , 0.        , 0.        , 0.        , 0.        ,\n",
       "       0.        , 0.        , 0.        , 0.        , 0.        ,\n",
       "       0.        , 0.        , 0.        , 0.        , 0.        ,\n",
       "       0.        , 0.        , 0.        , 0.        , 0.        ,\n",
       "       0.        , 0.        , 0.        , 0.        , 0.        ,\n",
       "       0.        , 0.        , 0.        , 0.        , 0.        ,\n",
       "       0.        , 0.        , 0.        , 0.        , 0.        ,\n",
       "       0.        , 0.        , 0.        , 0.        , 0.        ,\n",
       "       0.        , 0.        , 0.        , 0.        , 0.        ,\n",
       "       0.        , 0.        , 0.        , 0.        ], dtype=float32)"
      ]
     },
     "execution_count": 11,
     "metadata": {},
     "output_type": "execute_result"
    }
   ],
   "source": [
    "train_images[0]"
   ]
  },
  {
   "cell_type": "code",
   "execution_count": 12,
   "metadata": {},
   "outputs": [],
   "source": [
    "from keras.utils import to_categorical\n",
    "# use one-hot line\n",
    "train_labels = to_categorical(train_labels)\n",
    "test_labels = to_categorical(test_labels)"
   ]
  },
  {
   "cell_type": "code",
   "execution_count": 13,
   "metadata": {},
   "outputs": [
    {
     "data": {
      "text/plain": [
       "array([[0., 0., 0., ..., 1., 0., 0.],\n",
       "       [0., 0., 1., ..., 0., 0., 0.],\n",
       "       [0., 1., 0., ..., 0., 0., 0.],\n",
       "       ...,\n",
       "       [0., 0., 0., ..., 0., 0., 0.],\n",
       "       [0., 0., 0., ..., 0., 0., 0.],\n",
       "       [0., 0., 0., ..., 0., 0., 0.]], dtype=float32)"
      ]
     },
     "execution_count": 13,
     "metadata": {},
     "output_type": "execute_result"
    }
   ],
   "source": [
    "test_labels"
   ]
  },
  {
   "cell_type": "markdown",
   "metadata": {},
   "source": [
    "### 3. Build a model \n",
    "Using `Sequential()`, build a five-fully connect layer with 128 neuron each, *elu* as an activation function, and *he_initialier* as a weight initialier function. \n",
    "The output is a probability of each target class. We will use *Adam optimizer* with the *cross-entropy loss function*."
   ]
  },
  {
   "cell_type": "code",
   "execution_count": 14,
   "metadata": {},
   "outputs": [],
   "source": [
    "from keras import models\n",
    "from keras import layers"
   ]
  },
  {
   "cell_type": "code",
   "execution_count": 15,
   "metadata": {},
   "outputs": [],
   "source": [
    "network = models.Sequential()"
   ]
  },
  {
   "cell_type": "code",
   "execution_count": 16,
   "metadata": {},
   "outputs": [],
   "source": [
    "network.add(layers.Dense(128, activation='elu',kernel_initializer = 'he_normal',input_shape=(28*28,)))\n",
    "network.add(layers.Dense(128, activation='elu',kernel_initializer = 'he_normal'))\n",
    "network.add(layers.Dense(128, activation='elu',kernel_initializer = 'he_normal'))\n",
    "network.add(layers.Dense(128, activation='elu',kernel_initializer = 'he_normal'))\n",
    "network.add(layers.Dense(10, activation='softmax',kernel_initializer = 'he_normal'))"
   ]
  },
  {
   "cell_type": "code",
   "execution_count": 17,
   "metadata": {},
   "outputs": [],
   "source": [
    "network.compile(optimizer='adam',\n",
    "               loss='categorical_crossentropy',\n",
    "               metrics=['accuracy'])"
   ]
  },
  {
   "cell_type": "markdown",
   "metadata": {},
   "source": [
    "### 4. Train the model\n",
    "\n",
    "We will train a total of 10 epoch and a batch size of 128. \n",
    "\n",
    "To prevent an information leak to test set, which casue an overfit, we will split the data to train set, test set, and validation set. Doing so, we will split the training data into 90% train set and 10% validation set.\n",
    "\n",
    "Since keras `validation_split` argument split the last 10% of data to be validation set, the target class may not be equally distributed in validation set. Thus, we have to use `train_test_split`  from sklearn to split the data into train set and validation set. "
   ]
  },
  {
   "cell_type": "code",
   "execution_count": 18,
   "metadata": {},
   "outputs": [],
   "source": [
    "from sklearn.model_selection import train_test_split\n",
    "\n",
    "### Split data ###\n",
    "X_train, X_test, y_train, y_test = train_test_split(train_images, train_labels, test_size=0.10, random_state=42) \n",
    "##################"
   ]
  },
  {
   "cell_type": "code",
   "execution_count": 19,
   "metadata": {},
   "outputs": [
    {
     "name": "stdout",
     "output_type": "stream",
     "text": [
      "Train on 54000 samples, validate on 6000 samples\n",
      "Epoch 1/10\n"
     ]
    },
    {
     "ename": "InternalError",
     "evalue": "Blas GEMM launch failed : a.shape=(128, 784), b.shape=(784, 128), m=128, n=128, k=784\n\t [[{{node dense_1/MatMul}} = MatMul[T=DT_FLOAT, _class=[\"loc:@training/Adam/gradients/dense_1/MatMul_grad/MatMul_1\"], transpose_a=false, transpose_b=false, _device=\"/job:localhost/replica:0/task:0/device:GPU:0\"](_arg_dense_1_input_0_0/_95, dense_1/kernel/read)]]\n\t [[{{node metrics/acc/Mean/_119}} = _Recv[client_terminated=false, recv_device=\"/job:localhost/replica:0/task:0/device:CPU:0\", send_device=\"/job:localhost/replica:0/task:0/device:GPU:0\", send_device_incarnation=1, tensor_name=\"edge_710_metrics/acc/Mean\", tensor_type=DT_FLOAT, _device=\"/job:localhost/replica:0/task:0/device:CPU:0\"]()]]",
     "output_type": "error",
     "traceback": [
      "\u001b[1;31m---------------------------------------------------------------------------\u001b[0m",
      "\u001b[1;31mInternalError\u001b[0m                             Traceback (most recent call last)",
      "\u001b[1;32m<ipython-input-19-49bc27833512>\u001b[0m in \u001b[0;36m<module>\u001b[1;34m()\u001b[0m\n\u001b[0;32m      1\u001b[0m \u001b[1;31m### Fit the model ###\u001b[0m\u001b[1;33m\u001b[0m\u001b[1;33m\u001b[0m\u001b[0m\n\u001b[1;32m----> 2\u001b[1;33m \u001b[0mhistory\u001b[0m \u001b[1;33m=\u001b[0m \u001b[0mnetwork\u001b[0m\u001b[1;33m.\u001b[0m\u001b[0mfit\u001b[0m\u001b[1;33m(\u001b[0m\u001b[0mX_train\u001b[0m\u001b[1;33m,\u001b[0m\u001b[0my_train\u001b[0m\u001b[1;33m,\u001b[0m\u001b[0mepochs\u001b[0m\u001b[1;33m=\u001b[0m\u001b[1;36m10\u001b[0m\u001b[1;33m,\u001b[0m\u001b[0mbatch_size\u001b[0m\u001b[1;33m=\u001b[0m\u001b[1;36m128\u001b[0m\u001b[1;33m,\u001b[0m\u001b[0mvalidation_data\u001b[0m\u001b[1;33m=\u001b[0m\u001b[1;33m(\u001b[0m\u001b[0mX_test\u001b[0m\u001b[1;33m,\u001b[0m \u001b[0my_test\u001b[0m\u001b[1;33m)\u001b[0m\u001b[1;33m)\u001b[0m\u001b[1;33m\u001b[0m\u001b[0m\n\u001b[0m\u001b[0;32m      3\u001b[0m \u001b[1;31m#####################\u001b[0m\u001b[1;33m\u001b[0m\u001b[1;33m\u001b[0m\u001b[0m\n",
      "\u001b[1;32m~\\Anaconda3\\lib\\site-packages\\keras\\engine\\training.py\u001b[0m in \u001b[0;36mfit\u001b[1;34m(self, x, y, batch_size, epochs, verbose, callbacks, validation_split, validation_data, shuffle, class_weight, sample_weight, initial_epoch, steps_per_epoch, validation_steps, **kwargs)\u001b[0m\n\u001b[0;32m   1035\u001b[0m                                         \u001b[0minitial_epoch\u001b[0m\u001b[1;33m=\u001b[0m\u001b[0minitial_epoch\u001b[0m\u001b[1;33m,\u001b[0m\u001b[1;33m\u001b[0m\u001b[0m\n\u001b[0;32m   1036\u001b[0m                                         \u001b[0msteps_per_epoch\u001b[0m\u001b[1;33m=\u001b[0m\u001b[0msteps_per_epoch\u001b[0m\u001b[1;33m,\u001b[0m\u001b[1;33m\u001b[0m\u001b[0m\n\u001b[1;32m-> 1037\u001b[1;33m                                         validation_steps=validation_steps)\n\u001b[0m\u001b[0;32m   1038\u001b[0m \u001b[1;33m\u001b[0m\u001b[0m\n\u001b[0;32m   1039\u001b[0m     def evaluate(self, x=None, y=None,\n",
      "\u001b[1;32m~\\Anaconda3\\lib\\site-packages\\keras\\engine\\training_arrays.py\u001b[0m in \u001b[0;36mfit_loop\u001b[1;34m(model, f, ins, out_labels, batch_size, epochs, verbose, callbacks, val_f, val_ins, shuffle, callback_metrics, initial_epoch, steps_per_epoch, validation_steps)\u001b[0m\n\u001b[0;32m    197\u001b[0m                     \u001b[0mins_batch\u001b[0m\u001b[1;33m[\u001b[0m\u001b[0mi\u001b[0m\u001b[1;33m]\u001b[0m \u001b[1;33m=\u001b[0m \u001b[0mins_batch\u001b[0m\u001b[1;33m[\u001b[0m\u001b[0mi\u001b[0m\u001b[1;33m]\u001b[0m\u001b[1;33m.\u001b[0m\u001b[0mtoarray\u001b[0m\u001b[1;33m(\u001b[0m\u001b[1;33m)\u001b[0m\u001b[1;33m\u001b[0m\u001b[0m\n\u001b[0;32m    198\u001b[0m \u001b[1;33m\u001b[0m\u001b[0m\n\u001b[1;32m--> 199\u001b[1;33m                 \u001b[0mouts\u001b[0m \u001b[1;33m=\u001b[0m \u001b[0mf\u001b[0m\u001b[1;33m(\u001b[0m\u001b[0mins_batch\u001b[0m\u001b[1;33m)\u001b[0m\u001b[1;33m\u001b[0m\u001b[0m\n\u001b[0m\u001b[0;32m    200\u001b[0m                 \u001b[0mouts\u001b[0m \u001b[1;33m=\u001b[0m \u001b[0mto_list\u001b[0m\u001b[1;33m(\u001b[0m\u001b[0mouts\u001b[0m\u001b[1;33m)\u001b[0m\u001b[1;33m\u001b[0m\u001b[0m\n\u001b[0;32m    201\u001b[0m                 \u001b[1;32mfor\u001b[0m \u001b[0ml\u001b[0m\u001b[1;33m,\u001b[0m \u001b[0mo\u001b[0m \u001b[1;32min\u001b[0m \u001b[0mzip\u001b[0m\u001b[1;33m(\u001b[0m\u001b[0mout_labels\u001b[0m\u001b[1;33m,\u001b[0m \u001b[0mouts\u001b[0m\u001b[1;33m)\u001b[0m\u001b[1;33m:\u001b[0m\u001b[1;33m\u001b[0m\u001b[0m\n",
      "\u001b[1;32m~\\Anaconda3\\lib\\site-packages\\keras\\backend\\tensorflow_backend.py\u001b[0m in \u001b[0;36m__call__\u001b[1;34m(self, inputs)\u001b[0m\n\u001b[0;32m   2664\u001b[0m                 \u001b[1;32mreturn\u001b[0m \u001b[0mself\u001b[0m\u001b[1;33m.\u001b[0m\u001b[0m_legacy_call\u001b[0m\u001b[1;33m(\u001b[0m\u001b[0minputs\u001b[0m\u001b[1;33m)\u001b[0m\u001b[1;33m\u001b[0m\u001b[0m\n\u001b[0;32m   2665\u001b[0m \u001b[1;33m\u001b[0m\u001b[0m\n\u001b[1;32m-> 2666\u001b[1;33m             \u001b[1;32mreturn\u001b[0m \u001b[0mself\u001b[0m\u001b[1;33m.\u001b[0m\u001b[0m_call\u001b[0m\u001b[1;33m(\u001b[0m\u001b[0minputs\u001b[0m\u001b[1;33m)\u001b[0m\u001b[1;33m\u001b[0m\u001b[0m\n\u001b[0m\u001b[0;32m   2667\u001b[0m         \u001b[1;32melse\u001b[0m\u001b[1;33m:\u001b[0m\u001b[1;33m\u001b[0m\u001b[0m\n\u001b[0;32m   2668\u001b[0m             \u001b[1;32mif\u001b[0m \u001b[0mpy_any\u001b[0m\u001b[1;33m(\u001b[0m\u001b[0mis_tensor\u001b[0m\u001b[1;33m(\u001b[0m\u001b[0mx\u001b[0m\u001b[1;33m)\u001b[0m \u001b[1;32mfor\u001b[0m \u001b[0mx\u001b[0m \u001b[1;32min\u001b[0m \u001b[0minputs\u001b[0m\u001b[1;33m)\u001b[0m\u001b[1;33m:\u001b[0m\u001b[1;33m\u001b[0m\u001b[0m\n",
      "\u001b[1;32m~\\Anaconda3\\lib\\site-packages\\keras\\backend\\tensorflow_backend.py\u001b[0m in \u001b[0;36m_call\u001b[1;34m(self, inputs)\u001b[0m\n\u001b[0;32m   2634\u001b[0m                                 \u001b[0msymbol_vals\u001b[0m\u001b[1;33m,\u001b[0m\u001b[1;33m\u001b[0m\u001b[0m\n\u001b[0;32m   2635\u001b[0m                                 session)\n\u001b[1;32m-> 2636\u001b[1;33m         \u001b[0mfetched\u001b[0m \u001b[1;33m=\u001b[0m \u001b[0mself\u001b[0m\u001b[1;33m.\u001b[0m\u001b[0m_callable_fn\u001b[0m\u001b[1;33m(\u001b[0m\u001b[1;33m*\u001b[0m\u001b[0marray_vals\u001b[0m\u001b[1;33m)\u001b[0m\u001b[1;33m\u001b[0m\u001b[0m\n\u001b[0m\u001b[0;32m   2637\u001b[0m         \u001b[1;32mreturn\u001b[0m \u001b[0mfetched\u001b[0m\u001b[1;33m[\u001b[0m\u001b[1;33m:\u001b[0m\u001b[0mlen\u001b[0m\u001b[1;33m(\u001b[0m\u001b[0mself\u001b[0m\u001b[1;33m.\u001b[0m\u001b[0moutputs\u001b[0m\u001b[1;33m)\u001b[0m\u001b[1;33m]\u001b[0m\u001b[1;33m\u001b[0m\u001b[0m\n\u001b[0;32m   2638\u001b[0m \u001b[1;33m\u001b[0m\u001b[0m\n",
      "\u001b[1;32m~\\Anaconda3\\lib\\site-packages\\tensorflow\\python\\client\\session.py\u001b[0m in \u001b[0;36m__call__\u001b[1;34m(self, *args, **kwargs)\u001b[0m\n\u001b[0;32m   1397\u001b[0m           ret = tf_session.TF_SessionRunCallable(\n\u001b[0;32m   1398\u001b[0m               \u001b[0mself\u001b[0m\u001b[1;33m.\u001b[0m\u001b[0m_session\u001b[0m\u001b[1;33m.\u001b[0m\u001b[0m_session\u001b[0m\u001b[1;33m,\u001b[0m \u001b[0mself\u001b[0m\u001b[1;33m.\u001b[0m\u001b[0m_handle\u001b[0m\u001b[1;33m,\u001b[0m \u001b[0margs\u001b[0m\u001b[1;33m,\u001b[0m \u001b[0mstatus\u001b[0m\u001b[1;33m,\u001b[0m\u001b[1;33m\u001b[0m\u001b[0m\n\u001b[1;32m-> 1399\u001b[1;33m               run_metadata_ptr)\n\u001b[0m\u001b[0;32m   1400\u001b[0m         \u001b[1;32mif\u001b[0m \u001b[0mrun_metadata\u001b[0m\u001b[1;33m:\u001b[0m\u001b[1;33m\u001b[0m\u001b[0m\n\u001b[0;32m   1401\u001b[0m           \u001b[0mproto_data\u001b[0m \u001b[1;33m=\u001b[0m \u001b[0mtf_session\u001b[0m\u001b[1;33m.\u001b[0m\u001b[0mTF_GetBuffer\u001b[0m\u001b[1;33m(\u001b[0m\u001b[0mrun_metadata_ptr\u001b[0m\u001b[1;33m)\u001b[0m\u001b[1;33m\u001b[0m\u001b[0m\n",
      "\u001b[1;32m~\\Anaconda3\\lib\\site-packages\\tensorflow\\python\\framework\\errors_impl.py\u001b[0m in \u001b[0;36m__exit__\u001b[1;34m(self, type_arg, value_arg, traceback_arg)\u001b[0m\n\u001b[0;32m    524\u001b[0m             \u001b[1;32mNone\u001b[0m\u001b[1;33m,\u001b[0m \u001b[1;32mNone\u001b[0m\u001b[1;33m,\u001b[0m\u001b[1;33m\u001b[0m\u001b[0m\n\u001b[0;32m    525\u001b[0m             \u001b[0mcompat\u001b[0m\u001b[1;33m.\u001b[0m\u001b[0mas_text\u001b[0m\u001b[1;33m(\u001b[0m\u001b[0mc_api\u001b[0m\u001b[1;33m.\u001b[0m\u001b[0mTF_Message\u001b[0m\u001b[1;33m(\u001b[0m\u001b[0mself\u001b[0m\u001b[1;33m.\u001b[0m\u001b[0mstatus\u001b[0m\u001b[1;33m.\u001b[0m\u001b[0mstatus\u001b[0m\u001b[1;33m)\u001b[0m\u001b[1;33m)\u001b[0m\u001b[1;33m,\u001b[0m\u001b[1;33m\u001b[0m\u001b[0m\n\u001b[1;32m--> 526\u001b[1;33m             c_api.TF_GetCode(self.status.status))\n\u001b[0m\u001b[0;32m    527\u001b[0m     \u001b[1;31m# Delete the underlying status object from memory otherwise it stays alive\u001b[0m\u001b[1;33m\u001b[0m\u001b[1;33m\u001b[0m\u001b[0m\n\u001b[0;32m    528\u001b[0m     \u001b[1;31m# as there is a reference to status from this from the traceback due to\u001b[0m\u001b[1;33m\u001b[0m\u001b[1;33m\u001b[0m\u001b[0m\n",
      "\u001b[1;31mInternalError\u001b[0m: Blas GEMM launch failed : a.shape=(128, 784), b.shape=(784, 128), m=128, n=128, k=784\n\t [[{{node dense_1/MatMul}} = MatMul[T=DT_FLOAT, _class=[\"loc:@training/Adam/gradients/dense_1/MatMul_grad/MatMul_1\"], transpose_a=false, transpose_b=false, _device=\"/job:localhost/replica:0/task:0/device:GPU:0\"](_arg_dense_1_input_0_0/_95, dense_1/kernel/read)]]\n\t [[{{node metrics/acc/Mean/_119}} = _Recv[client_terminated=false, recv_device=\"/job:localhost/replica:0/task:0/device:CPU:0\", send_device=\"/job:localhost/replica:0/task:0/device:GPU:0\", send_device_incarnation=1, tensor_name=\"edge_710_metrics/acc/Mean\", tensor_type=DT_FLOAT, _device=\"/job:localhost/replica:0/task:0/device:CPU:0\"]()]]"
     ]
    }
   ],
   "source": [
    "### Fit the model ###\n",
    "history = network.fit(X_train,y_train,epochs=10,batch_size=128,validation_data=(X_test, y_test))\n",
    "#####################"
   ]
  },
  {
   "cell_type": "code",
   "execution_count": 20,
   "metadata": {},
   "outputs": [],
   "source": [
    "import  matplotlib.pyplot  as plt\n",
    "%matplotlib inline"
   ]
  },
  {
   "cell_type": "code",
   "execution_count": 21,
   "metadata": {},
   "outputs": [],
   "source": [
    "# The function argument is a record or history of the model during training process.\n",
    "def plot_loss_fn(history):\n",
    "    loss = history.history['loss']\n",
    "    val_loss = history.history['val_loss']\n",
    "\n",
    "    epochs = range(1, len(loss) + 1)\n",
    "\n",
    "    plt.plot(epochs, loss, 'bo', label='Training loss')\n",
    "    plt.plot(epochs, val_loss, 'b', label='Validation loss')\n",
    "    plt.title('Training and validation loss')\n",
    "    plt.xlabel('Epochs')\n",
    "    plt.ylabel('Loss')\n",
    "    plt.legend()\n",
    "    \n",
    "def plot_acc_fn(history):\n",
    "\n",
    "    acc = history.history['acc']\n",
    "    val_acc = history.history['val_acc']\n",
    "    \n",
    "    epochs = range(1, len(acc) + 1)\n",
    "\n",
    "    plt.plot(epochs, acc, 'bo', label='Training acc')\n",
    "    plt.plot(epochs, val_acc, 'b', label='Validation acc')\n",
    "    plt.title('Training and validation accuracy')\n",
    "    plt.xlabel('Epochs')\n",
    "    plt.ylabel('Acc')\n",
    "    plt.legend()"
   ]
  },
  {
   "cell_type": "code",
   "execution_count": 22,
   "metadata": {},
   "outputs": [
    {
     "data": {
      "image/png": "[encoded data removed]",
      "text/plain": [
       "<Figure size 432x288 with 1 Axes>"
      ]
     },
     "metadata": {},
     "output_type": "display_data"
    }
   ],
   "source": [
    "plot_acc_fn(history)"
   ]
  },
  {
   "cell_type": "code",
   "execution_count": 23,
   "metadata": {},
   "outputs": [
    {
     "data": {
      "image/png": "[encoded data removed]",
      "text/plain": [
       "<Figure size 432x288 with 1 Axes>"
      ]
     },
     "metadata": {},
     "output_type": "display_data"
    }
   ],
   "source": [
    "plot_loss_fn(history)"
   ]
  },
  {
   "cell_type": "markdown",
   "metadata": {},
   "source": [
    "### 5. Evalute the model\n",
    "\n",
    "Think of the metric that you want to evaluate/measure the performance of your model that can answer the following questions:\n",
    "- The model is overfit or underfit.\n",
    "- At which epoch/iteration that it converge or the model become overfit.\n",
    "- How does the model perform on each data class. What is an overall performace of your model?"
   ]
  },
  {
   "cell_type": "code",
   "execution_count": 24,
   "metadata": {},
   "outputs": [
    {
     "name": "stdout",
     "output_type": "stream",
     "text": [
      "60000/60000 [==============================] - 2s 32us/step\n",
      "Train Loss: 0.033339361066004006\n",
      "Train Accuracy: 0.9892833333333333\n"
     ]
    }
   ],
   "source": [
    "### Evaluate the model ###\n",
    "train_loss, train_acc = network.evaluate(train_images, train_labels)\n",
    "print('Train Loss: %s\\nTrain Accuracy: %s' % (train_loss,train_acc))\n",
    "##########################"
   ]
  },
  {
   "cell_type": "code",
   "execution_count": 25,
   "metadata": {},
   "outputs": [
    {
     "name": "stdout",
     "output_type": "stream",
     "text": [
      "10000/10000 [==============================] - 0s 33us/step\n",
      "Test Loss: 0.0967126220206279\n",
      "Test Accuracy: 0.9734\n"
     ]
    }
   ],
   "source": [
    "test_loss, test_acc = network.evaluate(test_images, test_labels)\n",
    "print('Test Loss: %s\\nTest Accuracy: %s' % (test_loss,test_acc))"
   ]
  },
  {
   "cell_type": "code",
   "execution_count": 26,
   "metadata": {},
   "outputs": [
    {
     "name": "stdout",
     "output_type": "stream",
     "text": [
      "Training----------\n",
      "             precision    recall  f1-score   support\n",
      "\n",
      "          0       1.00      0.99      0.99      5923\n",
      "          1       1.00      0.99      1.00      6742\n",
      "          2       0.99      0.98      0.99      5958\n",
      "          3       0.99      0.99      0.99      6131\n",
      "          4       1.00      0.98      0.99      5842\n",
      "          5       0.99      0.99      0.99      5421\n",
      "          6       1.00      0.98      0.99      5918\n",
      "          7       0.98      1.00      0.99      6265\n",
      "          8       0.97      1.00      0.98      5851\n",
      "          9       0.98      0.99      0.99      5949\n",
      "\n",
      "avg / total       0.99      0.99      0.99     60000\n",
      "\n",
      "[[5873    0    7    5    1    5   10    1    9   12]\n",
      " [   0 6700    8    4    2    2    0   12   12    2]\n",
      " [   2    1 5831   16   11    2    2   54   31    8]\n",
      " [   0    0   16 6075    0    7    0   13   19    1]\n",
      " [   0    3    0    0 5745    6    4   12    2   70]\n",
      " [   2    0    1   30    1 5363    4    2   17    1]\n",
      " [   7    1    0    2    7    8 5820    1   72    0]\n",
      " [   0    6   11    0    2    0    0 6236    5    5]\n",
      " [   2    2    5    3    1    7    0    1 5829    1]\n",
      " [   1    0    1   17    3    5    0   19   18 5885]]\n",
      "Testing----------\n",
      "             precision    recall  f1-score   support\n",
      "\n",
      "          0       0.99      0.98      0.99       980\n",
      "          1       0.99      0.99      0.99      1135\n",
      "          2       0.98      0.97      0.98      1032\n",
      "          3       0.96      0.98      0.97      1010\n",
      "          4       0.98      0.96      0.97       982\n",
      "          5       0.98      0.97      0.97       892\n",
      "          6       0.99      0.96      0.98       958\n",
      "          7       0.96      0.98      0.97      1028\n",
      "          8       0.94      0.98      0.96       974\n",
      "          9       0.96      0.96      0.96      1009\n",
      "\n",
      "avg / total       0.97      0.97      0.97     10000\n",
      "\n",
      "[[ 964    1    3    1    1    2    1    1    2    4]\n",
      " [   0 1121    2    2    0    0    1    1    8    0]\n",
      " [   0    1 1002    2    5    0    1   12    8    1]\n",
      " [   0    0    5  989    0    1    0    8    6    1]\n",
      " [   3    0    1    0  939    6    3    5    2   23]\n",
      " [   3    0    0   16    0  861    2    1    7    2]\n",
      " [   4    2    0    1    7    7  924    0   13    0]\n",
      " [   0    1    7    0    1    0    0 1012    5    2]\n",
      " [   0    0    1    3    4    3    0    3  956    4]\n",
      " [   3    2    0   13    4    2    0    8   11  966]]\n"
     ]
    }
   ],
   "source": [
    "import numpy as np\n",
    "from sklearn.metrics import classification_report, confusion_matrix\n",
    "\n",
    "### evaluate your model ###\n",
    "print(\"Training----------\")\n",
    "yhat_train = network.predict(train_images)\n",
    "yhat_train = np.argmax(yhat_train,axis = 1)\n",
    "yhat_train2 = np.argmax(train_labels,axis = 1)\n",
    "\n",
    "print(classification_report(yhat_train2, yhat_train))\n",
    "print(confusion_matrix(yhat_train2, yhat_train))\n",
    "print(\"Testing----------\")\n",
    "yhat_test = network.predict(test_images)\n",
    "yhat_test = np.argmax(yhat_test,axis = 1)\n",
    "yhat_test2 = np.argmax(test_labels,axis = 1)\n",
    "\n",
    "print(classification_report(yhat_test2, yhat_test))\n",
    "print(confusion_matrix(yhat_test2, yhat_test))"
   ]
  },
  {
   "cell_type": "markdown",
   "metadata": {},
   "source": [
    "### Answer\n",
    "It Over fitting<br>\n",
    "At third epoch the model started to overfitting because the validation accuracy started to be lower than the training accuracy.<br>\n",
    "From Confusion Matrix and classification report based on test set<br>\n",
    "0 : good<br>\n",
    "1 : good<br>\n",
    "2 : seems to be a little bit confuse with number 3<br>\n",
    "3 : good<br>\n",
    "4 : seems to be a little bit confuse with number 9<br>\n",
    "5 : quite good with a little bit confusing<br>\n",
    "6 : quite good with a little bit confusing<br>\n",
    "7 : good<br>\n",
    "8 : seems to be a little bit confuse with number 3<br>\n",
    "9 : quite good with a little bit confusing<br>\n",
    "Overall : quite good but it's overfitting from graph<br>\n"
   ]
  },
  {
   "cell_type": "markdown",
   "metadata": {},
   "source": [
    "### 6. Tune the model \n",
    "\n",
    "Try to tune your model by: \n",
    "1. Try Increasing epoch and see how it affect your model? Does the result better or it get overfit?\n",
    "2. Apply an early stop. What is the result do you get?\n",
    "4. Try adding regularizer l1 or l2 (or simutaneus l1, l2) to your model. How does it affect your model?\n",
    "5. Try to add dropout (any dropout rate) with every layer. How does it affect your model? Does it help reduce overfit?\n",
    "\n",
    "*Discuss the result from these step in the discssion section*\n",
    "\n",
    "After try above step, **try to achive the highest precision** by tuning the model using what you had aleady learn in the class.\n",
    "You can try to change the structure of the model by increase or decrease the layer and neuron node in each layer. (Use only fully-connect layer, don't use other type of layer yet!)\n",
    "\n",
    "You can also try to do a data augmentation.\n",
    "\n",
    "**The current highest precision of MNIST model is around 99.8%** ( Just try as must as possible, don't worry if you don't achieve this number of precision.)\n",
    "\n",
    "**Write  down what are you doing and why in each tuning step**"
   ]
  },
  {
   "cell_type": "markdown",
   "metadata": {},
   "source": [
    "<b>--> add more epochs from 10 to 20 to see if the number of epoch is going to affect to our model</b>"
   ]
  },
  {
   "cell_type": "code",
   "execution_count": 27,
   "metadata": {},
   "outputs": [],
   "source": [
    "network_0 = models.Sequential()"
   ]
  },
  {
   "cell_type": "code",
   "execution_count": 28,
   "metadata": {},
   "outputs": [],
   "source": [
    "network_0.add(layers.Dense(128, activation='elu',kernel_initializer = 'he_normal',input_shape=(28*28,)))\n",
    "network_0.add(layers.Dense(128, activation='elu',kernel_initializer = 'he_normal'))\n",
    "network_0.add(layers.Dense(128, activation='elu',kernel_initializer = 'he_normal'))\n",
    "network_0.add(layers.Dense(128, activation='elu',kernel_initializer = 'he_normal'))\n",
    "network_0.add(layers.Dense(10, activation='softmax',kernel_initializer = 'he_normal'))"
   ]
  },
  {
   "cell_type": "code",
   "execution_count": 29,
   "metadata": {},
   "outputs": [],
   "source": [
    "network_0.compile(optimizer='adam',\n",
    "               loss='categorical_crossentropy',\n",
    "               metrics=['accuracy'])"
   ]
  },
  {
   "cell_type": "code",
   "execution_count": 30,
   "metadata": {},
   "outputs": [],
   "source": [
    "img_train, img_test, lbl_train, lbl_test = train_test_split(train_images, train_labels, test_size=0.10, random_state=42) "
   ]
  },
  {
   "cell_type": "code",
   "execution_count": 31,
   "metadata": {},
   "outputs": [
    {
     "name": "stdout",
     "output_type": "stream",
     "text": [
      "Train on 54000 samples, validate on 6000 samples\n",
      "Epoch 1/20\n",
      "54000/54000 [==============================] - 2s 44us/step - loss: 0.2738 - acc: 0.9182 - val_loss: 0.1534 - val_acc: 0.9533\n",
      "Epoch 2/20\n",
      "54000/54000 [==============================] - 2s 36us/step - loss: 0.1181 - acc: 0.9634 - val_loss: 0.1024 - val_acc: 0.9693\n",
      "Epoch 3/20\n",
      "54000/54000 [==============================] - 2s 37us/step - loss: 0.0833 - acc: 0.9736 - val_loss: 0.0897 - val_acc: 0.9705\n",
      "Epoch 4/20\n",
      "54000/54000 [==============================] - 2s 40us/step - loss: 0.0671 - acc: 0.9781 - val_loss: 0.0797 - val_acc: 0.9773\n",
      "Epoch 5/20\n",
      "54000/54000 [==============================] - 2s 36us/step - loss: 0.0527 - acc: 0.9831 - val_loss: 0.0846 - val_acc: 0.9767\n",
      "Epoch 6/20\n",
      "54000/54000 [==============================] - 2s 36us/step - loss: 0.0444 - acc: 0.9852 - val_loss: 0.0767 - val_acc: 0.9788\n",
      "Epoch 7/20\n",
      "54000/54000 [==============================] - 2s 36us/step - loss: 0.0371 - acc: 0.9876 - val_loss: 0.0740 - val_acc: 0.9793\n",
      "Epoch 8/20\n",
      "54000/54000 [==============================] - 2s 38us/step - loss: 0.0325 - acc: 0.9890 - val_loss: 0.0945 - val_acc: 0.9767\n",
      "Epoch 9/20\n",
      "54000/54000 [==============================] - 2s 36us/step - loss: 0.0295 - acc: 0.9902 - val_loss: 0.0905 - val_acc: 0.9775\n",
      "Epoch 10/20\n",
      "54000/54000 [==============================] - 2s 36us/step - loss: 0.0238 - acc: 0.9921 - val_loss: 0.0806 - val_acc: 0.9800\n",
      "Epoch 11/20\n",
      "54000/54000 [==============================] - 2s 38us/step - loss: 0.0236 - acc: 0.9919 - val_loss: 0.0957 - val_acc: 0.9767\n",
      "Epoch 12/20\n",
      "54000/54000 [==============================] - 2s 43us/step - loss: 0.0226 - acc: 0.9925 - val_loss: 0.0905 - val_acc: 0.9775\n",
      "Epoch 13/20\n",
      "54000/54000 [==============================] - 2s 38us/step - loss: 0.0206 - acc: 0.9930 - val_loss: 0.0974 - val_acc: 0.9805\n",
      "Epoch 14/20\n",
      "54000/54000 [==============================] - 2s 38us/step - loss: 0.0186 - acc: 0.9937 - val_loss: 0.1027 - val_acc: 0.9783\n",
      "Epoch 15/20\n",
      "54000/54000 [==============================] - 2s 41us/step - loss: 0.0199 - acc: 0.9933 - val_loss: 0.1155 - val_acc: 0.9747\n",
      "Epoch 16/20\n",
      "54000/54000 [==============================] - 2s 40us/step - loss: 0.0152 - acc: 0.9951 - val_loss: 0.0975 - val_acc: 0.9798\n",
      "Epoch 17/20\n",
      "54000/54000 [==============================] - 2s 38us/step - loss: 0.0113 - acc: 0.9962 - val_loss: 0.1112 - val_acc: 0.9768\n",
      "Epoch 18/20\n",
      "54000/54000 [==============================] - 2s 38us/step - loss: 0.0193 - acc: 0.9940 - val_loss: 0.1078 - val_acc: 0.9777\n",
      "Epoch 19/20\n",
      "54000/54000 [==============================] - 2s 44us/step - loss: 0.0190 - acc: 0.9936 - val_loss: 0.1289 - val_acc: 0.9772\n",
      "Epoch 20/20\n",
      "54000/54000 [==============================] - 2s 39us/step - loss: 0.0136 - acc: 0.9954 - val_loss: 0.1143 - val_acc: 0.9797\n"
     ]
    }
   ],
   "source": [
    "history_0 = network_0.fit(img_train,lbl_train,epochs=20,batch_size=128,validation_data=(img_test, lbl_test))"
   ]
  },
  {
   "cell_type": "code",
   "execution_count": 32,
   "metadata": {},
   "outputs": [
    {
     "data": {
      "image/png": "[encoded data removed]",
      "text/plain": [
       "<Figure size 432x288 with 1 Axes>"
      ]
     },
     "metadata": {},
     "output_type": "display_data"
    }
   ],
   "source": [
    "plot_acc_fn(history_0)"
   ]
  },
  {
   "cell_type": "code",
   "execution_count": 33,
   "metadata": {},
   "outputs": [
    {
     "data": {
      "image/png": "[encoded data removed]",
      "text/plain": [
       "<Figure size 432x288 with 1 Axes>"
      ]
     },
     "metadata": {},
     "output_type": "display_data"
    }
   ],
   "source": [
    "plot_loss_fn(history_0)"
   ]
  },
  {
   "cell_type": "markdown",
   "metadata": {},
   "source": [
    "<b>--> add more epochs from 20 to 40 to see if the number of epoch is going to affect to our model</b>"
   ]
  },
  {
   "cell_type": "code",
   "execution_count": 34,
   "metadata": {},
   "outputs": [],
   "source": [
    "network_1 = models.Sequential()"
   ]
  },
  {
   "cell_type": "code",
   "execution_count": 35,
   "metadata": {},
   "outputs": [],
   "source": [
    "network_1.add(layers.Dense(128, activation='elu',kernel_initializer = 'he_normal',input_shape=(28*28,)))\n",
    "network_1.add(layers.Dense(128, activation='elu',kernel_initializer = 'he_normal'))\n",
    "network_1.add(layers.Dense(128, activation='elu',kernel_initializer = 'he_normal'))\n",
    "network_1.add(layers.Dense(128, activation='elu',kernel_initializer = 'he_normal'))\n",
    "network_1.add(layers.Dense(10, activation='softmax',kernel_initializer = 'he_normal'))"
   ]
  },
  {
   "cell_type": "code",
   "execution_count": 36,
   "metadata": {},
   "outputs": [],
   "source": [
    "network_1.compile(optimizer='adam',\n",
    "               loss='categorical_crossentropy',\n",
    "               metrics=['accuracy'])"
   ]
  },
  {
   "cell_type": "code",
   "execution_count": 37,
   "metadata": {},
   "outputs": [],
   "source": [
    "img_train, img_test, lbl_train, lbl_test = train_test_split(train_images, train_labels, test_size=0.10, random_state=42) "
   ]
  },
  {
   "cell_type": "code",
   "execution_count": 38,
   "metadata": {},
   "outputs": [
    {
     "name": "stdout",
     "output_type": "stream",
     "text": [
      "Train on 54000 samples, validate on 6000 samples\n",
      "Epoch 1/40\n",
      "54000/54000 [==============================] - 3s 48us/step - loss: 0.2749 - acc: 0.9164 - val_loss: 0.1342 - val_acc: 0.9595\n",
      "Epoch 2/40\n",
      "54000/54000 [==============================] - 2s 43us/step - loss: 0.1211 - acc: 0.9628 - val_loss: 0.1035 - val_acc: 0.9688\n",
      "Epoch 3/40\n",
      "54000/54000 [==============================] - 2s 40us/step - loss: 0.0847 - acc: 0.9734 - val_loss: 0.0916 - val_acc: 0.9723\n",
      "Epoch 4/40\n",
      "54000/54000 [==============================] - 2s 39us/step - loss: 0.0676 - acc: 0.9784 - val_loss: 0.0818 - val_acc: 0.9755\n",
      "Epoch 5/40\n",
      "54000/54000 [==============================] - 2s 40us/step - loss: 0.0529 - acc: 0.9829 - val_loss: 0.0815 - val_acc: 0.9757\n",
      "Epoch 6/40\n",
      "54000/54000 [==============================] - 2s 39us/step - loss: 0.0452 - acc: 0.9855 - val_loss: 0.0912 - val_acc: 0.9735\n",
      "Epoch 7/40\n",
      "54000/54000 [==============================] - 2s 38us/step - loss: 0.0365 - acc: 0.9880 - val_loss: 0.0849 - val_acc: 0.9752\n",
      "Epoch 8/40\n",
      "54000/54000 [==============================] - 2s 39us/step - loss: 0.0306 - acc: 0.9901 - val_loss: 0.0983 - val_acc: 0.9717\n",
      "Epoch 9/40\n",
      "54000/54000 [==============================] - 2s 41us/step - loss: 0.0270 - acc: 0.9909 - val_loss: 0.0800 - val_acc: 0.9775\n",
      "Epoch 10/40\n",
      "54000/54000 [==============================] - 2s 39us/step - loss: 0.0261 - acc: 0.9908 - val_loss: 0.1006 - val_acc: 0.9763\n",
      "Epoch 11/40\n",
      "54000/54000 [==============================] - 2s 38us/step - loss: 0.0239 - acc: 0.9919 - val_loss: 0.0984 - val_acc: 0.9753\n",
      "Epoch 12/40\n",
      "54000/54000 [==============================] - 2s 40us/step - loss: 0.0218 - acc: 0.9926 - val_loss: 0.0926 - val_acc: 0.9793\n",
      "Epoch 13/40\n",
      "54000/54000 [==============================] - 2s 44us/step - loss: 0.0174 - acc: 0.9944 - val_loss: 0.0780 - val_acc: 0.9832\n",
      "Epoch 14/40\n",
      "54000/54000 [==============================] - 2s 40us/step - loss: 0.0176 - acc: 0.9943 - val_loss: 0.0929 - val_acc: 0.9797\n",
      "Epoch 15/40\n",
      "54000/54000 [==============================] - 2s 39us/step - loss: 0.0220 - acc: 0.9926 - val_loss: 0.1141 - val_acc: 0.9773\n",
      "Epoch 16/40\n",
      "54000/54000 [==============================] - 2s 36us/step - loss: 0.0167 - acc: 0.9944 - val_loss: 0.1172 - val_acc: 0.9765\n",
      "Epoch 17/40\n",
      "54000/54000 [==============================] - 2s 39us/step - loss: 0.0142 - acc: 0.9954 - val_loss: 0.1024 - val_acc: 0.9805\n",
      "Epoch 18/40\n",
      "54000/54000 [==============================] - 2s 37us/step - loss: 0.0193 - acc: 0.9939 - val_loss: 0.1087 - val_acc: 0.9778\n",
      "Epoch 19/40\n",
      "54000/54000 [==============================] - 2s 38us/step - loss: 0.0080 - acc: 0.9974 - val_loss: 0.0901 - val_acc: 0.9817\n",
      "Epoch 20/40\n",
      "54000/54000 [==============================] - 2s 40us/step - loss: 0.0173 - acc: 0.9945 - val_loss: 0.1079 - val_acc: 0.9787\n",
      "Epoch 21/40\n",
      "54000/54000 [==============================] - 2s 44us/step - loss: 0.0163 - acc: 0.9946 - val_loss: 0.1006 - val_acc: 0.9820\n",
      "Epoch 22/40\n",
      "54000/54000 [==============================] - 2s 39us/step - loss: 0.0146 - acc: 0.9955 - val_loss: 0.1032 - val_acc: 0.9798\n",
      "Epoch 23/40\n",
      "54000/54000 [==============================] - 2s 39us/step - loss: 0.0172 - acc: 0.9946 - val_loss: 0.1226 - val_acc: 0.9800\n",
      "Epoch 24/40\n",
      "54000/54000 [==============================] - 2s 39us/step - loss: 0.0119 - acc: 0.9960 - val_loss: 0.1139 - val_acc: 0.9810\n",
      "Epoch 25/40\n",
      "54000/54000 [==============================] - 2s 36us/step - loss: 0.0081 - acc: 0.9976 - val_loss: 0.1023 - val_acc: 0.9807\n",
      "Epoch 26/40\n",
      "54000/54000 [==============================] - 2s 35us/step - loss: 0.0064 - acc: 0.9981 - val_loss: 0.1511 - val_acc: 0.9752\n",
      "Epoch 27/40\n",
      "54000/54000 [==============================] - 2s 35us/step - loss: 0.0232 - acc: 0.9932 - val_loss: 0.1343 - val_acc: 0.9780\n",
      "Epoch 28/40\n",
      "54000/54000 [==============================] - 2s 37us/step - loss: 0.0102 - acc: 0.9967 - val_loss: 0.1057 - val_acc: 0.9793\n",
      "Epoch 29/40\n",
      "54000/54000 [==============================] - 2s 39us/step - loss: 0.0108 - acc: 0.9967 - val_loss: 0.1212 - val_acc: 0.9807\n",
      "Epoch 30/40\n",
      "54000/54000 [==============================] - 2s 35us/step - loss: 0.0111 - acc: 0.9967 - val_loss: 0.1094 - val_acc: 0.9820\n",
      "Epoch 31/40\n",
      "54000/54000 [==============================] - 2s 35us/step - loss: 0.0075 - acc: 0.9978 - val_loss: 0.1197 - val_acc: 0.9777\n",
      "Epoch 32/40\n",
      "54000/54000 [==============================] - 2s 34us/step - loss: 0.0106 - acc: 0.9965 - val_loss: 0.1173 - val_acc: 0.9807\n",
      "Epoch 33/40\n",
      "54000/54000 [==============================] - 2s 37us/step - loss: 0.0133 - acc: 0.9957 - val_loss: 0.1067 - val_acc: 0.9818\n",
      "Epoch 34/40\n",
      "54000/54000 [==============================] - 2s 35us/step - loss: 0.0132 - acc: 0.9963 - val_loss: 0.1265 - val_acc: 0.9803\n",
      "Epoch 35/40\n",
      "54000/54000 [==============================] - 2s 35us/step - loss: 0.0145 - acc: 0.9958 - val_loss: 0.1202 - val_acc: 0.9790\n",
      "Epoch 36/40\n",
      "54000/54000 [==============================] - 2s 38us/step - loss: 0.0058 - acc: 0.9982 - val_loss: 0.0959 - val_acc: 0.9833\n",
      "Epoch 37/40\n",
      "54000/54000 [==============================] - 2s 44us/step - loss: 0.0057 - acc: 0.9984 - val_loss: 0.1256 - val_acc: 0.9777\n",
      "Epoch 38/40\n",
      "54000/54000 [==============================] - 2s 39us/step - loss: 0.0170 - acc: 0.9952 - val_loss: 0.1311 - val_acc: 0.9807\n",
      "Epoch 39/40\n",
      "54000/54000 [==============================] - 2s 39us/step - loss: 0.0081 - acc: 0.9976 - val_loss: 0.1222 - val_acc: 0.9812\n",
      "Epoch 40/40\n",
      "54000/54000 [==============================] - 2s 42us/step - loss: 0.0095 - acc: 0.9975 - val_loss: 0.1188 - val_acc: 0.9818\n"
     ]
    }
   ],
   "source": [
    "history_1 = network_1.fit(img_train,lbl_train,epochs=40,batch_size=128,validation_data=(img_test, lbl_test))"
   ]
  },
  {
   "cell_type": "code",
   "execution_count": 39,
   "metadata": {},
   "outputs": [
    {
     "data": {
      "image/png": "[encoded data removed]",
      "text/plain": [
       "<Figure size 432x288 with 1 Axes>"
      ]
     },
     "metadata": {},
     "output_type": "display_data"
    }
   ],
   "source": [
    "plot_acc_fn(history_1)"
   ]
  },
  {
   "cell_type": "code",
   "execution_count": 40,
   "metadata": {},
   "outputs": [
    {
     "data": {
      "image/png": "[encoded data removed]",
      "text/plain": [
       "<Figure size 432x288 with 1 Axes>"
      ]
     },
     "metadata": {},
     "output_type": "display_data"
    }
   ],
   "source": [
    "plot_loss_fn(history_1)"
   ]
  },
  {
   "cell_type": "markdown",
   "metadata": {},
   "source": [
    "Early Stop"
   ]
  },
  {
   "cell_type": "markdown",
   "metadata": {},
   "source": [
    "<b> --> to see if the early stop function really stop on second epoch that we observe from above which is the point that the mode start to overfit </b>"
   ]
  },
  {
   "cell_type": "code",
   "execution_count": 41,
   "metadata": {},
   "outputs": [
    {
     "name": "stdout",
     "output_type": "stream",
     "text": [
      "Train on 54000 samples, validate on 6000 samples\n",
      "Epoch 1/10\n",
      "54000/54000 [==============================] - 2s 39us/step - loss: 0.0077 - acc: 0.9979 - val_loss: 0.1406 - val_acc: 0.9767\n",
      "Epoch 2/10\n",
      "54000/54000 [==============================] - 2s 39us/step - loss: 0.0089 - acc: 0.9973 - val_loss: 0.1509 - val_acc: 0.9777\n"
     ]
    }
   ],
   "source": [
    "from keras.callbacks import EarlyStopping\n",
    "callbacks = [\n",
    "        EarlyStopping(monitor='val_loss', min_delta=0, patience=0, verbose=0, mode='auto', baseline=None)\n",
    "]\n",
    "history_es = network_1.fit(img_train,lbl_train,epochs=10,batch_size=128,validation_data=(img_test, lbl_test),callbacks=callbacks)"
   ]
  },
  {
   "cell_type": "code",
   "execution_count": 42,
   "metadata": {},
   "outputs": [
    {
     "data": {
      "image/png": "[encoded data removed]",
      "text/plain": [
       "<Figure size 432x288 with 1 Axes>"
      ]
     },
     "metadata": {},
     "output_type": "display_data"
    }
   ],
   "source": [
    "plot_acc_fn(history_es)"
   ]
  },
  {
   "cell_type": "code",
   "execution_count": 43,
   "metadata": {},
   "outputs": [
    {
     "data": {
      "image/png": "[encoded data removed]",
      "text/plain": [
       "<Figure size 432x288 with 1 Axes>"
      ]
     },
     "metadata": {},
     "output_type": "display_data"
    }
   ],
   "source": [
    "plot_loss_fn(history_es)"
   ]
  },
  {
   "cell_type": "markdown",
   "metadata": {},
   "source": [
    "Regularize l1 and l2"
   ]
  },
  {
   "cell_type": "markdown",
   "metadata": {},
   "source": [
    "<b>--> Test on l1 Regilarizer to see if it prevent the model from overfitting</b>"
   ]
  },
  {
   "cell_type": "code",
   "execution_count": 44,
   "metadata": {},
   "outputs": [],
   "source": [
    "from keras import regularizers\n",
    "network_2 = models.Sequential()"
   ]
  },
  {
   "cell_type": "code",
   "execution_count": 45,
   "metadata": {},
   "outputs": [],
   "source": [
    "network_2.add(layers.Dense(128, activation='elu',kernel_initializer = 'he_normal',input_shape=(28*28,),\n",
    "                           kernel_regularizer=regularizers.l1(0.01)))\n",
    "network_2.add(layers.Dense(128, activation='elu',kernel_initializer = 'he_normal', \n",
    "                           kernel_regularizer=regularizers.l1(0.01)))\n",
    "network_2.add(layers.Dense(128, activation='elu',kernel_initializer = 'he_normal', \n",
    "                           kernel_regularizer=regularizers.l1(0.01)))\n",
    "network_2.add(layers.Dense(128, activation='elu',kernel_initializer = 'he_normal', \n",
    "                           kernel_regularizer=regularizers.l1(0.01)))\n",
    "network_2.add(layers.Dense(10, activation='softmax',kernel_initializer = 'he_normal',\n",
    "                           kernel_regularizer=regularizers.l1(0.01)))"
   ]
  },
  {
   "cell_type": "code",
   "execution_count": 46,
   "metadata": {},
   "outputs": [],
   "source": [
    "network_2.compile(optimizer='adam',\n",
    "               loss='categorical_crossentropy',\n",
    "               metrics=['accuracy'])"
   ]
  },
  {
   "cell_type": "code",
   "execution_count": 47,
   "metadata": {},
   "outputs": [
    {
     "name": "stdout",
     "output_type": "stream",
     "text": [
      "Train on 54000 samples, validate on 6000 samples\n",
      "Epoch 1/10\n",
      "54000/54000 [==============================] - 3s 63us/step - loss: 16.6852 - acc: 0.4164 - val_loss: 2.4895 - val_acc: 0.2398\n",
      "Epoch 2/10\n",
      "54000/54000 [==============================] - 2s 44us/step - loss: 2.3311 - acc: 0.3079 - val_loss: 2.2205 - val_acc: 0.3727\n",
      "Epoch 3/10\n",
      "54000/54000 [==============================] - 2s 42us/step - loss: 2.1387 - acc: 0.4473 - val_loss: 2.0388 - val_acc: 0.5178\n",
      "Epoch 4/10\n",
      "54000/54000 [==============================] - 2s 45us/step - loss: 1.9789 - acc: 0.5357 - val_loss: 1.9391 - val_acc: 0.5360\n",
      "Epoch 5/10\n",
      "54000/54000 [==============================] - 2s 43us/step - loss: 1.8994 - acc: 0.5531 - val_loss: 1.8741 - val_acc: 0.5598\n",
      "Epoch 6/10\n",
      "54000/54000 [==============================] - 2s 43us/step - loss: 1.8622 - acc: 0.5686 - val_loss: 1.8376 - val_acc: 0.5748\n",
      "Epoch 7/10\n",
      "54000/54000 [==============================] - 2s 41us/step - loss: 1.8374 - acc: 0.5750 - val_loss: 1.8276 - val_acc: 0.5842\n",
      "Epoch 8/10\n",
      "54000/54000 [==============================] - 2s 43us/step - loss: 1.8197 - acc: 0.5842 - val_loss: 1.8105 - val_acc: 0.5937\n",
      "Epoch 9/10\n",
      "54000/54000 [==============================] - 2s 40us/step - loss: 1.8059 - acc: 0.5918 - val_loss: 1.7943 - val_acc: 0.5973\n",
      "Epoch 10/10\n",
      "54000/54000 [==============================] - 2s 39us/step - loss: 1.7915 - acc: 0.5966 - val_loss: 1.7762 - val_acc: 0.5970\n"
     ]
    }
   ],
   "source": [
    "history_rl = network_2.fit(img_train,lbl_train,epochs=10,batch_size=128,validation_data=(img_test, lbl_test))"
   ]
  },
  {
   "cell_type": "code",
   "execution_count": 48,
   "metadata": {},
   "outputs": [
    {
     "data": {
      "image/png": "[encoded data removed]",
      "text/plain": [
       "<Figure size 432x288 with 1 Axes>"
      ]
     },
     "metadata": {},
     "output_type": "display_data"
    }
   ],
   "source": [
    "plot_acc_fn(history_rl)"
   ]
  },
  {
   "cell_type": "code",
   "execution_count": 49,
   "metadata": {},
   "outputs": [
    {
     "data": {
      "image/png": "[encoded data removed]",
      "text/plain": [
       "<Figure size 432x288 with 1 Axes>"
      ]
     },
     "metadata": {},
     "output_type": "display_data"
    }
   ],
   "source": [
    "plot_loss_fn(history_rl)"
   ]
  },
  {
   "cell_type": "markdown",
   "metadata": {},
   "source": [
    "<b>--> Test on l2 Regilarizer to see if it prevent the model from overfitting</b>"
   ]
  },
  {
   "cell_type": "code",
   "execution_count": 50,
   "metadata": {},
   "outputs": [],
   "source": [
    "network_2_1 = models.Sequential()"
   ]
  },
  {
   "cell_type": "code",
   "execution_count": 51,
   "metadata": {},
   "outputs": [],
   "source": [
    "network_2_1.add(layers.Dense(128, activation='elu',kernel_initializer = 'he_normal',input_shape=(28*28,),\n",
    "                           kernel_regularizer=regularizers.l2(0.01)))\n",
    "network_2_1.add(layers.Dense(128, activation='elu',kernel_initializer = 'he_normal', \n",
    "                           kernel_regularizer=regularizers.l2(0.01)))\n",
    "network_2_1.add(layers.Dense(128, activation='elu',kernel_initializer = 'he_normal', \n",
    "                           kernel_regularizer=regularizers.l2(0.01)))\n",
    "network_2_1.add(layers.Dense(128, activation='elu',kernel_initializer = 'he_normal', \n",
    "                           kernel_regularizer=regularizers.l2(0.01)))\n",
    "network_2_1.add(layers.Dense(10, activation='softmax',kernel_initializer = 'he_normal',\n",
    "                           kernel_regularizer=regularizers.l2(0.01)))"
   ]
  },
  {
   "cell_type": "code",
   "execution_count": 52,
   "metadata": {},
   "outputs": [],
   "source": [
    "network_2_1.compile(optimizer='adam',\n",
    "               loss='categorical_crossentropy',\n",
    "               metrics=['accuracy'])"
   ]
  },
  {
   "cell_type": "code",
   "execution_count": 53,
   "metadata": {},
   "outputs": [
    {
     "name": "stdout",
     "output_type": "stream",
     "text": [
      "Train on 54000 samples, validate on 6000 samples\n",
      "Epoch 1/10\n",
      "54000/54000 [==============================] - 3s 53us/step - loss: 3.4559 - acc: 0.8800 - val_loss: 1.1049 - val_acc: 0.8927\n",
      "Epoch 2/10\n",
      "54000/54000 [==============================] - 2s 37us/step - loss: 0.9807 - acc: 0.8923 - val_loss: 0.9444 - val_acc: 0.8880\n",
      "Epoch 3/10\n",
      "54000/54000 [==============================] - 2s 38us/step - loss: 0.9168 - acc: 0.8915 - val_loss: 0.8811 - val_acc: 0.8998\n",
      "Epoch 4/10\n",
      "54000/54000 [==============================] - 2s 42us/step - loss: 0.8871 - acc: 0.8970 - val_loss: 0.8664 - val_acc: 0.9033\n",
      "Epoch 5/10\n",
      "54000/54000 [==============================] - 2s 38us/step - loss: 0.8758 - acc: 0.9001 - val_loss: 0.8733 - val_acc: 0.9027\n",
      "Epoch 6/10\n",
      "54000/54000 [==============================] - 2s 38us/step - loss: 0.8672 - acc: 0.9036 - val_loss: 0.8607 - val_acc: 0.9028\n",
      "Epoch 7/10\n",
      "54000/54000 [==============================] - 2s 38us/step - loss: 0.8620 - acc: 0.9060 - val_loss: 0.8488 - val_acc: 0.9093\n",
      "Epoch 8/10\n",
      "54000/54000 [==============================] - 2s 41us/step - loss: 0.8610 - acc: 0.9065 - val_loss: 0.8522 - val_acc: 0.9128\n",
      "Epoch 9/10\n",
      "54000/54000 [==============================] - 2s 41us/step - loss: 0.8562 - acc: 0.9070 - val_loss: 0.8552 - val_acc: 0.9065\n",
      "Epoch 10/10\n",
      "54000/54000 [==============================] - 2s 42us/step - loss: 0.8536 - acc: 0.9077 - val_loss: 0.8537 - val_acc: 0.9030\n"
     ]
    }
   ],
   "source": [
    "history_rl_2 = network_2_1.fit(img_train,lbl_train,epochs=10,batch_size=128,validation_data=(img_test, lbl_test))"
   ]
  },
  {
   "cell_type": "code",
   "execution_count": 54,
   "metadata": {},
   "outputs": [
    {
     "data": {
      "image/png": "[encoded data removed]",
      "text/plain": [
       "<Figure size 432x288 with 1 Axes>"
      ]
     },
     "metadata": {},
     "output_type": "display_data"
    }
   ],
   "source": [
    "plot_acc_fn(history_rl_2)"
   ]
  },
  {
   "cell_type": "code",
   "execution_count": 55,
   "metadata": {},
   "outputs": [
    {
     "data": {
      "image/png": "[encoded data removed]",
      "text/plain": [
       "<Figure size 432x288 with 1 Axes>"
      ]
     },
     "metadata": {},
     "output_type": "display_data"
    }
   ],
   "source": [
    "plot_loss_fn(history_rl_2)"
   ]
  },
  {
   "cell_type": "markdown",
   "metadata": {},
   "source": [
    "<b>--> Test on various dropout value to find the closest value of a optimal value of dropout </b>"
   ]
  },
  {
   "cell_type": "code",
   "execution_count": 56,
   "metadata": {},
   "outputs": [],
   "source": [
    "#dropout rate at 20%\n",
    "from keras.layers import Dropout\n",
    "network_3 = models.Sequential()"
   ]
  },
  {
   "cell_type": "code",
   "execution_count": 57,
   "metadata": {},
   "outputs": [],
   "source": [
    "network_3.add(layers.Dense(128, activation='elu',kernel_initializer = 'he_normal',input_shape=(28*28,)))\n",
    "network_3.add(Dropout(0.2))\n",
    "network_3.add(layers.Dense(128, activation='elu',kernel_initializer = 'he_normal'))\n",
    "network_3.add(Dropout(0.2))\n",
    "network_3.add(layers.Dense(128, activation='elu',kernel_initializer = 'he_normal'))\n",
    "network_3.add(Dropout(0.2))\n",
    "network_3.add(layers.Dense(128, activation='elu',kernel_initializer = 'he_normal'))\n",
    "network_3.add(Dropout(0.2))\n",
    "network_3.add(layers.Dense(10, activation='softmax',kernel_initializer = 'he_normal'))"
   ]
  },
  {
   "cell_type": "code",
   "execution_count": 58,
   "metadata": {},
   "outputs": [],
   "source": [
    "network_3.compile(optimizer='adam',\n",
    "               loss='categorical_crossentropy',\n",
    "               metrics=['accuracy'])"
   ]
  },
  {
   "cell_type": "code",
   "execution_count": 59,
   "metadata": {},
   "outputs": [
    {
     "name": "stdout",
     "output_type": "stream",
     "text": [
      "Train on 54000 samples, validate on 6000 samples\n",
      "Epoch 1/20\n",
      "54000/54000 [==============================] - 4s 70us/step - loss: 0.4575 - acc: 0.8574 - val_loss: 0.1840 - val_acc: 0.9397\n",
      "Epoch 2/20\n",
      "54000/54000 [==============================] - 3s 53us/step - loss: 0.2575 - acc: 0.9220 - val_loss: 0.1407 - val_acc: 0.9547\n",
      "Epoch 3/20\n",
      "54000/54000 [==============================] - 3s 56us/step - loss: 0.2043 - acc: 0.9391 - val_loss: 0.1186 - val_acc: 0.9625\n",
      "Epoch 4/20\n",
      "54000/54000 [==============================] - 3s 53us/step - loss: 0.1760 - acc: 0.9463 - val_loss: 0.1024 - val_acc: 0.9667\n",
      "Epoch 5/20\n",
      "54000/54000 [==============================] - 3s 55us/step - loss: 0.1533 - acc: 0.9519 - val_loss: 0.0890 - val_acc: 0.9727\n",
      "Epoch 6/20\n",
      "54000/54000 [==============================] - 3s 59us/step - loss: 0.1401 - acc: 0.9560 - val_loss: 0.0879 - val_acc: 0.9745\n",
      "Epoch 7/20\n",
      "54000/54000 [==============================] - 3s 54us/step - loss: 0.1298 - acc: 0.9598 - val_loss: 0.0814 - val_acc: 0.9745\n",
      "Epoch 8/20\n",
      "54000/54000 [==============================] - 3s 51us/step - loss: 0.1190 - acc: 0.9628 - val_loss: 0.0801 - val_acc: 0.9753\n",
      "Epoch 9/20\n",
      "54000/54000 [==============================] - 3s 52us/step - loss: 0.1098 - acc: 0.9655 - val_loss: 0.0767 - val_acc: 0.9775\n",
      "Epoch 10/20\n",
      "54000/54000 [==============================] - 3s 51us/step - loss: 0.1035 - acc: 0.9672 - val_loss: 0.0783 - val_acc: 0.9745\n",
      "Epoch 11/20\n",
      "54000/54000 [==============================] - 3s 52us/step - loss: 0.0962 - acc: 0.9695 - val_loss: 0.0704 - val_acc: 0.9807\n",
      "Epoch 12/20\n",
      "54000/54000 [==============================] - 2s 46us/step - loss: 0.0944 - acc: 0.9703 - val_loss: 0.0703 - val_acc: 0.9792\n",
      "Epoch 13/20\n",
      "54000/54000 [==============================] - 2s 45us/step - loss: 0.0880 - acc: 0.9724 - val_loss: 0.0729 - val_acc: 0.9802\n",
      "Epoch 14/20\n",
      "54000/54000 [==============================] - 3s 47us/step - loss: 0.0853 - acc: 0.9726 - val_loss: 0.0697 - val_acc: 0.9792\n",
      "Epoch 15/20\n",
      "54000/54000 [==============================] - 3s 48us/step - loss: 0.0823 - acc: 0.9744 - val_loss: 0.0738 - val_acc: 0.9798\n",
      "Epoch 16/20\n",
      "54000/54000 [==============================] - 3s 53us/step - loss: 0.0782 - acc: 0.9747 - val_loss: 0.0701 - val_acc: 0.9793\n",
      "Epoch 17/20\n",
      "54000/54000 [==============================] - 3s 54us/step - loss: 0.0753 - acc: 0.9763 - val_loss: 0.0610 - val_acc: 0.9833\n",
      "Epoch 18/20\n",
      "54000/54000 [==============================] - 3s 49us/step - loss: 0.0695 - acc: 0.9779 - val_loss: 0.0641 - val_acc: 0.9815\n",
      "Epoch 19/20\n",
      "54000/54000 [==============================] - 3s 57us/step - loss: 0.0703 - acc: 0.9773 - val_loss: 0.0596 - val_acc: 0.9835\n",
      "Epoch 20/20\n",
      "54000/54000 [==============================] - 4s 65us/step - loss: 0.0666 - acc: 0.9789 - val_loss: 0.0651 - val_acc: 0.9835\n"
     ]
    }
   ],
   "source": [
    "history_do = network_3.fit(img_train,lbl_train,epochs=20,batch_size=128,validation_data=(img_test, lbl_test))"
   ]
  },
  {
   "cell_type": "code",
   "execution_count": 60,
   "metadata": {},
   "outputs": [
    {
     "data": {
      "image/png": "[encoded data removed]",
      "text/plain": [
       "<Figure size 432x288 with 1 Axes>"
      ]
     },
     "metadata": {},
     "output_type": "display_data"
    }
   ],
   "source": [
    "plot_acc_fn(history_do)"
   ]
  },
  {
   "cell_type": "code",
   "execution_count": 61,
   "metadata": {},
   "outputs": [
    {
     "data": {
      "image/png": "[encoded data removed]",
      "text/plain": [
       "<Figure size 432x288 with 1 Axes>"
      ]
     },
     "metadata": {},
     "output_type": "display_data"
    }
   ],
   "source": [
    "plot_loss_fn(history_do)"
   ]
  },
  {
   "cell_type": "code",
   "execution_count": 62,
   "metadata": {},
   "outputs": [],
   "source": [
    "#dropout rate at 50%\n",
    "network_4 = models.Sequential()"
   ]
  },
  {
   "cell_type": "code",
   "execution_count": 63,
   "metadata": {},
   "outputs": [],
   "source": [
    "network_4.add(layers.Dense(128, activation='elu',kernel_initializer = 'he_normal',input_shape=(28*28,)))\n",
    "network_4.add(Dropout(0.5))\n",
    "network_4.add(layers.Dense(128, activation='elu',kernel_initializer = 'he_normal'))\n",
    "network_4.add(Dropout(0.5))\n",
    "network_4.add(layers.Dense(128, activation='elu',kernel_initializer = 'he_normal'))\n",
    "network_4.add(Dropout(0.5))\n",
    "network_4.add(layers.Dense(128, activation='elu',kernel_initializer = 'he_normal'))\n",
    "network_4.add(Dropout(0.5))\n",
    "network_4.add(layers.Dense(10, activation='softmax',kernel_initializer = 'he_normal'))"
   ]
  },
  {
   "cell_type": "code",
   "execution_count": 64,
   "metadata": {},
   "outputs": [],
   "source": [
    "network_4.compile(optimizer='adam',\n",
    "               loss='categorical_crossentropy',\n",
    "               metrics=['accuracy'])"
   ]
  },
  {
   "cell_type": "code",
   "execution_count": 65,
   "metadata": {},
   "outputs": [
    {
     "name": "stdout",
     "output_type": "stream",
     "text": [
      "Train on 54000 samples, validate on 6000 samples\n",
      "Epoch 1/20\n",
      "54000/54000 [==============================] - 5s 93us/step - loss: 1.2909 - acc: 0.6192 - val_loss: 0.3463 - val_acc: 0.8925\n",
      "Epoch 2/20\n",
      "54000/54000 [==============================] - 3s 56us/step - loss: 0.6386 - acc: 0.8060 - val_loss: 0.2836 - val_acc: 0.9163\n",
      "Epoch 3/20\n",
      "54000/54000 [==============================] - 3s 55us/step - loss: 0.5111 - acc: 0.8479 - val_loss: 0.2545 - val_acc: 0.9238\n",
      "Epoch 4/20\n",
      "54000/54000 [==============================] - 3s 65us/step - loss: 0.4419 - acc: 0.8689 - val_loss: 0.2390 - val_acc: 0.9278\n",
      "Epoch 5/20\n",
      "54000/54000 [==============================] - 3s 59us/step - loss: 0.4031 - acc: 0.8832 - val_loss: 0.2278 - val_acc: 0.9295\n",
      "Epoch 6/20\n",
      "54000/54000 [==============================] - 3s 64us/step - loss: 0.3760 - acc: 0.8892 - val_loss: 0.2113 - val_acc: 0.9327\n",
      "Epoch 7/20\n",
      "54000/54000 [==============================] - 3s 58us/step - loss: 0.3460 - acc: 0.8990 - val_loss: 0.1927 - val_acc: 0.9395\n",
      "Epoch 8/20\n",
      "54000/54000 [==============================] - 3s 55us/step - loss: 0.3329 - acc: 0.9050 - val_loss: 0.1793 - val_acc: 0.9442\n",
      "Epoch 9/20\n",
      "54000/54000 [==============================] - 3s 53us/step - loss: 0.3093 - acc: 0.9118 - val_loss: 0.1707 - val_acc: 0.9452\n",
      "Epoch 10/20\n",
      "54000/54000 [==============================] - 3s 49us/step - loss: 0.2969 - acc: 0.9151 - val_loss: 0.1566 - val_acc: 0.9503\n",
      "Epoch 11/20\n",
      "54000/54000 [==============================] - 3s 51us/step - loss: 0.2847 - acc: 0.9183 - val_loss: 0.1606 - val_acc: 0.9505\n",
      "Epoch 12/20\n",
      "54000/54000 [==============================] - 3s 49us/step - loss: 0.2706 - acc: 0.9222 - val_loss: 0.1523 - val_acc: 0.9530\n",
      "Epoch 13/20\n",
      "54000/54000 [==============================] - 3s 53us/step - loss: 0.2638 - acc: 0.9245 - val_loss: 0.1506 - val_acc: 0.9555\n",
      "Epoch 14/20\n",
      "54000/54000 [==============================] - 3s 53us/step - loss: 0.2494 - acc: 0.9283 - val_loss: 0.1373 - val_acc: 0.9548\n",
      "Epoch 15/20\n",
      "54000/54000 [==============================] - 3s 50us/step - loss: 0.2425 - acc: 0.9308 - val_loss: 0.1301 - val_acc: 0.9592\n",
      "Epoch 16/20\n",
      "54000/54000 [==============================] - 3s 48us/step - loss: 0.2324 - acc: 0.9333 - val_loss: 0.1357 - val_acc: 0.9572\n",
      "Epoch 17/20\n",
      "54000/54000 [==============================] - 3s 54us/step - loss: 0.2291 - acc: 0.9361 - val_loss: 0.1252 - val_acc: 0.9607\n",
      "Epoch 18/20\n",
      "54000/54000 [==============================] - 3s 51us/step - loss: 0.2204 - acc: 0.9381 - val_loss: 0.1278 - val_acc: 0.9602\n",
      "Epoch 19/20\n",
      "54000/54000 [==============================] - 3s 56us/step - loss: 0.2164 - acc: 0.9401 - val_loss: 0.1231 - val_acc: 0.9633\n",
      "Epoch 20/20\n",
      "54000/54000 [==============================] - 3s 52us/step - loss: 0.2101 - acc: 0.9400 - val_loss: 0.1247 - val_acc: 0.9625\n"
     ]
    }
   ],
   "source": [
    "history_do_1 = network_4.fit(img_train,lbl_train,epochs=20,batch_size=128,validation_data=(img_test, lbl_test))"
   ]
  },
  {
   "cell_type": "code",
   "execution_count": 66,
   "metadata": {},
   "outputs": [
    {
     "data": {
      "image/png": "[encoded data removed]",
      "text/plain": [
       "<Figure size 432x288 with 1 Axes>"
      ]
     },
     "metadata": {},
     "output_type": "display_data"
    }
   ],
   "source": [
    "plot_acc_fn(history_do_1)"
   ]
  },
  {
   "cell_type": "code",
   "execution_count": 67,
   "metadata": {},
   "outputs": [
    {
     "data": {
      "image/png": "[encoded data removed]",
      "text/plain": [
       "<Figure size 432x288 with 1 Axes>"
      ]
     },
     "metadata": {},
     "output_type": "display_data"
    }
   ],
   "source": [
    "plot_loss_fn(history_do_1)"
   ]
  },
  {
   "cell_type": "code",
   "execution_count": 68,
   "metadata": {},
   "outputs": [],
   "source": [
    "#dropout rate at 10%\n",
    "network_5 = models.Sequential()"
   ]
  },
  {
   "cell_type": "code",
   "execution_count": 69,
   "metadata": {},
   "outputs": [],
   "source": [
    "network_5.add(layers.Dense(128, activation='elu',kernel_initializer = 'he_normal',input_shape=(28*28,)))\n",
    "network_5.add(Dropout(0.1))\n",
    "network_5.add(layers.Dense(128, activation='elu',kernel_initializer = 'he_normal'))\n",
    "network_5.add(Dropout(0.1))\n",
    "network_5.add(layers.Dense(128, activation='elu',kernel_initializer = 'he_normal'))\n",
    "network_5.add(Dropout(0.1))\n",
    "network_5.add(layers.Dense(128, activation='elu',kernel_initializer = 'he_normal'))\n",
    "network_5.add(Dropout(0.1))\n",
    "network_5.add(layers.Dense(10, activation='softmax',kernel_initializer = 'he_normal'))"
   ]
  },
  {
   "cell_type": "code",
   "execution_count": 70,
   "metadata": {},
   "outputs": [],
   "source": [
    "network_5.compile(optimizer='adam',\n",
    "               loss='categorical_crossentropy',\n",
    "               metrics=['accuracy'])"
   ]
  },
  {
   "cell_type": "code",
   "execution_count": 71,
   "metadata": {},
   "outputs": [
    {
     "name": "stdout",
     "output_type": "stream",
     "text": [
      "Train on 54000 samples, validate on 6000 samples\n",
      "Epoch 1/20\n",
      "54000/54000 [==============================] - 4s 66us/step - loss: 0.3622 - acc: 0.8892 - val_loss: 0.1568 - val_acc: 0.9513\n",
      "Epoch 2/20\n",
      "54000/54000 [==============================] - 3s 53us/step - loss: 0.1883 - acc: 0.9426 - val_loss: 0.1206 - val_acc: 0.9607\n",
      "Epoch 3/20\n",
      "54000/54000 [==============================] - 3s 46us/step - loss: 0.1419 - acc: 0.9563 - val_loss: 0.1034 - val_acc: 0.9680\n",
      "Epoch 4/20\n",
      "54000/54000 [==============================] - 3s 48us/step - loss: 0.1189 - acc: 0.9634 - val_loss: 0.0877 - val_acc: 0.9713\n",
      "Epoch 5/20\n",
      "54000/54000 [==============================] - 3s 53us/step - loss: 0.1026 - acc: 0.9674 - val_loss: 0.0820 - val_acc: 0.9752\n",
      "Epoch 6/20\n",
      "54000/54000 [==============================] - 3s 49us/step - loss: 0.0930 - acc: 0.9701 - val_loss: 0.0772 - val_acc: 0.9760\n",
      "Epoch 7/20\n",
      "54000/54000 [==============================] - 3s 47us/step - loss: 0.0852 - acc: 0.9721 - val_loss: 0.0743 - val_acc: 0.9785\n",
      "Epoch 8/20\n",
      "54000/54000 [==============================] - 3s 52us/step - loss: 0.0738 - acc: 0.9764 - val_loss: 0.0755 - val_acc: 0.9758\n",
      "Epoch 9/20\n",
      "54000/54000 [==============================] - 3s 47us/step - loss: 0.0720 - acc: 0.9767 - val_loss: 0.0707 - val_acc: 0.9792\n",
      "Epoch 10/20\n",
      "54000/54000 [==============================] - 3s 47us/step - loss: 0.0627 - acc: 0.9787 - val_loss: 0.0758 - val_acc: 0.9785\n",
      "Epoch 11/20\n",
      "54000/54000 [==============================] - 3s 49us/step - loss: 0.0606 - acc: 0.9801 - val_loss: 0.0757 - val_acc: 0.9788\n",
      "Epoch 12/20\n",
      "54000/54000 [==============================] - 3s 47us/step - loss: 0.0571 - acc: 0.9815 - val_loss: 0.0763 - val_acc: 0.9788\n",
      "Epoch 13/20\n",
      "54000/54000 [==============================] - 2s 46us/step - loss: 0.0525 - acc: 0.9827 - val_loss: 0.0723 - val_acc: 0.9807\n",
      "Epoch 14/20\n",
      "54000/54000 [==============================] - 3s 52us/step - loss: 0.0482 - acc: 0.9841 - val_loss: 0.0718 - val_acc: 0.9813\n",
      "Epoch 15/20\n",
      "54000/54000 [==============================] - 3s 48us/step - loss: 0.0473 - acc: 0.9835 - val_loss: 0.0760 - val_acc: 0.9807\n",
      "Epoch 16/20\n",
      "54000/54000 [==============================] - 2s 45us/step - loss: 0.0466 - acc: 0.9843 - val_loss: 0.0686 - val_acc: 0.9807\n",
      "Epoch 17/20\n",
      "54000/54000 [==============================] - 3s 46us/step - loss: 0.0436 - acc: 0.9851 - val_loss: 0.0671 - val_acc: 0.9842\n",
      "Epoch 18/20\n",
      "54000/54000 [==============================] - 2s 44us/step - loss: 0.0391 - acc: 0.9869 - val_loss: 0.0626 - val_acc: 0.9835\n",
      "Epoch 19/20\n",
      "54000/54000 [==============================] - 2s 44us/step - loss: 0.0401 - acc: 0.9869 - val_loss: 0.0696 - val_acc: 0.9827\n",
      "Epoch 20/20\n",
      "54000/54000 [==============================] - 3s 48us/step - loss: 0.0341 - acc: 0.9888 - val_loss: 0.0681 - val_acc: 0.9823\n"
     ]
    }
   ],
   "source": [
    "history_do_2 = network_5.fit(img_train,lbl_train,epochs=20,batch_size=128,validation_data=(img_test, lbl_test))"
   ]
  },
  {
   "cell_type": "code",
   "execution_count": 72,
   "metadata": {},
   "outputs": [
    {
     "data": {
      "image/png": "[encoded data removed]",
      "text/plain": [
       "<Figure size 432x288 with 1 Axes>"
      ]
     },
     "metadata": {},
     "output_type": "display_data"
    }
   ],
   "source": [
    "plot_acc_fn(history_do_2)"
   ]
  },
  {
   "cell_type": "code",
   "execution_count": 73,
   "metadata": {},
   "outputs": [
    {
     "data": {
      "image/png": "[encoded data removed]",
      "text/plain": [
       "<Figure size 432x288 with 1 Axes>"
      ]
     },
     "metadata": {},
     "output_type": "display_data"
    }
   ],
   "source": [
    "plot_loss_fn(history_do_2)"
   ]
  },
  {
   "cell_type": "markdown",
   "metadata": {},
   "source": [
    "<b>--> the dropout value = 0.25 seem to be close to the optimal value </b>"
   ]
  },
  {
   "cell_type": "code",
   "execution_count": 74,
   "metadata": {},
   "outputs": [],
   "source": [
    "#final destination model\n",
    "network_6 = models.Sequential()"
   ]
  },
  {
   "cell_type": "code",
   "execution_count": 75,
   "metadata": {},
   "outputs": [],
   "source": [
    "network_6.add(layers.Dense(256, activation='elu',kernel_initializer = 'he_normal',input_shape=(28*28,)))\n",
    "network_6.add(Dropout(0.25))\n",
    "network_6.add(layers.Dense(256, activation='elu',kernel_initializer = 'he_normal'))\n",
    "network_6.add(Dropout(0.25))\n",
    "network_6.add(layers.Dense(256, activation='elu',kernel_initializer = 'he_normal'))\n",
    "network_6.add(Dropout(0.25))\n",
    "network_6.add(layers.Dense(256, activation='elu',kernel_initializer = 'he_normal'))\n",
    "network_6.add(Dropout(0.25))\n",
    "network_6.add(layers.Dense(256, activation='elu',kernel_initializer = 'he_normal'))\n",
    "network_6.add(Dropout(0.25))\n",
    "network_6.add(layers.Dense(256, activation='elu',kernel_initializer = 'he_normal'))\n",
    "network_6.add(Dropout(0.25))\n",
    "network_6.add(layers.Dense(10, activation='softmax',kernel_initializer = 'he_normal'))"
   ]
  },
  {
   "cell_type": "code",
   "execution_count": 76,
   "metadata": {},
   "outputs": [],
   "source": [
    "network_6.compile(optimizer='adam',\n",
    "               loss='categorical_crossentropy',\n",
    "               metrics=['accuracy'])"
   ]
  },
  {
   "cell_type": "code",
   "execution_count": 77,
   "metadata": {},
   "outputs": [
    {
     "name": "stdout",
     "output_type": "stream",
     "text": [
      "Train on 54000 samples, validate on 6000 samples\n",
      "Epoch 1/20\n",
      "54000/54000 [==============================] - 7s 136us/step - loss: 0.5945 - acc: 0.8262 - val_loss: 0.1944 - val_acc: 0.9417\n",
      "Epoch 2/20\n",
      "54000/54000 [==============================] - 6s 112us/step - loss: 0.2973 - acc: 0.9116 - val_loss: 0.1545 - val_acc: 0.9567\n",
      "Epoch 3/20\n",
      "54000/54000 [==============================] - 6s 117us/step - loss: 0.2385 - acc: 0.9283 - val_loss: 0.1433 - val_acc: 0.9625\n",
      "Epoch 4/20\n",
      "54000/54000 [==============================] - 6s 119us/step - loss: 0.2008 - acc: 0.9406 - val_loss: 0.1239 - val_acc: 0.9630\n",
      "Epoch 5/20\n",
      "54000/54000 [==============================] - 6s 120us/step - loss: 0.1798 - acc: 0.9468 - val_loss: 0.1134 - val_acc: 0.9643\n",
      "Epoch 6/20\n",
      "54000/54000 [==============================] - 5s 98us/step - loss: 0.1633 - acc: 0.9518 - val_loss: 0.1078 - val_acc: 0.9677\n",
      "Epoch 7/20\n",
      "54000/54000 [==============================] - 5s 98us/step - loss: 0.1483 - acc: 0.9562 - val_loss: 0.1227 - val_acc: 0.9653\n",
      "Epoch 8/20\n",
      "54000/54000 [==============================] - 6s 102us/step - loss: 0.1407 - acc: 0.9585 - val_loss: 0.0921 - val_acc: 0.9735\n",
      "Epoch 9/20\n",
      "54000/54000 [==============================] - 5s 97us/step - loss: 0.1337 - acc: 0.9608 - val_loss: 0.0914 - val_acc: 0.9767\n",
      "Epoch 10/20\n",
      "54000/54000 [==============================] - 6s 109us/step - loss: 0.1256 - acc: 0.9645 - val_loss: 0.0844 - val_acc: 0.9782\n",
      "Epoch 11/20\n",
      "54000/54000 [==============================] - 7s 125us/step - loss: 0.1182 - acc: 0.9661 - val_loss: 0.0812 - val_acc: 0.9765\n",
      "Epoch 12/20\n",
      "54000/54000 [==============================] - 7s 127us/step - loss: 0.1090 - acc: 0.9685 - val_loss: 0.1005 - val_acc: 0.9753\n",
      "Epoch 13/20\n",
      "54000/54000 [==============================] - 6s 117us/step - loss: 0.1015 - acc: 0.9714 - val_loss: 0.1048 - val_acc: 0.9753\n",
      "Epoch 14/20\n",
      "54000/54000 [==============================] - 6s 113us/step - loss: 0.1009 - acc: 0.9712 - val_loss: 0.0922 - val_acc: 0.9773\n",
      "Epoch 15/20\n",
      "54000/54000 [==============================] - 6s 109us/step - loss: 0.0995 - acc: 0.9718 - val_loss: 0.0773 - val_acc: 0.9813\n",
      "Epoch 16/20\n",
      "54000/54000 [==============================] - 6s 105us/step - loss: 0.0949 - acc: 0.9733 - val_loss: 0.0966 - val_acc: 0.9762\n",
      "Epoch 17/20\n",
      "54000/54000 [==============================] - 5s 101us/step - loss: 0.0899 - acc: 0.9749 - val_loss: 0.0949 - val_acc: 0.9778\n",
      "Epoch 18/20\n",
      "54000/54000 [==============================] - 5s 98us/step - loss: 0.0853 - acc: 0.9760 - val_loss: 0.0995 - val_acc: 0.9767\n",
      "Epoch 19/20\n",
      "54000/54000 [==============================] - 6s 105us/step - loss: 0.0836 - acc: 0.9764 - val_loss: 0.0887 - val_acc: 0.9782\n",
      "Epoch 20/20\n",
      "54000/54000 [==============================] - 6s 108us/step - loss: 0.0831 - acc: 0.9766 - val_loss: 0.0884 - val_acc: 0.9793\n"
     ]
    }
   ],
   "source": [
    "history_final = network_6.fit(img_train,lbl_train,epochs=20,batch_size=128,validation_data=(img_test, lbl_test))"
   ]
  },
  {
   "cell_type": "code",
   "execution_count": 78,
   "metadata": {},
   "outputs": [
    {
     "data": {
      "image/png": "[encoded data removed]",
      "text/plain": [
       "<Figure size 432x288 with 1 Axes>"
      ]
     },
     "metadata": {},
     "output_type": "display_data"
    }
   ],
   "source": [
    "plot_acc_fn(history_final)"
   ]
  },
  {
   "cell_type": "code",
   "execution_count": 79,
   "metadata": {},
   "outputs": [
    {
     "data": {
      "image/png": "[encoded data removed]",
      "text/plain": [
       "<Figure size 432x288 with 1 Axes>"
      ]
     },
     "metadata": {},
     "output_type": "display_data"
    }
   ],
   "source": [
    "plot_loss_fn(history_final)"
   ]
  },
  {
   "cell_type": "markdown",
   "metadata": {},
   "source": [
    "<b>--> add more node to increase the accuracy of model, meanwhile the more node,means the more likely that it will be overfit so we increase the drop to 0.35 to compensate the increasing number of node </b>"
   ]
  },
  {
   "cell_type": "code",
   "execution_count": 133,
   "metadata": {},
   "outputs": [],
   "source": [
    "#test to add more \n",
    "network_7 = models.Sequential()"
   ]
  },
  {
   "cell_type": "code",
   "execution_count": 134,
   "metadata": {},
   "outputs": [],
   "source": [
    "network_7.add(layers.Dense(512, activation='elu',kernel_initializer = 'he_normal',input_shape=(28*28,)))\n",
    "network_7.add(Dropout(0.35))\n",
    "network_7.add(layers.Dense(512, activation='elu',kernel_initializer = 'he_normal'))\n",
    "network_7.add(Dropout(0.35))\n",
    "network_7.add(layers.Dense(512, activation='elu',kernel_initializer = 'he_normal'))\n",
    "network_7.add(Dropout(0.35))\n",
    "network_7.add(layers.Dense(512, activation='elu',kernel_initializer = 'he_normal'))\n",
    "network_7.add(Dropout(0.35))\n",
    "network_7.add(layers.Dense(512, activation='elu',kernel_initializer = 'he_normal'))\n",
    "network_7.add(Dropout(0.35))\n",
    "network_7.add(layers.Dense(512, activation='elu',kernel_initializer = 'he_normal'))\n",
    "network_7.add(Dropout(0.35))\n",
    "network_7.add(layers.Dense(10, activation='softmax',kernel_initializer = 'he_normal'))"
   ]
  },
  {
   "cell_type": "code",
   "execution_count": 135,
   "metadata": {},
   "outputs": [],
   "source": [
    "network_7.compile(optimizer='adam',\n",
    "               loss='categorical_crossentropy',\n",
    "               metrics=['accuracy'])"
   ]
  },
  {
   "cell_type": "code",
   "execution_count": 136,
   "metadata": {},
   "outputs": [
    {
     "name": "stdout",
     "output_type": "stream",
     "text": [
      "Train on 54000 samples, validate on 6000 samples\n",
      "Epoch 1/20\n",
      "54000/54000 [==============================] - 24s 445us/step - loss: 0.7717 - acc: 0.8056 - val_loss: 0.2128 - val_acc: 0.9365\n",
      "Epoch 2/20\n",
      "54000/54000 [==============================] - 20s 374us/step - loss: 0.3396 - acc: 0.9039 - val_loss: 0.1941 - val_acc: 0.9388\n",
      "Epoch 3/20\n",
      "54000/54000 [==============================] - 24s 437us/step - loss: 0.2750 - acc: 0.9211 - val_loss: 0.1509 - val_acc: 0.9528\n",
      "Epoch 4/20\n",
      "54000/54000 [==============================] - 24s 442us/step - loss: 0.2297 - acc: 0.9335 - val_loss: 0.1262 - val_acc: 0.9620\n",
      "Epoch 5/20\n",
      "54000/54000 [==============================] - 22s 402us/step - loss: 0.2118 - acc: 0.9390 - val_loss: 0.1128 - val_acc: 0.9653\n",
      "Epoch 6/20\n",
      "54000/54000 [==============================] - 22s 402us/step - loss: 0.1997 - acc: 0.9436 - val_loss: 0.1341 - val_acc: 0.9613\n",
      "Epoch 7/20\n",
      "54000/54000 [==============================] - 21s 397us/step - loss: 0.1859 - acc: 0.9489 - val_loss: 0.1248 - val_acc: 0.9658\n",
      "Epoch 8/20\n",
      "54000/54000 [==============================] - 21s 391us/step - loss: 0.1762 - acc: 0.9516 - val_loss: 0.1007 - val_acc: 0.9710\n",
      "Epoch 9/20\n",
      "54000/54000 [==============================] - 23s 429us/step - loss: 0.1665 - acc: 0.9542 - val_loss: 0.1120 - val_acc: 0.9705\n",
      "Epoch 10/20\n",
      "54000/54000 [==============================] - 21s 385us/step - loss: 0.1657 - acc: 0.9556 - val_loss: 0.1056 - val_acc: 0.9723\n",
      "Epoch 11/20\n",
      "54000/54000 [==============================] - 19s 351us/step - loss: 0.1569 - acc: 0.9591 - val_loss: 0.1068 - val_acc: 0.9727\n",
      "Epoch 12/20\n",
      "54000/54000 [==============================] - 20s 379us/step - loss: 0.1482 - acc: 0.9617 - val_loss: 0.1086 - val_acc: 0.9737\n",
      "Epoch 13/20\n",
      "54000/54000 [==============================] - 21s 390us/step - loss: 0.1512 - acc: 0.9611 - val_loss: 0.1036 - val_acc: 0.9747\n",
      "Epoch 14/20\n",
      "54000/54000 [==============================] - 21s 394us/step - loss: 0.1391 - acc: 0.9637 - val_loss: 0.1081 - val_acc: 0.9747\n",
      "Epoch 15/20\n",
      "54000/54000 [==============================] - 22s 413us/step - loss: 0.1399 - acc: 0.9643 - val_loss: 0.0996 - val_acc: 0.9750\n",
      "Epoch 16/20\n",
      "54000/54000 [==============================] - 21s 387us/step - loss: 0.1342 - acc: 0.9669 - val_loss: 0.0956 - val_acc: 0.9778\n",
      "Epoch 17/20\n",
      "54000/54000 [==============================] - 22s 409us/step - loss: 0.1352 - acc: 0.9674 - val_loss: 0.1004 - val_acc: 0.9748\n",
      "Epoch 18/20\n",
      "54000/54000 [==============================] - 21s 383us/step - loss: 0.1288 - acc: 0.9678 - val_loss: 0.0983 - val_acc: 0.9772\n",
      "Epoch 19/20\n",
      "54000/54000 [==============================] - 20s 364us/step - loss: 0.1231 - acc: 0.9698 - val_loss: 0.1073 - val_acc: 0.9750\n",
      "Epoch 20/20\n",
      "54000/54000 [==============================] - 21s 393us/step - loss: 0.1271 - acc: 0.9686 - val_loss: 0.1133 - val_acc: 0.9787\n"
     ]
    }
   ],
   "source": [
    "history_final_1 = network_7.fit(img_train,lbl_train,epochs=20,batch_size=128,validation_data=(img_test, lbl_test))"
   ]
  },
  {
   "cell_type": "code",
   "execution_count": 137,
   "metadata": {},
   "outputs": [
    {
     "data": {
      "image/png": "[encoded data removed]",
      "text/plain": [
       "<Figure size 432x288 with 1 Axes>"
      ]
     },
     "metadata": {},
     "output_type": "display_data"
    }
   ],
   "source": [
    "plot_acc_fn(history_final_1)"
   ]
  },
  {
   "cell_type": "code",
   "execution_count": 138,
   "metadata": {},
   "outputs": [
    {
     "data": {
      "image/png": "[encoded data removed]",
      "text/plain": [
       "<Figure size 432x288 with 1 Axes>"
      ]
     },
     "metadata": {},
     "output_type": "display_data"
    }
   ],
   "source": [
    "plot_loss_fn(history_final_1)"
   ]
  },
  {
   "cell_type": "markdown",
   "metadata": {},
   "source": [
    "<b>--> Try to use the dropout along with early stop but it stop  too early that it doesn't find its highest accuracy</b>"
   ]
  },
  {
   "cell_type": "code",
   "execution_count": 86,
   "metadata": {},
   "outputs": [],
   "source": [
    "from keras import regularizers\n",
    "network_8 = models.Sequential()"
   ]
  },
  {
   "cell_type": "code",
   "execution_count": 87,
   "metadata": {},
   "outputs": [],
   "source": [
    "network_8.add(layers.Dense(256, activation='elu',kernel_initializer = 'he_normal',input_shape=(28*28,)))\n",
    "network_8.add(Dropout(0.1))\n",
    "network_8.add(layers.Dense(256, activation='elu',kernel_initializer = 'he_normal'))\n",
    "network_8.add(Dropout(0.1))\n",
    "network_8.add(layers.Dense(256, activation='elu',kernel_initializer = 'he_normal'))\n",
    "network_8.add(Dropout(0.1))\n",
    "network_8.add(layers.Dense(256, activation='elu',kernel_initializer = 'he_normal'))\n",
    "network_8.add(Dropout(0.1))\n",
    "network_8.add(layers.Dense(256, activation='elu',kernel_initializer = 'he_normal'))\n",
    "network_8.add(Dropout(0.1))\n",
    "network_8.add(layers.Dense(256, activation='elu',kernel_initializer = 'he_normal'))\n",
    "network_8.add(Dropout(0.1))\n",
    "network_8.add(layers.Dense(10, activation='softmax',kernel_initializer = 'he_normal'))"
   ]
  },
  {
   "cell_type": "code",
   "execution_count": 88,
   "metadata": {},
   "outputs": [],
   "source": [
    "network_8.compile(optimizer='adam',\n",
    "               loss='categorical_crossentropy',\n",
    "               metrics=['accuracy'])"
   ]
  },
  {
   "cell_type": "code",
   "execution_count": 89,
   "metadata": {},
   "outputs": [
    {
     "name": "stdout",
     "output_type": "stream",
     "text": [
      "Train on 54000 samples, validate on 6000 samples\n",
      "Epoch 1/20\n",
      "54000/54000 [==============================] - 7s 137us/step - loss: 0.3355 - acc: 0.8972 - val_loss: 0.1433 - val_acc: 0.9547\n",
      "Epoch 2/20\n",
      "54000/54000 [==============================] - 6s 109us/step - loss: 0.1762 - acc: 0.9470 - val_loss: 0.1184 - val_acc: 0.9650\n",
      "Epoch 3/20\n",
      "54000/54000 [==============================] - 6s 118us/step - loss: 0.1396 - acc: 0.9569 - val_loss: 0.0906 - val_acc: 0.9720\n",
      "Epoch 4/20\n",
      "54000/54000 [==============================] - 6s 116us/step - loss: 0.1141 - acc: 0.9654 - val_loss: 0.0837 - val_acc: 0.9773\n",
      "Epoch 5/20\n",
      "54000/54000 [==============================] - 6s 109us/step - loss: 0.1003 - acc: 0.9686 - val_loss: 0.0767 - val_acc: 0.9783\n",
      "Epoch 6/20\n",
      "54000/54000 [==============================] - 6s 120us/step - loss: 0.0881 - acc: 0.9725 - val_loss: 0.0814 - val_acc: 0.9770\n"
     ]
    }
   ],
   "source": [
    "history_final_2 = network_8.fit(img_train,lbl_train,epochs=20,batch_size=128,validation_data=(img_test, lbl_test),callbacks=callbacks)"
   ]
  },
  {
   "cell_type": "code",
   "execution_count": 90,
   "metadata": {},
   "outputs": [
    {
     "data": {
      "image/png": "[encoded data removed]",
      "text/plain": [
       "<Figure size 432x288 with 1 Axes>"
      ]
     },
     "metadata": {},
     "output_type": "display_data"
    }
   ],
   "source": [
    "plot_acc_fn(history_final_2)"
   ]
  },
  {
   "cell_type": "code",
   "execution_count": 91,
   "metadata": {},
   "outputs": [
    {
     "data": {
      "image/png": "[encoded data removed]",
      "text/plain": [
       "<Figure size 432x288 with 1 Axes>"
      ]
     },
     "metadata": {},
     "output_type": "display_data"
    }
   ],
   "source": [
    "plot_loss_fn(history_final_2)"
   ]
  },
  {
   "cell_type": "markdown",
   "metadata": {},
   "source": [
    "<b>--> from previous assumption, we assume that need more epoch inorder to get high accuracy but it stuck on accuracy around 79% with a slowly increasing rate of accuracy </b>"
   ]
  },
  {
   "cell_type": "code",
   "execution_count": 145,
   "metadata": {},
   "outputs": [],
   "source": [
    "network_9 = models.Sequential()"
   ]
  },
  {
   "cell_type": "code",
   "execution_count": 146,
   "metadata": {},
   "outputs": [],
   "source": [
    "network_9.add(layers.Dense(128, activation='elu',kernel_initializer = 'he_normal',input_shape=(28*28,),\n",
    "                           kernel_regularizer=regularizers.l1(0.01)))\n",
    "network_9.add(layers.Dense(128, activation='elu',kernel_initializer = 'he_normal', \n",
    "                           kernel_regularizer=regularizers.l1(0.01)))\n",
    "network_9.add(layers.Dense(128, activation='elu',kernel_initializer = 'he_normal', \n",
    "                           kernel_regularizer=regularizers.l1(0.01)))\n",
    "network_9.add(layers.Dense(128, activation='elu',kernel_initializer = 'he_normal', \n",
    "                           kernel_regularizer=regularizers.l1(0.01)))\n",
    "network_9.add(layers.Dense(10, activation='softmax',kernel_initializer = 'he_normal',\n",
    "                           kernel_regularizer=regularizers.l1(0.01)))"
   ]
  },
  {
   "cell_type": "code",
   "execution_count": 147,
   "metadata": {},
   "outputs": [],
   "source": [
    "network_9.compile(optimizer='adam',\n",
    "               loss='categorical_crossentropy',\n",
    "               metrics=['accuracy'])"
   ]
  },
  {
   "cell_type": "code",
   "execution_count": 149,
   "metadata": {},
   "outputs": [
    {
     "name": "stdout",
     "output_type": "stream",
     "text": [
      "Train on 54000 samples, validate on 6000 samples\n",
      "Epoch 1/40\n",
      "54000/54000 [==============================] - 4s 73us/step - loss: 16.5807 - acc: 0.5136 - val_loss: 2.2938 - val_acc: 0.5242\n",
      "Epoch 2/40\n",
      "54000/54000 [==============================] - 3s 50us/step - loss: 2.0812 - acc: 0.6064 - val_loss: 1.9628 - val_acc: 0.6555\n",
      "Epoch 3/40\n",
      "54000/54000 [==============================] - 2s 45us/step - loss: 1.9281 - acc: 0.6529 - val_loss: 1.8832 - val_acc: 0.6512\n",
      "Epoch 4/40\n",
      "54000/54000 [==============================] - 2s 44us/step - loss: 1.8692 - acc: 0.6679 - val_loss: 1.8359 - val_acc: 0.6810\n",
      "Epoch 5/40\n",
      "54000/54000 [==============================] - 3s 50us/step - loss: 1.8250 - acc: 0.6804 - val_loss: 1.8044 - val_acc: 0.6935\n",
      "Epoch 6/40\n",
      "54000/54000 [==============================] - 3s 50us/step - loss: 1.7782 - acc: 0.6928 - val_loss: 1.7513 - val_acc: 0.7052\n",
      "Epoch 7/40\n",
      "54000/54000 [==============================] - 3s 48us/step - loss: 1.7418 - acc: 0.7026 - val_loss: 1.7218 - val_acc: 0.7093\n",
      "Epoch 8/40\n",
      "54000/54000 [==============================] - 3s 53us/step - loss: 1.7114 - acc: 0.7119 - val_loss: 1.6901 - val_acc: 0.7250\n",
      "Epoch 9/40\n",
      "54000/54000 [==============================] - 3s 56us/step - loss: 1.6817 - acc: 0.7236 - val_loss: 1.6699 - val_acc: 0.7320\n",
      "Epoch 10/40\n",
      "54000/54000 [==============================] - 3s 49us/step - loss: 1.6583 - acc: 0.7326 - val_loss: 1.6392 - val_acc: 0.7407\n",
      "Epoch 11/40\n",
      "54000/54000 [==============================] - 3s 50us/step - loss: 1.6404 - acc: 0.7382 - val_loss: 1.6205 - val_acc: 0.7447\n",
      "Epoch 12/40\n",
      "54000/54000 [==============================] - 3s 58us/step - loss: 1.6183 - acc: 0.7486 - val_loss: 1.6115 - val_acc: 0.7532\n",
      "Epoch 13/40\n",
      "54000/54000 [==============================] - 3s 50us/step - loss: 1.6038 - acc: 0.7532 - val_loss: 1.6075 - val_acc: 0.7558\n",
      "Epoch 14/40\n",
      "54000/54000 [==============================] - 3s 51us/step - loss: 1.5900 - acc: 0.7587 - val_loss: 1.5991 - val_acc: 0.7645\n",
      "Epoch 15/40\n",
      "54000/54000 [==============================] - 3s 50us/step - loss: 1.5791 - acc: 0.7617 - val_loss: 1.5898 - val_acc: 0.7493\n",
      "Epoch 16/40\n",
      "54000/54000 [==============================] - 3s 50us/step - loss: 1.5627 - acc: 0.7680 - val_loss: 1.5550 - val_acc: 0.7687\n",
      "Epoch 17/40\n",
      "54000/54000 [==============================] - 3s 51us/step - loss: 1.5490 - acc: 0.7718 - val_loss: 1.5515 - val_acc: 0.7640\n",
      "Epoch 18/40\n",
      "54000/54000 [==============================] - 3s 48us/step - loss: 1.5411 - acc: 0.7747 - val_loss: 1.5228 - val_acc: 0.7777\n",
      "Epoch 19/40\n",
      "54000/54000 [==============================] - 3s 47us/step - loss: 1.5325 - acc: 0.7760 - val_loss: 1.5241 - val_acc: 0.7770\n",
      "Epoch 20/40\n",
      "54000/54000 [==============================] - 3s 48us/step - loss: 1.5235 - acc: 0.7804 - val_loss: 1.5198 - val_acc: 0.7812\n",
      "Epoch 21/40\n",
      "54000/54000 [==============================] - 2s 44us/step - loss: 1.5142 - acc: 0.7820 - val_loss: 1.5018 - val_acc: 0.7828\n",
      "Epoch 22/40\n",
      "54000/54000 [==============================] - 2s 44us/step - loss: 1.5074 - acc: 0.7816 - val_loss: 1.4952 - val_acc: 0.7825\n",
      "Epoch 23/40\n",
      "54000/54000 [==============================] - 3s 47us/step - loss: 1.5023 - acc: 0.7814 - val_loss: 1.4938 - val_acc: 0.7838\n",
      "Epoch 24/40\n",
      "54000/54000 [==============================] - 2s 44us/step - loss: 1.4946 - acc: 0.7844 - val_loss: 1.4945 - val_acc: 0.7828\n",
      "Epoch 25/40\n",
      "54000/54000 [==============================] - 2s 44us/step - loss: 1.4891 - acc: 0.7849 - val_loss: 1.4776 - val_acc: 0.7890\n",
      "Epoch 26/40\n",
      "54000/54000 [==============================] - 3s 49us/step - loss: 1.4803 - acc: 0.7854 - val_loss: 1.4718 - val_acc: 0.7898\n",
      "Epoch 27/40\n",
      "54000/54000 [==============================] - 2s 43us/step - loss: 1.4775 - acc: 0.7871 - val_loss: 1.4709 - val_acc: 0.7842\n",
      "Epoch 28/40\n",
      "54000/54000 [==============================] - 2s 44us/step - loss: 1.4719 - acc: 0.7869 - val_loss: 1.4629 - val_acc: 0.7873\n",
      "Epoch 29/40\n",
      "54000/54000 [==============================] - 3s 52us/step - loss: 1.4678 - acc: 0.7887 - val_loss: 1.4655 - val_acc: 0.7850\n",
      "Epoch 30/40\n",
      "54000/54000 [==============================] - 3s 48us/step - loss: 1.4635 - acc: 0.7874 - val_loss: 1.4464 - val_acc: 0.7928\n",
      "Epoch 31/40\n",
      "54000/54000 [==============================] - 3s 48us/step - loss: 1.4577 - acc: 0.7887 - val_loss: 1.4573 - val_acc: 0.7847\n",
      "Epoch 32/40\n",
      "54000/54000 [==============================] - 3s 53us/step - loss: 1.4567 - acc: 0.7857 - val_loss: 1.4406 - val_acc: 0.7900\n",
      "Epoch 33/40\n",
      "54000/54000 [==============================] - 3s 48us/step - loss: 1.4471 - acc: 0.7881 - val_loss: 1.4480 - val_acc: 0.7903\n",
      "Epoch 34/40\n",
      "54000/54000 [==============================] - 3s 49us/step - loss: 1.4417 - acc: 0.7899 - val_loss: 1.4445 - val_acc: 0.7895\n",
      "Epoch 35/40\n",
      "54000/54000 [==============================] - 3s 51us/step - loss: 1.4375 - acc: 0.7904 - val_loss: 1.4279 - val_acc: 0.7920\n",
      "Epoch 36/40\n",
      "54000/54000 [==============================] - 3s 48us/step - loss: 1.4289 - acc: 0.7920 - val_loss: 1.4274 - val_acc: 0.7850\n",
      "Epoch 37/40\n",
      "54000/54000 [==============================] - 3s 48us/step - loss: 1.4253 - acc: 0.7906 - val_loss: 1.4158 - val_acc: 0.7942\n",
      "Epoch 38/40\n",
      "54000/54000 [==============================] - 3s 53us/step - loss: 1.4239 - acc: 0.7908 - val_loss: 1.4266 - val_acc: 0.7897\n",
      "Epoch 39/40\n",
      "54000/54000 [==============================] - 3s 47us/step - loss: 1.4166 - acc: 0.7921 - val_loss: 1.4124 - val_acc: 0.7952\n",
      "Epoch 40/40\n",
      "54000/54000 [==============================] - 3s 47us/step - loss: 1.4154 - acc: 0.7911 - val_loss: 1.4064 - val_acc: 0.7968\n"
     ]
    }
   ],
   "source": [
    "history_rl_3 = network_9.fit(img_train,lbl_train,epochs=40,batch_size=128,validation_data=(img_test, lbl_test))"
   ]
  },
  {
   "cell_type": "code",
   "execution_count": 150,
   "metadata": {},
   "outputs": [
    {
     "data": {
      "image/png": "[encoded data removed]",
      "text/plain": [
       "<Figure size 432x288 with 1 Axes>"
      ]
     },
     "metadata": {},
     "output_type": "display_data"
    }
   ],
   "source": [
    "plot_acc_fn(history_rl_3)"
   ]
  },
  {
   "cell_type": "code",
   "execution_count": 151,
   "metadata": {},
   "outputs": [
    {
     "data": {
      "image/png": "[encoded data removed]",
      "text/plain": [
       "<Figure size 432x288 with 1 Axes>"
      ]
     },
     "metadata": {},
     "output_type": "display_data"
    }
   ],
   "source": [
    "plot_loss_fn(history_rl_3)"
   ]
  },
  {
   "cell_type": "markdown",
   "metadata": {},
   "source": [
    "### 7. Final Evaluation\n",
    "\n",
    "After you make sure that your model is good enough to be deploy in application, it is a time to evaluate your model with test set in order to test that your model is generalize well and not overfit to validation set."
   ]
  },
  {
   "cell_type": "code",
   "execution_count": 139,
   "metadata": {},
   "outputs": [
    {
     "name": "stdout",
     "output_type": "stream",
     "text": [
      "60000/60000 [==============================] - 11s 183us/step\n",
      "Train Loss: 0.05534409236117353\n",
      "Train Accuracy: 0.9869833333333333\n"
     ]
    }
   ],
   "source": [
    "train_loss, train_acc = network_7.evaluate(train_images, train_labels)\n",
    "print('Train Loss: %s\\nTrain Accuracy: %s' % (train_loss,train_acc))"
   ]
  },
  {
   "cell_type": "code",
   "execution_count": 154,
   "metadata": {},
   "outputs": [
    {
     "name": "stdout",
     "output_type": "stream",
     "text": [
      "60000/60000 [==============================] - 5s 79us/step\n",
      "Train Loss: 0.047114322188457784\n",
      "Train Accuracy: 0.9848\n"
     ]
    }
   ],
   "source": [
    "train_loss, train_acc = network_8.evaluate(train_images, train_labels)\n",
    "print('Train Loss: %s\\nTrain Accuracy: %s' % (train_loss,train_acc))"
   ]
  },
  {
   "cell_type": "code",
   "execution_count": 140,
   "metadata": {},
   "outputs": [
    {
     "name": "stdout",
     "output_type": "stream",
     "text": [
      "10000/10000 [==============================] - 2s 208us/step\n",
      "Test Loss: 0.11357019108559326\n",
      "Test Accuracy: 0.9769\n"
     ]
    }
   ],
   "source": [
    "test_loss, test_acc = network_7.evaluate(test_images, test_labels)\n",
    "print('Test Loss: %s\\nTest Accuracy: %s' % (test_loss,test_acc))"
   ]
  },
  {
   "cell_type": "code",
   "execution_count": 155,
   "metadata": {},
   "outputs": [
    {
     "name": "stdout",
     "output_type": "stream",
     "text": [
      "10000/10000 [==============================] - 1s 80us/step\n",
      "Test Loss: 0.09489086502046266\n",
      "Test Accuracy: 0.9737\n"
     ]
    }
   ],
   "source": [
    "test_loss, test_acc = network_8.evaluate(test_images, test_labels)\n",
    "print('Test Loss: %s\\nTest Accuracy: %s' % (test_loss,test_acc))"
   ]
  },
  {
   "cell_type": "code",
   "execution_count": 94,
   "metadata": {},
   "outputs": [
    {
     "data": {
      "text/plain": [
       "numpy.ndarray"
      ]
     },
     "execution_count": 94,
     "metadata": {},
     "output_type": "execute_result"
    }
   ],
   "source": [
    "type(test_images)"
   ]
  },
  {
   "cell_type": "code",
   "execution_count": 141,
   "metadata": {},
   "outputs": [
    {
     "name": "stdout",
     "output_type": "stream",
     "text": [
      "Training----------\n",
      "             precision    recall  f1-score   support\n",
      "\n",
      "          0       0.99      1.00      0.99      5923\n",
      "          1       0.99      1.00      0.99      6742\n",
      "          2       0.99      0.99      0.99      5958\n",
      "          3       0.99      0.98      0.99      6131\n",
      "          4       0.98      1.00      0.99      5842\n",
      "          5       0.99      0.98      0.98      5421\n",
      "          6       0.99      0.99      0.99      5918\n",
      "          7       0.99      0.98      0.99      6265\n",
      "          8       0.99      0.98      0.98      5851\n",
      "          9       0.99      0.97      0.98      5949\n",
      "\n",
      "avg / total       0.99      0.99      0.99     60000\n",
      "\n",
      "[[5895    1    2    0    4    3    8    1    5    4]\n",
      " [   0 6719    6    0    7    0    2    4    4    0]\n",
      " [   8    6 5902   10    9    2    3    3   14    1]\n",
      " [   6    8   23 6027    3   16    0    7   31   10]\n",
      " [   1    7    3    0 5816    1    2    3    0    9]\n",
      " [   6    1    1   39    6 5297   36    5    4   26]\n",
      " [  14    2    0    0    8    6 5888    0    0    0]\n",
      " [   2   36   40    2   12    0    0 6156    5   12]\n",
      " [   8   37    3    6    5   27   31    4 5724    6]\n",
      " [   8    2    1   11   95    5    1   21   10 5795]]\n",
      "Testing----------\n",
      "             precision    recall  f1-score   support\n",
      "\n",
      "          0       0.98      0.99      0.98       980\n",
      "          1       0.98      0.99      0.99      1135\n",
      "          2       0.98      0.98      0.98      1032\n",
      "          3       0.97      0.99      0.98      1010\n",
      "          4       0.97      0.99      0.98       982\n",
      "          5       0.98      0.96      0.97       892\n",
      "          6       0.97      0.99      0.98       958\n",
      "          7       0.99      0.96      0.97      1028\n",
      "          8       0.97      0.96      0.97       974\n",
      "          9       0.98      0.97      0.97      1009\n",
      "\n",
      "avg / total       0.98      0.98      0.98     10000\n",
      "\n",
      "[[ 969    1    1    0    0    3    3    1    1    1]\n",
      " [   0 1128    3    0    0    1    2    0    1    0]\n",
      " [   4    3 1008    3    3    0    2    3    6    0]\n",
      " [   0    0    5  995    0    2    0    3    3    2]\n",
      " [   0    2    1    0  971    0    4    1    0    3]\n",
      " [   2    0    0   19    1  856    9    1    1    3]\n",
      " [   3    2    0    0    5    1  946    0    1    0]\n",
      " [   2   11   13    1    2    0    0  986    8    5]\n",
      " [   8    2    2    2    3    9    7    3  935    3]\n",
      " [   2    2    0    5   20    0    0    2    3  975]]\n"
     ]
    }
   ],
   "source": [
    "import numpy as np\n",
    "from sklearn.metrics import classification_report, confusion_matrix\n",
    "\n",
    "### evaluate your model ###\n",
    "print(\"Training----------\")\n",
    "yhat_train = network_7.predict(train_images)\n",
    "yhat_train = np.argmax(yhat_train,axis = 1)\n",
    "yhat_train2 = np.argmax(train_labels,axis = 1)\n",
    "\n",
    "print(classification_report(yhat_train2, yhat_train))\n",
    "print(confusion_matrix(yhat_train2, yhat_train))\n",
    "print(\"Testing----------\")\n",
    "yhat_test = network_7.predict(test_images)\n",
    "yhat_test = np.argmax(yhat_test,axis = 1)\n",
    "yhat_test2 = np.argmax(test_labels,axis = 1)\n",
    "\n",
    "print(classification_report(yhat_test2, yhat_test))\n",
    "print(confusion_matrix(yhat_test2, yhat_test))"
   ]
  },
  {
   "cell_type": "markdown",
   "metadata": {},
   "source": [
    "### Result & Discussion \n",
    "\n",
    "- Write down the key finding from this lab. Discuss what you had done, what do you get from the output or a result, and why (support your reason)"
   ]
  },
  {
   "cell_type": "markdown",
   "metadata": {},
   "source": [
    "By increase the epochs, the result will get overfit because it will be more familiar with the training set. <br><br>\n",
    "By apply an early stop, the training stop at the point where the model started to get overfit which is at epoch 2. <br><br>\n",
    "By adding l1 regularizer, the model get overfit more difficult than model with no regularizer to punish the high-term polynomial inorder to make the model predict more general rather than to the training set. <br><br> From observation, l2 tends to have a better accuracy at early epoch but l1 will have a better accuracy than l2 by time that a number of epoch increase. <br><br>\n",
    "By adding dropout to every layer, it seems to help the overfit problem and increase the accuracy because it drop a node with a given probability, too small probability result in high accuracy but overfitted model, too larger with result in lower accuracy meaning the optimal point is somewhere between a two value. In this case, we use 0.25 because it's a half way between 0.1 (high accuracy but overfit) and  0.5 (lower accuracy means that we need more epoch to train which is not garuntee that a model won't overfit)."
   ]
  },
  {
   "cell_type": "markdown",
   "metadata": {},
   "source": [
    "### 8. Play with your model\n",
    "\n",
    "1. Use any kind of drawing application ( For example, Paint or Adobe Photoshop ), create a 28x28 pixel (any resolution) with white background and black paint. \n",
    "2. Draw 3 any distinct single digit number of a range from 0 - 9. Then save the image (PNG)\n",
    "3. Install open-cv (See https://pypi.org/project/opencv-python) by \n",
    "> `pip install opencv-python` <br/> or conda (See https://anaconda.org/conda-forge/opencv)\n",
    "4. Load your image to this IPython using ```imread()``` function\n",
    "5. Preprocess as what you did during the development stage.\n",
    "6. Feed your image to your best model.\n",
    "\n",
    "What class do your model predict? Does it correct? If not, why do it still get negative result since your model get more than 90% accuracy?"
   ]
  },
  {
   "cell_type": "code",
   "execution_count": 96,
   "metadata": {},
   "outputs": [
    {
     "data": {
      "text/plain": [
       "\"from keras.models import load_model\\nnetwork_4.save('my_model.h5')\""
      ]
     },
     "execution_count": 96,
     "metadata": {},
     "output_type": "execute_result"
    }
   ],
   "source": [
    "'''from keras.models import load_model\n",
    "network_4.save('my_model.h5')'''"
   ]
  },
  {
   "cell_type": "code",
   "execution_count": 97,
   "metadata": {},
   "outputs": [],
   "source": [
    "#use_mode = load_model('my_model.h5')"
   ]
  },
  {
   "cell_type": "code",
   "execution_count": 3,
   "metadata": {},
   "outputs": [],
   "source": [
    "import cv2\n",
    "imgloc1 = \"3.png\" \n",
    "imgloc2 = \"4.png\" \n",
    "imgloc3 = \"5.png\" \n",
    "imgloc4 = \"8.png\" \n",
    "imgloc5 = \"1.png\" \n",
    "imgloc6 = \"10.png\" \n",
    "imgloc7 = \"5_1.png\" \n",
    "img = np.array([\n",
    "        cv2.imread(imgloc1,0),\n",
    "        cv2.imread(imgloc2,0),\n",
    "        cv2.imread(imgloc3,0),\n",
    "        cv2.imread(imgloc4,0),\n",
    "        cv2.imread(imgloc5,0),\n",
    "        cv2.imread(imgloc6,0),\n",
    "        cv2.imread(imgloc7,0)\n",
    "    ])\n",
    "#img = cv2.cvtColor(img, cv2.COLOR_BGR2GRAY)"
   ]
  },
  {
   "cell_type": "code",
   "execution_count": 4,
   "metadata": {},
   "outputs": [
    {
     "data": {
      "text/plain": [
       "array([[[0, 0, 0, ..., 0, 0, 0],\n",
       "        [0, 0, 0, ..., 0, 0, 0],\n",
       "        [0, 0, 0, ..., 0, 0, 0],\n",
       "        ...,\n",
       "        [0, 0, 0, ..., 0, 0, 0],\n",
       "        [0, 0, 0, ..., 0, 0, 0],\n",
       "        [0, 0, 0, ..., 0, 0, 0]],\n",
       "\n",
       "       [[0, 0, 0, ..., 0, 0, 0],\n",
       "        [0, 0, 0, ..., 0, 0, 0],\n",
       "        [0, 0, 0, ..., 0, 0, 0],\n",
       "        ...,\n",
       "        [0, 0, 0, ..., 0, 0, 0],\n",
       "        [0, 0, 0, ..., 0, 0, 0],\n",
       "        [0, 0, 0, ..., 0, 0, 0]],\n",
       "\n",
       "       [[0, 0, 0, ..., 0, 0, 0],\n",
       "        [0, 0, 0, ..., 0, 0, 0],\n",
       "        [0, 0, 0, ..., 0, 0, 0],\n",
       "        ...,\n",
       "        [0, 0, 0, ..., 0, 0, 0],\n",
       "        [0, 0, 0, ..., 0, 0, 0],\n",
       "        [0, 0, 0, ..., 0, 0, 0]],\n",
       "\n",
       "       ...,\n",
       "\n",
       "       [[0, 0, 0, ..., 0, 0, 0],\n",
       "        [0, 0, 0, ..., 0, 0, 0],\n",
       "        [0, 0, 0, ..., 0, 0, 0],\n",
       "        ...,\n",
       "        [0, 0, 0, ..., 0, 0, 0],\n",
       "        [0, 0, 0, ..., 0, 0, 0],\n",
       "        [0, 0, 0, ..., 0, 0, 0]],\n",
       "\n",
       "       [[0, 0, 0, ..., 0, 0, 0],\n",
       "        [0, 0, 0, ..., 0, 0, 0],\n",
       "        [0, 0, 0, ..., 0, 0, 0],\n",
       "        ...,\n",
       "        [0, 0, 0, ..., 0, 0, 0],\n",
       "        [0, 0, 0, ..., 0, 0, 0],\n",
       "        [0, 0, 0, ..., 0, 0, 0]],\n",
       "\n",
       "       [[0, 0, 0, ..., 0, 0, 0],\n",
       "        [0, 0, 0, ..., 0, 0, 0],\n",
       "        [0, 0, 0, ..., 0, 0, 0],\n",
       "        ...,\n",
       "        [0, 0, 0, ..., 0, 0, 0],\n",
       "        [0, 0, 0, ..., 0, 0, 0],\n",
       "        [0, 0, 0, ..., 0, 0, 0]]], dtype=uint8)"
      ]
     },
     "execution_count": 4,
     "metadata": {},
     "output_type": "execute_result"
    }
   ],
   "source": [
    "img"
   ]
  },
  {
   "cell_type": "code",
   "execution_count": 274,
   "metadata": {},
   "outputs": [
    {
     "data": {
      "text/plain": [
       "<matplotlib.image.AxesImage at 0x22793b1de10>"
      ]
     },
     "execution_count": 274,
     "metadata": {},
     "output_type": "execute_result"
    },
    {
     "data": {
      "image/png": "[encoded data removed]",
      "text/plain": [
       "<Figure size 432x288 with 1 Axes>"
      ]
     },
     "metadata": {},
     "output_type": "display_data"
    }
   ],
   "source": [
    "import matplotlib.pyplot as plt\n",
    "%matplotlib inline\n",
    "plt.imshow(img[0], cmap=plt.cm.binary)"
   ]
  },
  {
   "cell_type": "code",
   "execution_count": 158,
   "metadata": {},
   "outputs": [
    {
     "data": {
      "text/plain": [
       "<matplotlib.image.AxesImage at 0x227ca0fbcc0>"
      ]
     },
     "execution_count": 158,
     "metadata": {},
     "output_type": "execute_result"
    },
    {
     "data": {
      "image/png": "[encoded data removed]",
      "text/plain": [
       "<Figure size 432x288 with 1 Axes>"
      ]
     },
     "metadata": {},
     "output_type": "display_data"
    }
   ],
   "source": [
    "plt.imshow(img[1], cmap=plt.cm.binary)"
   ]
  },
  {
   "cell_type": "code",
   "execution_count": 159,
   "metadata": {},
   "outputs": [
    {
     "data": {
      "text/plain": [
       "<matplotlib.image.AxesImage at 0x227d1309358>"
      ]
     },
     "execution_count": 159,
     "metadata": {},
     "output_type": "execute_result"
    },
    {
     "data": {
      "image/png": "[encoded data removed]",
      "text/plain": [
       "<Figure size 432x288 with 1 Axes>"
      ]
     },
     "metadata": {},
     "output_type": "display_data"
    }
   ],
   "source": [
    "plt.imshow(img[2], cmap=plt.cm.binary)"
   ]
  },
  {
   "cell_type": "code",
   "execution_count": 160,
   "metadata": {},
   "outputs": [
    {
     "data": {
      "text/plain": [
       "<matplotlib.image.AxesImage at 0x227ca124dd8>"
      ]
     },
     "execution_count": 160,
     "metadata": {},
     "output_type": "execute_result"
    },
    {
     "data": {
      "image/png": "[encoded data removed]",
      "text/plain": [
       "<Figure size 432x288 with 1 Axes>"
      ]
     },
     "metadata": {},
     "output_type": "display_data"
    }
   ],
   "source": [
    "plt.imshow(img[3], cmap=plt.cm.binary)"
   ]
  },
  {
   "cell_type": "code",
   "execution_count": 161,
   "metadata": {},
   "outputs": [
    {
     "data": {
      "text/plain": [
       "<matplotlib.image.AxesImage at 0x227fd8a89b0>"
      ]
     },
     "execution_count": 161,
     "metadata": {},
     "output_type": "execute_result"
    },
    {
     "data": {
      "image/png": "[encoded data removed]",
      "text/plain": [
       "<Figure size 432x288 with 1 Axes>"
      ]
     },
     "metadata": {},
     "output_type": "display_data"
    }
   ],
   "source": [
    "plt.imshow(img[4], cmap=plt.cm.binary)"
   ]
  },
  {
   "cell_type": "code",
   "execution_count": 162,
   "metadata": {},
   "outputs": [
    {
     "data": {
      "text/plain": [
       "<matplotlib.image.AxesImage at 0x2278524c208>"
      ]
     },
     "execution_count": 162,
     "metadata": {},
     "output_type": "execute_result"
    },
    {
     "data": {
      "image/png": "[encoded data removed]",
      "text/plain": [
       "<Figure size 432x288 with 1 Axes>"
      ]
     },
     "metadata": {},
     "output_type": "display_data"
    }
   ],
   "source": [
    "plt.imshow(img[5], cmap=plt.cm.binary)"
   ]
  },
  {
   "cell_type": "code",
   "execution_count": 172,
   "metadata": {},
   "outputs": [
    {
     "data": {
      "text/plain": [
       "<matplotlib.image.AxesImage at 0x2278286cb70>"
      ]
     },
     "execution_count": 172,
     "metadata": {},
     "output_type": "execute_result"
    },
    {
     "data": {
      "image/png": "[encoded data removed]",
      "text/plain": [
       "<Figure size 432x288 with 1 Axes>"
      ]
     },
     "metadata": {},
     "output_type": "display_data"
    }
   ],
   "source": [
    "plt.imshow(img[6], cmap=plt.cm.binary)"
   ]
  },
  {
   "cell_type": "code",
   "execution_count": 173,
   "metadata": {},
   "outputs": [
    {
     "data": {
      "text/plain": [
       "3"
      ]
     },
     "execution_count": 173,
     "metadata": {},
     "output_type": "execute_result"
    }
   ],
   "source": [
    "img.ndim"
   ]
  },
  {
   "cell_type": "code",
   "execution_count": 174,
   "metadata": {},
   "outputs": [
    {
     "data": {
      "text/plain": [
       "(7, 28, 28)"
      ]
     },
     "execution_count": 174,
     "metadata": {},
     "output_type": "execute_result"
    }
   ],
   "source": [
    "img.shape"
   ]
  },
  {
   "cell_type": "code",
   "execution_count": 176,
   "metadata": {},
   "outputs": [],
   "source": [
    "img = img.reshape(7,28*28) # Reshape\n",
    "img = img.astype('float32')/255 # Normalize"
   ]
  },
  {
   "cell_type": "code",
   "execution_count": 177,
   "metadata": {},
   "outputs": [
    {
     "data": {
      "text/plain": [
       "(7, 784)"
      ]
     },
     "execution_count": 177,
     "metadata": {},
     "output_type": "execute_result"
    }
   ],
   "source": [
    "img.shape"
   ]
  },
  {
   "cell_type": "code",
   "execution_count": 178,
   "metadata": {},
   "outputs": [
    {
     "data": {
      "text/plain": [
       "array([0.        , 0.        , 0.        , 0.        , 0.        ,\n",
       "       0.        , 0.        , 0.        , 0.        , 0.        ,\n",
       "       0.        , 0.        , 0.        , 0.        , 0.        ,\n",
       "       0.        , 0.        , 0.        , 0.        , 0.        ,\n",
       "       0.        , 0.        , 0.        , 0.        , 0.        ,\n",
       "       0.        , 0.        , 0.        , 0.        , 0.        ,\n",
       "       0.        , 0.        , 0.        , 0.        , 0.        ,\n",
       "       0.        , 0.        , 0.        , 0.        , 0.        ,\n",
       "       0.        , 0.        , 0.        , 0.        , 0.        ,\n",
       "       0.        , 0.        , 0.        , 0.        , 0.        ,\n",
       "       0.        , 0.        , 0.        , 0.        , 0.        ,\n",
       "       0.        , 0.        , 0.        , 0.        , 0.        ,\n",
       "       0.        , 0.        , 0.        , 0.        , 0.        ,\n",
       "       0.        , 0.        , 0.        , 0.        , 0.        ,\n",
       "       0.        , 0.        , 0.        , 0.        , 0.        ,\n",
       "       0.        , 0.        , 0.        , 0.        , 0.        ,\n",
       "       0.        , 0.        , 0.        , 0.        , 0.        ,\n",
       "       0.        , 0.        , 0.        , 0.        , 0.28235295,\n",
       "       0.8745098 , 1.        , 1.        , 1.        , 1.        ,\n",
       "       1.        , 1.        , 1.        , 0.8745098 , 0.3764706 ,\n",
       "       0.        , 0.        , 0.        , 0.        , 0.        ,\n",
       "       0.        , 0.        , 0.        , 0.        , 0.        ,\n",
       "       0.        , 0.        , 0.        , 0.        , 0.        ,\n",
       "       0.        , 0.28235295, 0.9372549 , 1.        , 1.        ,\n",
       "       1.        , 1.        , 1.        , 1.        , 1.        ,\n",
       "       1.        , 1.        , 0.96862745, 0.3764706 , 0.        ,\n",
       "       0.        , 0.        , 0.        , 0.        , 0.        ,\n",
       "       0.        , 0.        , 0.        , 0.        , 0.        ,\n",
       "       0.        , 0.        , 0.        , 0.        , 0.90588236,\n",
       "       1.        , 1.        , 1.        , 1.        , 1.        ,\n",
       "       1.        , 1.        , 1.        , 1.        , 1.        ,\n",
       "       1.        , 0.96862745, 0.3764706 , 0.        , 0.        ,\n",
       "       0.        , 0.        , 0.        , 0.        , 0.        ,\n",
       "       0.        , 0.        , 0.        , 0.        , 0.        ,\n",
       "       0.        , 0.        , 1.        , 1.        , 1.        ,\n",
       "       0.5921569 , 0.        , 0.        , 0.        , 0.        ,\n",
       "       0.        , 0.47058824, 1.        , 1.        , 1.        ,\n",
       "       0.96862745, 0.        , 0.        , 0.        , 0.        ,\n",
       "       0.        , 0.        , 0.        , 0.        , 0.        ,\n",
       "       0.        , 0.        , 0.        , 0.        , 0.        ,\n",
       "       1.        , 1.        , 1.        , 0.        , 0.        ,\n",
       "       0.        , 0.        , 0.        , 0.        , 0.        ,\n",
       "       0.47058824, 1.        , 1.        , 1.        , 0.        ,\n",
       "       0.        , 0.        , 0.        , 0.        , 0.        ,\n",
       "       0.        , 0.        , 0.        , 0.        , 0.        ,\n",
       "       0.        , 0.        , 0.        , 0.96862745, 1.        ,\n",
       "       1.        , 0.        , 0.        , 0.        , 0.        ,\n",
       "       0.        , 0.        , 0.        , 0.        , 1.        ,\n",
       "       1.        , 1.        , 0.        , 0.        , 0.        ,\n",
       "       0.        , 0.        , 0.        , 0.        , 0.        ,\n",
       "       0.        , 0.        , 0.        , 0.        , 0.        ,\n",
       "       0.        , 0.47058824, 1.        , 0.5921569 , 0.        ,\n",
       "       0.        , 0.        , 0.        , 0.        , 0.        ,\n",
       "       0.        , 0.28235295, 1.        , 1.        , 1.        ,\n",
       "       0.        , 0.        , 0.        , 0.        , 0.        ,\n",
       "       0.        , 0.        , 0.        , 0.        , 0.        ,\n",
       "       0.        , 0.        , 0.        , 0.        , 0.        ,\n",
       "       0.        , 0.        , 0.        , 0.        , 0.        ,\n",
       "       0.        , 0.        , 0.        , 0.        , 0.90588236,\n",
       "       1.        , 1.        , 1.        , 0.        , 0.        ,\n",
       "       0.        , 0.        , 0.        , 0.        , 0.        ,\n",
       "       0.        , 0.        , 0.        , 0.        , 0.        ,\n",
       "       0.        , 0.        , 0.        , 0.        , 0.        ,\n",
       "       0.        , 0.        , 0.        , 0.        , 0.        ,\n",
       "       0.28235295, 0.8745098 , 1.        , 1.        , 1.        ,\n",
       "       0.5921569 , 0.        , 0.        , 0.        , 0.        ,\n",
       "       0.        , 0.        , 0.        , 0.        , 0.        ,\n",
       "       0.        , 0.        , 0.        , 0.        , 0.        ,\n",
       "       0.        , 0.        , 0.        , 0.        , 0.28235295,\n",
       "       0.8745098 , 1.        , 1.        , 1.        , 1.        ,\n",
       "       1.        , 1.        , 0.654902  , 0.        , 0.        ,\n",
       "       0.        , 0.        , 0.        , 0.        , 0.        ,\n",
       "       0.        , 0.        , 0.        , 0.        , 0.        ,\n",
       "       0.        , 0.        , 0.        , 0.        , 0.        ,\n",
       "       0.        , 0.        , 0.8745098 , 1.        , 1.        ,\n",
       "       1.        , 1.        , 1.        , 1.        , 1.        ,\n",
       "       0.40784314, 0.        , 0.        , 0.        , 0.        ,\n",
       "       0.        , 0.        , 0.        , 0.        , 0.        ,\n",
       "       0.        , 0.        , 0.        , 0.        , 0.        ,\n",
       "       0.        , 0.        , 0.        , 0.        , 0.        ,\n",
       "       0.47058824, 1.        , 1.        , 1.        , 1.        ,\n",
       "       1.        , 1.        , 1.        , 0.96862745, 0.        ,\n",
       "       0.        , 0.        , 0.        , 0.        , 0.        ,\n",
       "       0.        , 0.        , 0.        , 0.        , 0.        ,\n",
       "       0.        , 0.        , 0.        , 0.        , 0.        ,\n",
       "       0.        , 0.        , 0.        , 0.        , 0.        ,\n",
       "       0.47058824, 1.        , 1.        , 1.        , 1.        ,\n",
       "       1.        , 1.        , 0.3764706 , 0.        , 0.        ,\n",
       "       0.        , 0.        , 0.        , 0.        , 0.        ,\n",
       "       0.        , 0.        , 0.        , 0.        , 0.        ,\n",
       "       0.        , 0.        , 0.        , 0.        , 0.        ,\n",
       "       0.        , 0.        , 0.        , 0.        , 0.        ,\n",
       "       0.        , 0.        , 0.96862745, 1.        , 1.        ,\n",
       "       0.96862745, 0.        , 0.        , 0.        , 0.        ,\n",
       "       0.        , 0.        , 0.        , 0.        , 0.        ,\n",
       "       0.        , 0.        , 0.        , 0.        , 0.        ,\n",
       "       0.        , 0.        , 0.        , 0.        , 0.        ,\n",
       "       0.        , 0.        , 0.        , 0.        , 0.        ,\n",
       "       0.47058824, 1.        , 1.        , 1.        , 0.        ,\n",
       "       0.        , 0.        , 0.        , 0.        , 0.        ,\n",
       "       0.        , 0.        , 0.        , 0.        , 0.        ,\n",
       "       0.        , 0.        , 0.        , 0.        , 0.        ,\n",
       "       0.        , 0.        , 0.        , 0.        , 0.        ,\n",
       "       0.        , 0.        , 0.        , 0.        , 1.        ,\n",
       "       1.        , 1.        , 0.        , 0.        , 0.        ,\n",
       "       0.        , 0.        , 0.        , 0.        , 0.        ,\n",
       "       0.        , 0.        , 0.        , 0.        , 0.        ,\n",
       "       0.        , 0.        , 0.        , 0.        , 0.        ,\n",
       "       0.        , 0.        , 0.        , 0.        , 0.        ,\n",
       "       0.        , 0.        , 1.        , 1.        , 1.        ,\n",
       "       0.        , 0.        , 0.        , 0.        , 0.        ,\n",
       "       0.        , 0.        , 0.        , 0.        , 0.        ,\n",
       "       0.        , 0.        , 0.        , 0.28235295, 0.8745098 ,\n",
       "       0.8745098 , 0.3764706 , 0.        , 0.        , 0.        ,\n",
       "       0.        , 0.        , 0.        , 0.        , 0.28235295,\n",
       "       1.        , 1.        , 1.        , 0.        , 0.        ,\n",
       "       0.        , 0.        , 0.        , 0.        , 0.        ,\n",
       "       0.        , 0.        , 0.        , 0.        , 0.        ,\n",
       "       0.        , 0.8745098 , 1.        , 1.        , 0.96862745,\n",
       "       0.        , 0.        , 0.        , 0.        , 0.        ,\n",
       "       0.        , 0.        , 0.90588236, 1.        , 1.        ,\n",
       "       1.        , 0.        , 0.        , 0.        , 0.        ,\n",
       "       0.        , 0.        , 0.        , 0.        , 0.        ,\n",
       "       0.        , 0.        , 0.        , 0.        , 0.47058824,\n",
       "       1.        , 1.        , 1.        , 0.        , 0.        ,\n",
       "       0.        , 0.        , 0.        , 0.28235295, 0.8745098 ,\n",
       "       1.        , 1.        , 1.        , 0.5921569 , 0.        ,\n",
       "       0.        , 0.        , 0.        , 0.        , 0.        ,\n",
       "       0.        , 0.        , 0.        , 0.        , 0.        ,\n",
       "       0.        , 0.        , 0.        , 1.        , 1.        ,\n",
       "       1.        , 1.        , 1.        , 1.        , 1.        ,\n",
       "       1.        , 1.        , 1.        , 1.        , 1.        ,\n",
       "       1.        , 0.        , 0.        , 0.        , 0.        ,\n",
       "       0.        , 0.        , 0.        , 0.        , 0.        ,\n",
       "       0.        , 0.        , 0.        , 0.        , 0.        ,\n",
       "       0.        , 0.96862745, 1.        , 1.        , 1.        ,\n",
       "       1.        , 1.        , 1.        , 1.        , 1.        ,\n",
       "       1.        , 1.        , 1.        , 0.5921569 , 0.        ,\n",
       "       0.        , 0.        , 0.        , 0.        , 0.        ,\n",
       "       0.        , 0.        , 0.        , 0.        , 0.        ,\n",
       "       0.        , 0.        , 0.        , 0.        , 0.47058824,\n",
       "       1.        , 1.        , 1.        , 1.        , 1.        ,\n",
       "       1.        , 1.        , 1.        , 1.        , 0.5921569 ,\n",
       "       0.        , 0.        , 0.        , 0.        , 0.        ,\n",
       "       0.        , 0.        , 0.        , 0.        , 0.        ,\n",
       "       0.        , 0.        , 0.        , 0.        , 0.        ,\n",
       "       0.        , 0.        , 0.        , 0.        , 0.        ,\n",
       "       0.        , 0.        , 0.        , 0.        , 0.        ,\n",
       "       0.        , 0.        , 0.        , 0.        , 0.        ,\n",
       "       0.        , 0.        , 0.        , 0.        , 0.        ,\n",
       "       0.        , 0.        , 0.        , 0.        , 0.        ,\n",
       "       0.        , 0.        , 0.        , 0.        , 0.        ,\n",
       "       0.        , 0.        , 0.        , 0.        , 0.        ,\n",
       "       0.        , 0.        , 0.        , 0.        , 0.        ,\n",
       "       0.        , 0.        , 0.        , 0.        , 0.        ,\n",
       "       0.        , 0.        , 0.        , 0.        , 0.        ,\n",
       "       0.        , 0.        , 0.        , 0.        ], dtype=float32)"
      ]
     },
     "execution_count": 178,
     "metadata": {},
     "output_type": "execute_result"
    }
   ],
   "source": [
    "img[0]"
   ]
  },
  {
   "cell_type": "code",
   "execution_count": 179,
   "metadata": {},
   "outputs": [],
   "source": [
    "y_prob = network_7.predict(img) \n",
    "y_classes = y_prob.argmax(axis=-1)"
   ]
  },
  {
   "cell_type": "code",
   "execution_count": 180,
   "metadata": {},
   "outputs": [
    {
     "name": "stdout",
     "output_type": "stream",
     "text": [
      "[[0.00000000e+00 0.00000000e+00 0.00000000e+00 1.00000000e+00\n",
      "  0.00000000e+00 0.00000000e+00 0.00000000e+00 0.00000000e+00\n",
      "  0.00000000e+00 0.00000000e+00]\n",
      " [1.63118867e-13 9.75648598e-14 8.29412927e-11 2.98783186e-11\n",
      "  9.99994874e-01 2.05733885e-11 2.13425666e-11 4.88530353e-12\n",
      "  8.06729961e-11 5.12854149e-06]\n",
      " [1.73545256e-03 1.51156529e-03 1.14522444e-03 1.20994635e-01\n",
      "  1.82800218e-02 6.88419700e-01 3.93007183e-03 1.48639164e-03\n",
      "  6.82078116e-03 1.55676246e-01]\n",
      " [4.57759015e-04 1.74585584e-05 1.16066672e-04 8.93975887e-03\n",
      "  7.93039362e-06 1.32868328e-04 2.85191316e-04 3.27067755e-05\n",
      "  9.89910185e-01 1.00024627e-04]\n",
      " [1.17768462e-08 9.96883690e-01 3.09785735e-03 2.92346681e-06\n",
      "  1.49372823e-07 2.04764456e-06 4.78720449e-06 3.07726765e-07\n",
      "  8.14116629e-06 9.21705767e-10]\n",
      " [7.85849537e-08 9.42513943e-01 4.07807203e-03 2.08370364e-03\n",
      "  3.26912364e-08 5.07330447e-02 2.65178987e-05 1.87532780e-08\n",
      "  5.64547838e-04 1.03296740e-08]\n",
      " [1.12834470e-12 2.67821165e-11 6.96323815e-12 4.02356955e-06\n",
      "  2.73845335e-10 9.99995947e-01 3.85366350e-10 2.48772053e-12\n",
      "  9.05145126e-10 4.52651356e-08]]\n"
     ]
    }
   ],
   "source": [
    "print(y_prob)"
   ]
  },
  {
   "cell_type": "code",
   "execution_count": 181,
   "metadata": {},
   "outputs": [
    {
     "name": "stdout",
     "output_type": "stream",
     "text": [
      "[3 4 5 8 1 1 5]\n"
     ]
    }
   ],
   "source": [
    "print(y_classes)"
   ]
  },
  {
   "cell_type": "code",
   "execution_count": 275,
   "metadata": {},
   "outputs": [],
   "source": [
    "loc0 = \"key/0.png\" \n",
    "loc1 = \"key/1.png\" \n",
    "loc2 = \"key/2.png\" \n",
    "loc3 = \"key/3.png\" \n",
    "loc4 = \"key/4.png\"  \n",
    "loc5 = \"key/5.png\" \n",
    "loc6 = \"key/6.png\"  \n",
    "loc7 = \"key/7.png\" \n",
    "loc8 = \"key/8.png\" \n",
    "loc9 = \"key/9.png\"  \n",
    "image = np.array([\n",
    "        cv2.imread(loc0,0),\n",
    "        cv2.imread(loc1,0),\n",
    "        cv2.imread(loc2,0),\n",
    "        cv2.imread(loc3,0),\n",
    "        cv2.imread(loc4,0),\n",
    "        cv2.imread(loc5,0),\n",
    "        cv2.imread(loc6,0),\n",
    "        cv2.imread(loc7,0),\n",
    "        cv2.imread(loc8,0),\n",
    "        cv2.imread(loc9,0)\n",
    "    ])\n",
    "#img = cv2.cvtColor(img, cv2.COLOR_BGR2GRAY)"
   ]
  },
  {
   "cell_type": "code",
   "execution_count": 276,
   "metadata": {},
   "outputs": [
    {
     "data": {
      "text/plain": [
       "(10, 28, 28)"
      ]
     },
     "execution_count": 276,
     "metadata": {},
     "output_type": "execute_result"
    }
   ],
   "source": [
    "image.shape"
   ]
  },
  {
   "cell_type": "code",
   "execution_count": 277,
   "metadata": {},
   "outputs": [],
   "source": [
    "image = image.reshape(10,28*28) # Reshape\n",
    "image = image.astype('float32')/255 # Normalize"
   ]
  },
  {
   "cell_type": "code",
   "execution_count": 278,
   "metadata": {},
   "outputs": [],
   "source": [
    "y_prob1 = network_7.predict(image) \n",
    "y_classes1 = y_prob1.argmax(axis=-1)"
   ]
  },
  {
   "cell_type": "code",
   "execution_count": 279,
   "metadata": {},
   "outputs": [
    {
     "name": "stdout",
     "output_type": "stream",
     "text": [
      "[[9.9953282e-01 1.6191471e-07 1.4126825e-04 4.5459282e-07 1.9249139e-06\n",
      "  2.2810477e-07 1.6282165e-07 3.1927277e-07 2.0482046e-06 3.2060599e-04]\n",
      " [0.0000000e+00 1.0000000e+00 3.1934269e-30 1.1979971e-33 0.0000000e+00\n",
      "  6.2240353e-38 6.8209478e-37 1.8385640e-32 2.7433274e-28 0.0000000e+00]\n",
      " [2.8707276e-04 1.1631820e-02 9.2971629e-01 4.7000468e-02 4.5340855e-04\n",
      "  1.5737177e-03 5.4054723e-05 3.9068558e-03 5.3526713e-03 2.3570883e-05]\n",
      " [1.3246328e-23 4.4075763e-17 3.3583707e-12 1.0000000e+00 6.9898138e-23\n",
      "  9.2423255e-14 3.3174414e-34 9.6927287e-18 2.6107338e-18 1.1215233e-17]\n",
      " [3.0505666e-07 1.5472787e-06 2.5822827e-05 8.0313230e-06 9.9779296e-01\n",
      "  1.2426540e-05 1.4421584e-05 1.0789407e-05 2.4084951e-05 2.1097697e-03]\n",
      " [5.8765683e-12 1.8701193e-10 5.0953710e-11 1.4902523e-05 6.1765965e-10\n",
      "  9.9998498e-01 7.1482420e-10 6.3901588e-12 2.7696105e-09 7.5682799e-08]\n",
      " [8.3205505e-06 3.4247332e-06 6.2197755e-06 4.9984287e-03 4.3787408e-05\n",
      "  9.9469453e-01 3.5866211e-05 2.7187455e-06 2.8444492e-05 1.7834187e-04]\n",
      " [8.4691447e-07 5.5679851e-03 9.9154961e-01 1.8134117e-03 3.8684157e-05\n",
      "  3.8541682e-05 2.4584913e-06 9.1434678e-04 7.3640811e-05 4.8073196e-07]\n",
      " [1.2641053e-03 8.4579355e-05 1.1662716e-03 5.1896013e-02 3.7543927e-05\n",
      "  4.0574634e-04 1.3931234e-04 2.3673545e-04 9.4423336e-01 5.3637876e-04]\n",
      " [1.7274080e-03 4.5361515e-04 3.4071091e-03 5.5776432e-02 3.1041335e-02\n",
      "  1.7373157e-03 1.6515251e-05 3.9500832e-03 1.2712317e-02 8.8917786e-01]]\n"
     ]
    }
   ],
   "source": [
    "print(y_prob1)"
   ]
  },
  {
   "cell_type": "code",
   "execution_count": 280,
   "metadata": {},
   "outputs": [
    {
     "name": "stdout",
     "output_type": "stream",
     "text": [
      "[0 1 2 3 4 5 6 7 8 9]\n",
      "[0 1 2 3 4 5 5 2 8 9]\n"
     ]
    }
   ],
   "source": [
    "print(\"[0 1 2 3 4 5 6 7 8 9]\")\n",
    "print(y_classes1)"
   ]
  },
  {
   "cell_type": "markdown",
   "metadata": {},
   "source": [
    "### Answer\n",
    "Our model seems to precisely predict the number that both follows and not follows the pattern of train and test set with an exception of 6 and 7 due to the pattern of typed number doesn't resemble to hand-written number. For instance, number 10 is not in the expected input but our model predict that it is likely to be eithier 1 or 0 which is a great sign that it predict the result in a correct set of answer. So the result of our model tuning give a good result."
   ]
  },
  {
   "cell_type": "markdown",
   "metadata": {},
   "source": [
    "### Challenges: Play with initializer\n",
    "\n",
    "- Create two-layer neural network with any hyperparameter\n",
    "- Use or create an weight initializer function that initialize all the weight to one. See: https://keras.io/initializers/\n",
    "- Discuss the result. what happen? and why?"
   ]
  },
  {
   "cell_type": "code",
   "execution_count": 268,
   "metadata": {},
   "outputs": [],
   "source": [
    "network_chal = models.Sequential()"
   ]
  },
  {
   "cell_type": "code",
   "execution_count": 269,
   "metadata": {},
   "outputs": [],
   "source": [
    "network_chal.add(layers.Dense(128, activation='elu',input_shape=(28*28,), kernel_initializer='ones'))\n",
    "network_chal.add(layers.Dense(10, activation='softmax',kernel_initializer = 'he_normal'))"
   ]
  },
  {
   "cell_type": "code",
   "execution_count": 270,
   "metadata": {},
   "outputs": [],
   "source": [
    "network_chal.compile(optimizer='adam',\n",
    "               loss='categorical_crossentropy',\n",
    "               metrics=['accuracy'])"
   ]
  },
  {
   "cell_type": "code",
   "execution_count": 271,
   "metadata": {},
   "outputs": [
    {
     "name": "stdout",
     "output_type": "stream",
     "text": [
      "Train on 54000 samples, validate on 6000 samples\n",
      "Epoch 1/20\n",
      "54000/54000 [==============================] - 3s 54us/step - loss: 14.5248 - acc: 0.0989 - val_loss: 14.5600 - val_acc: 0.0967\n",
      "Epoch 2/20\n",
      "54000/54000 [==============================] - 2s 31us/step - loss: 14.5248 - acc: 0.0989 - val_loss: 14.5600 - val_acc: 0.0967\n",
      "Epoch 3/20\n",
      "54000/54000 [==============================] - 2s 28us/step - loss: 14.5248 - acc: 0.0989 - val_loss: 14.5600 - val_acc: 0.0967\n",
      "Epoch 4/20\n",
      "54000/54000 [==============================] - 2s 29us/step - loss: 14.5248 - acc: 0.0989 - val_loss: 14.5600 - val_acc: 0.0967\n",
      "Epoch 5/20\n",
      "54000/54000 [==============================] - 1s 28us/step - loss: 14.5248 - acc: 0.0989 - val_loss: 14.5600 - val_acc: 0.0967\n",
      "Epoch 6/20\n",
      "54000/54000 [==============================] - 2s 29us/step - loss: 14.5248 - acc: 0.0989 - val_loss: 14.5600 - val_acc: 0.0967\n",
      "Epoch 7/20\n",
      "54000/54000 [==============================] - 2s 28us/step - loss: 14.5248 - acc: 0.0989 - val_loss: 14.5600 - val_acc: 0.0967\n",
      "Epoch 8/20\n",
      "54000/54000 [==============================] - 1s 28us/step - loss: 14.5248 - acc: 0.0989 - val_loss: 14.5600 - val_acc: 0.0967\n",
      "Epoch 9/20\n",
      "54000/54000 [==============================] - 2s 30us/step - loss: 14.5248 - acc: 0.0989 - val_loss: 14.5600 - val_acc: 0.0967\n",
      "Epoch 10/20\n",
      "54000/54000 [==============================] - 2s 29us/step - loss: 14.5248 - acc: 0.0989 - val_loss: 14.5600 - val_acc: 0.0967\n",
      "Epoch 11/20\n",
      "54000/54000 [==============================] - 2s 29us/step - loss: 14.5248 - acc: 0.0989 - val_loss: 14.5600 - val_acc: 0.0967\n",
      "Epoch 12/20\n",
      "54000/54000 [==============================] - 2s 31us/step - loss: 14.5248 - acc: 0.0989 - val_loss: 14.5600 - val_acc: 0.0967\n",
      "Epoch 13/20\n",
      "54000/54000 [==============================] - 2s 30us/step - loss: 14.5248 - acc: 0.0989 - val_loss: 14.5600 - val_acc: 0.0967\n",
      "Epoch 14/20\n",
      "54000/54000 [==============================] - 2s 32us/step - loss: 14.5248 - acc: 0.0989 - val_loss: 14.5600 - val_acc: 0.0967\n",
      "Epoch 15/20\n",
      "54000/54000 [==============================] - 2s 30us/step - loss: 14.5248 - acc: 0.0989 - val_loss: 14.5600 - val_acc: 0.0967\n",
      "Epoch 16/20\n",
      "54000/54000 [==============================] - 2s 30us/step - loss: 14.5248 - acc: 0.0989 - val_loss: 14.5600 - val_acc: 0.0967\n",
      "Epoch 17/20\n",
      "54000/54000 [==============================] - 2s 30us/step - loss: 14.5248 - acc: 0.0989 - val_loss: 14.5600 - val_acc: 0.0967\n",
      "Epoch 18/20\n",
      "54000/54000 [==============================] - 2s 30us/step - loss: 14.5248 - acc: 0.0989 - val_loss: 14.5600 - val_acc: 0.0967\n",
      "Epoch 19/20\n",
      "54000/54000 [==============================] - 2s 30us/step - loss: 14.5248 - acc: 0.0989 - val_loss: 14.5600 - val_acc: 0.0967\n",
      "Epoch 20/20\n",
      "54000/54000 [==============================] - 2s 30us/step - loss: 14.5248 - acc: 0.0989 - val_loss: 14.5600 - val_acc: 0.0967\n"
     ]
    }
   ],
   "source": [
    "history_rl_chal = network_chal.fit(img_train,lbl_train,epochs=20,batch_size=128,validation_data=(img_test, lbl_test))"
   ]
  },
  {
   "cell_type": "code",
   "execution_count": 272,
   "metadata": {},
   "outputs": [
    {
     "data": {
      "image/png": "[encoded data removed]",
      "text/plain": [
       "<Figure size 432x288 with 1 Axes>"
      ]
     },
     "metadata": {},
     "output_type": "display_data"
    }
   ],
   "source": [
    "plot_acc_fn(history_rl_chal)"
   ]
  },
  {
   "cell_type": "code",
   "execution_count": 239,
   "metadata": {},
   "outputs": [
    {
     "data": {
      "image/png": "[encoded data removed]",
      "text/plain": [
       "<Figure size 432x288 with 1 Axes>"
      ]
     },
     "metadata": {},
     "output_type": "display_data"
    }
   ],
   "source": [
    "plot_loss_fn(history_rl_chal)"
   ]
  },
  {
   "cell_type": "markdown",
   "metadata": {},
   "source": [
    "<b>Disscuss</b> <br>it stuck at same accuracy and loss because all node have initial same weight therefore all node will have a same gadient and the weight couldn't be adjust (from equation of z = summation of weights from previous node) to have differnt value of weight from each node."
   ]
  }
 ],
 "metadata": {
  "kernelspec": {
   "display_name": "Python 3",
   "language": "python",
   "name": "python3"
  },
  "language_info": {
   "codemirror_mode": {
    "name": "ipython",
    "version": 3
   },
   "file_extension": ".py",
   "mimetype": "text/x-python",
   "name": "python",
   "nbconvert_exporter": "python",
   "pygments_lexer": "ipython3",
   "version": "3.6.5"
  }
 },
 "nbformat": 4,
 "nbformat_minor": 2
}
