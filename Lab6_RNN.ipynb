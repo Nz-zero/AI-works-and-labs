{
 "cells": [
  {
   "cell_type": "markdown",
   "metadata": {},
   "source": [
    "# Lab 6: Training Deep Recurrent Neural Network\n",
    "Name Nattapat Yuvasuta, Student's ID 59070501028<br>\n",
    "Name Niti Buesamae, Student's ID 59070501047<br>\n",
    "\n",
    "\n",
    "*Note: Please name your file*\n",
    "\n",
    "## Lab Instruction - Emojify\n",
    "\n",
    "In this lab, you will learn to train a deep Recurrent neural network using Keras library with Tensorflow backend. Your task is to do the sentimental analysis which you will predict the emoji that represent the emotion in each sentence.\n"
   ]
  },
  {
   "cell_type": "code",
   "execution_count": 1,
   "metadata": {},
   "outputs": [
    {
     "name": "stderr",
     "output_type": "stream",
     "text": [
      "C:\\Users\\Nz-zero\\Anaconda3\\lib\\site-packages\\h5py\\__init__.py:36: FutureWarning: Conversion of the second argument of issubdtype from `float` to `np.floating` is deprecated. In future, it will be treated as `np.float64 == np.dtype(float).type`.\n",
      "  from ._conv import register_converters as _register_converters\n",
      "Using TensorFlow backend.\n"
     ]
    }
   ],
   "source": [
    "# Import require library\n",
    "import keras\n",
    "from keras import *\n",
    "from keras.preprocessing import text\n",
    "from keras.preprocessing import sequence\n",
    "\n",
    "from sklearn.model_selection import train_test_split\n",
    "\n",
    "import _utils as fn\n",
    "\n",
    "import numpy as np\n",
    "import pandas as pd\n",
    "import matplotlib.pyplot as plt\n",
    "%matplotlib inline "
   ]
  },
  {
   "cell_type": "markdown",
   "metadata": {},
   "source": [
    "### Read data"
   ]
  },
  {
   "cell_type": "code",
   "execution_count": 2,
   "metadata": {},
   "outputs": [],
   "source": [
    "# import data\n",
    "df = pd.read_csv('data/emoji_data.csv')"
   ]
  },
  {
   "cell_type": "code",
   "execution_count": 3,
   "metadata": {},
   "outputs": [
    {
     "data": {
      "text/html": [
       "<div>\n",
       "<style scoped>\n",
       "    .dataframe tbody tr th:only-of-type {\n",
       "        vertical-align: middle;\n",
       "    }\n",
       "\n",
       "    .dataframe tbody tr th {\n",
       "        vertical-align: top;\n",
       "    }\n",
       "\n",
       "    .dataframe thead th {\n",
       "        text-align: right;\n",
       "    }\n",
       "</style>\n",
       "<table border=\"1\" class=\"dataframe\">\n",
       "  <thead>\n",
       "    <tr style=\"text-align: right;\">\n",
       "      <th></th>\n",
       "      <th>sentence</th>\n",
       "      <th>emoji</th>\n",
       "    </tr>\n",
       "  </thead>\n",
       "  <tbody>\n",
       "    <tr>\n",
       "      <th>0</th>\n",
       "      <td>During the period of falling in love, each tim...</td>\n",
       "      <td>0</td>\n",
       "    </tr>\n",
       "    <tr>\n",
       "      <th>1</th>\n",
       "      <td>When I was involved in a traffic accident.</td>\n",
       "      <td>1</td>\n",
       "    </tr>\n",
       "    <tr>\n",
       "      <th>2</th>\n",
       "      <td>When I was driving home after  several days of...</td>\n",
       "      <td>2</td>\n",
       "    </tr>\n",
       "    <tr>\n",
       "      <th>3</th>\n",
       "      <td>When I lost the person who meant the most to me.</td>\n",
       "      <td>3</td>\n",
       "    </tr>\n",
       "    <tr>\n",
       "      <th>4</th>\n",
       "      <td>The time I knocked a deer down - the sight of ...</td>\n",
       "      <td>4</td>\n",
       "    </tr>\n",
       "  </tbody>\n",
       "</table>\n",
       "</div>"
      ],
      "text/plain": [
       "                                            sentence  emoji\n",
       "0  During the period of falling in love, each tim...      0\n",
       "1         When I was involved in a traffic accident.      1\n",
       "2  When I was driving home after  several days of...      2\n",
       "3   When I lost the person who meant the most to me.      3\n",
       "4  The time I knocked a deer down - the sight of ...      4"
      ]
     },
     "execution_count": 3,
     "metadata": {},
     "output_type": "execute_result"
    }
   ],
   "source": [
    "df.head()"
   ]
  },
  {
   "cell_type": "code",
   "execution_count": 4,
   "metadata": {},
   "outputs": [],
   "source": [
    "# Split features and target\n",
    "X = df['sentence'].values\n",
    "y = df['emoji'].values"
   ]
  },
  {
   "cell_type": "code",
   "execution_count": 5,
   "metadata": {},
   "outputs": [
    {
     "data": {
      "text/plain": [
       "numpy.ndarray"
      ]
     },
     "execution_count": 5,
     "metadata": {},
     "output_type": "execute_result"
    }
   ],
   "source": [
    "type(X)"
   ]
  },
  {
   "cell_type": "code",
   "execution_count": 6,
   "metadata": {},
   "outputs": [
    {
     "data": {
      "text/plain": [
       "'During the period of falling in love, each time that we met and especially when we had not met for a long time.'"
      ]
     },
     "execution_count": 6,
     "metadata": {},
     "output_type": "execute_result"
    }
   ],
   "source": [
    "X[0]"
   ]
  },
  {
   "cell_type": "code",
   "execution_count": 7,
   "metadata": {},
   "outputs": [
    {
     "data": {
      "text/plain": [
       "0"
      ]
     },
     "execution_count": 7,
     "metadata": {},
     "output_type": "execute_result"
    }
   ],
   "source": [
    "y[0]"
   ]
  },
  {
   "cell_type": "markdown",
   "metadata": {},
   "source": [
    "### Split train test"
   ]
  },
  {
   "cell_type": "code",
   "execution_count": 8,
   "metadata": {},
   "outputs": [],
   "source": [
    "# Split train test\n",
    "X_train, X_test, y_train, y_test = train_test_split(X,y,\n",
    "                                                   test_size = 0.1,\n",
    "                                                   stratify=y,\n",
    "                                                   random_state=0\n",
    "                                                   )\n",
    "\n",
    "# Split train validate\n",
    "X_train, X_val, y_train, y_val = train_test_split(X_train,y_train,\n",
    "                                                   test_size = 0.1,\n",
    "                                                   stratify=y_train,\n",
    "                                                   random_state=0\n",
    "                                                   )"
   ]
  },
  {
   "cell_type": "code",
   "execution_count": 9,
   "metadata": {},
   "outputs": [
    {
     "data": {
      "text/plain": [
       "Text(0.5,1,'y test')"
      ]
     },
     "execution_count": 9,
     "metadata": {},
     "output_type": "execute_result"
    },
    {
     "data": {
      "image/png": "[encoded data removed]",
      "text/plain": [
       "<Figure size 1080x216 with 3 Axes>"
      ]
     },
     "metadata": {},
     "output_type": "display_data"
    }
   ],
   "source": [
    "# Plot target distribution\n",
    "fig, ax = plt.subplots(1,3,figsize=(15,3))\n",
    "\n",
    "bins = [0,1,2,3,4,5,6,7]\n",
    "\n",
    "ax[0].hist(y_train,bins=bins)\n",
    "ax[0].set_title('y train')\n",
    "\n",
    "ax[1].hist(y_val,bins=bins)\n",
    "ax[1].set_title('y validate')\n",
    "\n",
    "ax[2].hist(y_test,bins=bins)\n",
    "ax[2].set_title('y test')"
   ]
  },
  {
   "cell_type": "code",
   "execution_count": 10,
   "metadata": {},
   "outputs": [
    {
     "data": {
      "text/plain": [
       "'I was at a boarding school during my primary school days. I was broken so I pretended I was very sick. My father came and he picked me up. He spent a lot of money on medical expenses which all proved to be negative.'"
      ]
     },
     "execution_count": 10,
     "metadata": {},
     "output_type": "execute_result"
    }
   ],
   "source": [
    "# Show example input\n",
    "X_train[0]"
   ]
  },
  {
   "cell_type": "code",
   "execution_count": 11,
   "metadata": {},
   "outputs": [
    {
     "data": {
      "text/plain": [
       "44"
      ]
     },
     "execution_count": 11,
     "metadata": {},
     "output_type": "execute_result"
    }
   ],
   "source": [
    "# Lenght of example input sentence\n",
    "len(X_train[0].split())"
   ]
  },
  {
   "cell_type": "code",
   "execution_count": 12,
   "metadata": {},
   "outputs": [
    {
     "data": {
      "text/plain": [
       "6"
      ]
     },
     "execution_count": 12,
     "metadata": {},
     "output_type": "execute_result"
    }
   ],
   "source": [
    "y_train[0]"
   ]
  },
  {
   "cell_type": "markdown",
   "metadata": {},
   "source": [
    "### Preprocess data: Tokenizer & Padding"
   ]
  },
  {
   "cell_type": "code",
   "execution_count": 13,
   "metadata": {},
   "outputs": [],
   "source": [
    "# Define parameter\n",
    "max_words = 5000\n",
    "max_features = 5000\n",
    "maxlen = 80 #improve acc by increase this"
   ]
  },
  {
   "cell_type": "code",
   "execution_count": 14,
   "metadata": {},
   "outputs": [],
   "source": [
    "# Define Tokenizer\n",
    "tokenizer = text.Tokenizer(num_words = max_words) \n",
    "tokenizer.fit_on_texts(X_train)"
   ]
  },
  {
   "cell_type": "code",
   "execution_count": 15,
   "metadata": {},
   "outputs": [
    {
     "data": {
      "text/plain": [
       "<keras_preprocessing.text.Tokenizer at 0x22a287b14a8>"
      ]
     },
     "execution_count": 15,
     "metadata": {},
     "output_type": "execute_result"
    }
   ],
   "source": [
    "# Preprocess data function\n",
    "tokenizer"
   ]
  },
  {
   "cell_type": "code",
   "execution_count": 16,
   "metadata": {},
   "outputs": [],
   "source": [
    "# Preprocess data\n",
    "def preprocess_fn(data):\n",
    "    sequences = tokenizer.texts_to_sequences(data)\n",
    "    padding_sequences = sequence.pad_sequences(sequences,\n",
    "                                               maxlen = maxlen)\n",
    "    return padding_sequences"
   ]
  },
  {
   "cell_type": "code",
   "execution_count": 17,
   "metadata": {},
   "outputs": [],
   "source": [
    "X_train = preprocess_fn(X_train)\n",
    "X_val = preprocess_fn(X_val)\n",
    "X_test = preprocess_fn(X_test)"
   ]
  },
  {
   "cell_type": "markdown",
   "metadata": {},
   "source": [
    "### Build a model with word embedding"
   ]
  },
  {
   "cell_type": "code",
   "execution_count": 18,
   "metadata": {},
   "outputs": [],
   "source": [
    "# Define model\n",
    "rnn = models.Sequential()\n",
    "\n",
    "rnn.add(layers.Embedding(max_features, 32, input_length=maxlen))\n",
    "rnn.add(layers.LSTM(32))\n",
    "rnn.add(layers.Dense(64, activation = 'elu'))\n",
    "rnn.add(layers.Dense(7, activation = 'softmax'))"
   ]
  },
  {
   "cell_type": "code",
   "execution_count": 19,
   "metadata": {},
   "outputs": [],
   "source": [
    "# Compile model\n",
    "rnn.compile(optimizer='rmsprop', loss = 'sparse_categorical_crossentropy',\n",
    "           metrics =['acc'])"
   ]
  },
  {
   "cell_type": "code",
   "execution_count": 20,
   "metadata": {},
   "outputs": [
    {
     "name": "stdout",
     "output_type": "stream",
     "text": [
      "_________________________________________________________________\n",
      "Layer (type)                 Output Shape              Param #   \n",
      "=================================================================\n",
      "embedding_1 (Embedding)      (None, 80, 32)            160000    \n",
      "_________________________________________________________________\n",
      "lstm_1 (LSTM)                (None, 32)                8320      \n",
      "_________________________________________________________________\n",
      "dense_1 (Dense)              (None, 64)                2112      \n",
      "_________________________________________________________________\n",
      "dense_2 (Dense)              (None, 7)                 455       \n",
      "=================================================================\n",
      "Total params: 170,887\n",
      "Trainable params: 170,887\n",
      "Non-trainable params: 0\n",
      "_________________________________________________________________\n"
     ]
    }
   ],
   "source": [
    "# Show model structure\n",
    "rnn.summary()"
   ]
  },
  {
   "cell_type": "code",
   "execution_count": 21,
   "metadata": {},
   "outputs": [],
   "source": [
    "# Define callbacks\n"
   ]
  },
  {
   "cell_type": "code",
   "execution_count": 22,
   "metadata": {},
   "outputs": [
    {
     "name": "stdout",
     "output_type": "stream",
     "text": [
      "Train on 6058 samples, validate on 674 samples\n",
      "Epoch 1/5\n",
      "6058/6058 [==============================] - 9s 1ms/step - loss: 1.8729 - acc: 0.2293 - val_loss: 1.7299 - val_acc: 0.3175\n",
      "Epoch 2/5\n",
      "6058/6058 [==============================] - 8s 1ms/step - loss: 1.4873 - acc: 0.4302 - val_loss: 1.5311 - val_acc: 0.4199\n",
      "Epoch 3/5\n",
      "6058/6058 [==============================] - 7s 1ms/step - loss: 1.1911 - acc: 0.5568 - val_loss: 1.3895 - val_acc: 0.4852\n",
      "Epoch 4/5\n",
      "6058/6058 [==============================] - 7s 1ms/step - loss: 1.0282 - acc: 0.6377 - val_loss: 1.3582 - val_acc: 0.5267\n",
      "Epoch 5/5\n",
      "6058/6058 [==============================] - 7s 1ms/step - loss: 0.9122 - acc: 0.6819 - val_loss: 1.4225 - val_acc: 0.5208\n"
     ]
    }
   ],
   "source": [
    "# Fit model\n",
    "history = rnn.fit(X_train,y_train,\n",
    "                 batch_size=32,\n",
    "                 epochs=5,\n",
    "                 validation_data=(X_val,y_val))"
   ]
  },
  {
   "cell_type": "code",
   "execution_count": 23,
   "metadata": {},
   "outputs": [
    {
     "name": "stdout",
     "output_type": "stream",
     "text": [
      "Last train accuracy: 0.681908220515152\n",
      "Last validation accuracy: 0.5207715133531158\n"
     ]
    },
    {
     "data": {
      "image/png": "[encoded data removed]",
      "text/plain": [
       "<Figure size 1080x288 with 2 Axes>"
      ]
     },
     "metadata": {},
     "output_type": "display_data"
    }
   ],
   "source": [
    "# Plot accuracy and loss over each epochs\n",
    "fn.show_result(history)"
   ]
  },
  {
   "cell_type": "markdown",
   "metadata": {},
   "source": [
    "### Evaluate Model\n",
    "Baseline of the model is 14.28% (Random prediction)"
   ]
  },
  {
   "cell_type": "code",
   "execution_count": 24,
   "metadata": {},
   "outputs": [
    {
     "name": "stdout",
     "output_type": "stream",
     "text": [
      "748/748 [==============================] - 0s 185us/step\n"
     ]
    },
    {
     "data": {
      "text/plain": [
       "[1.404520895391862, 0.5294117647058824]"
      ]
     },
     "execution_count": 24,
     "metadata": {},
     "output_type": "execute_result"
    }
   ],
   "source": [
    "# Preprocess test data\n",
    "rnn.evaluate(X_test,y_test)"
   ]
  },
  {
   "cell_type": "code",
   "execution_count": 25,
   "metadata": {},
   "outputs": [
    {
     "name": "stdout",
     "output_type": "stream",
     "text": [
      "[[77  8  1  8 10  3  1]\n",
      " [ 0 86  1  6  9  6  0]\n",
      " [ 9  9 31  6 21 27  5]\n",
      " [ 8 10  6 62  5 12  5]\n",
      " [ 6  8  7  5 64 15  1]\n",
      " [ 5 25  6  5  8 50  5]\n",
      " [ 2 16  9 16  4 33 26]]\n",
      "             precision    recall  f1-score   support\n",
      "\n",
      "          0       0.72      0.71      0.72       108\n",
      "          1       0.53      0.80      0.64       108\n",
      "          2       0.51      0.29      0.37       108\n",
      "          3       0.57      0.57      0.57       108\n",
      "          4       0.53      0.60      0.56       106\n",
      "          5       0.34      0.48      0.40       104\n",
      "          6       0.60      0.25      0.35       106\n",
      "\n",
      "avg / total       0.55      0.53      0.52       748\n",
      "\n",
      "Loss: 1.404520895391862 Accuracy: 0.5294117647058824\n"
     ]
    },
    {
     "data": {
      "text/plain": [
       "array([1, 6, 3, 4, 5, 0, 3, 2, 0, 1, 4, 3, 3, 4, 4, 1, 5, 5, 4, 6, 4, 0,\n",
       "       4, 6, 3, 4, 3, 1, 5, 2, 3, 2, 5, 4, 0, 0, 6, 1, 5, 0, 0, 4, 1, 5,\n",
       "       4, 2, 3, 3, 3, 3, 1, 0, 1, 3, 5, 2, 3, 1, 0, 6, 0, 1, 0, 0, 0, 6,\n",
       "       5, 2, 1, 3, 4, 4, 1, 0, 3, 4, 2, 3, 3, 2, 5, 5, 3, 0, 5, 5, 6, 4,\n",
       "       2, 5, 4, 5, 5, 6, 0, 1, 1, 3, 5, 5, 2, 4, 1, 0, 5, 1, 0, 0, 0, 3,\n",
       "       1, 1, 0, 1, 0, 1, 1, 2, 3, 5, 1, 5, 5, 4, 4, 4, 0, 0, 5, 4, 5, 5,\n",
       "       3, 2, 1, 0, 1, 5, 4, 4, 1, 1, 6, 3, 1, 4, 1, 5, 3, 1, 1, 1, 4, 1,\n",
       "       0, 1, 0, 5, 4, 4, 1, 6, 1, 0, 3, 3, 4, 1, 2, 3, 1, 0, 1, 3, 5, 5,\n",
       "       5, 5, 0, 4, 6, 2, 1, 5, 0, 1, 0, 3, 1, 3, 0, 1, 1, 3, 0, 5, 2, 4,\n",
       "       4, 5, 5, 4, 1, 0, 5, 5, 5, 2, 1, 1, 0, 4, 2, 0, 5, 3, 0, 2, 5, 5,\n",
       "       3, 5, 4, 4, 2, 2, 4, 1, 3, 4, 2, 0, 5, 0, 1, 5, 5, 5, 2, 1, 6, 1,\n",
       "       0, 4, 5, 2, 0, 1, 4, 1, 6, 1, 4, 2, 0, 5, 4, 4, 3, 5, 4, 0, 3, 5,\n",
       "       3, 4, 5, 5, 6, 5, 4, 4, 5, 1, 6, 1, 1, 6, 3, 3, 2, 0, 1, 1, 5, 0,\n",
       "       5, 2, 5, 0, 6, 0, 0, 5, 0, 5, 2, 5, 4, 1, 6, 0, 3, 1, 3, 1, 3, 1,\n",
       "       6, 1, 4, 3, 1, 3, 0, 0, 4, 5, 5, 2, 1, 6, 4, 4, 4, 1, 6, 5, 0, 3,\n",
       "       4, 4, 0, 1, 1, 1, 3, 4, 1, 1, 5, 4, 6, 3, 3, 5, 1, 1, 1, 6, 2, 1,\n",
       "       1, 5, 4, 5, 5, 1, 4, 2, 6, 5, 5, 5, 4, 4, 0, 3, 6, 1, 5, 1, 0, 5,\n",
       "       1, 1, 0, 6, 5, 5, 1, 4, 3, 0, 2, 1, 5, 1, 5, 4, 1, 2, 2, 1, 1, 5,\n",
       "       1, 3, 1, 5, 4, 5, 5, 1, 5, 4, 2, 1, 2, 3, 6, 4, 3, 0, 5, 3, 6, 5,\n",
       "       3, 4, 5, 1, 3, 0, 6, 5, 1, 6, 4, 3, 1, 2, 3, 4, 5, 3, 5, 6, 1, 5,\n",
       "       0, 1, 4, 5, 2, 0, 3, 0, 5, 1, 0, 4, 4, 3, 6, 1, 2, 4, 0, 5, 2, 5,\n",
       "       3, 1, 4, 0, 2, 6, 3, 4, 5, 3, 1, 0, 5, 4, 4, 3, 0, 5, 1, 1, 4, 5,\n",
       "       5, 2, 1, 1, 0, 1, 3, 4, 4, 1, 4, 3, 0, 1, 1, 3, 5, 1, 2, 0, 3, 3,\n",
       "       5, 3, 5, 1, 5, 4, 5, 1, 4, 4, 4, 0, 4, 4, 1, 3, 2, 5, 4, 5, 5, 4,\n",
       "       1, 5, 4, 3, 2, 1, 0, 4, 0, 4, 4, 3, 5, 4, 4, 1, 5, 1, 1, 1, 3, 0,\n",
       "       1, 1, 5, 0, 3, 2, 1, 1, 5, 0, 3, 5, 0, 3, 0, 5, 3, 0, 0, 5, 3, 4,\n",
       "       3, 1, 1, 0, 3, 3, 6, 1, 4, 3, 5, 5, 2, 5, 4, 1, 3, 0, 4, 3, 1, 2,\n",
       "       1, 4, 1, 4, 5, 6, 2, 1, 0, 5, 6, 1, 4, 4, 4, 0, 5, 0, 3, 0, 1, 6,\n",
       "       2, 5, 2, 4, 0, 1, 5, 5, 5, 4, 3, 5, 0, 1, 3, 4, 1, 0, 1, 5, 6, 6,\n",
       "       1, 5, 4, 5, 1, 3, 3, 2, 3, 0, 3, 0, 1, 1, 1, 5, 0, 1, 5, 2, 3, 1,\n",
       "       1, 0, 0, 5, 4, 6, 2, 5, 1, 3, 1, 3, 1, 4, 5, 0, 5, 0, 1, 0, 1, 1,\n",
       "       4, 5, 5, 2, 1, 1, 0, 4, 5, 4, 0, 2, 5, 3, 1, 0, 6, 3, 4, 3, 1, 0,\n",
       "       5, 1, 5, 3, 3, 2, 4, 5, 3, 4, 3, 0, 4, 5, 4, 3, 3, 1, 1, 4, 1, 5,\n",
       "       1, 2, 2, 2, 0, 0, 4, 1, 1, 0, 5, 3, 2, 5, 4, 1, 6, 3, 4, 2, 3, 6],\n",
       "      dtype=int64)"
      ]
     },
     "execution_count": 25,
     "metadata": {},
     "output_type": "execute_result"
    }
   ],
   "source": [
    "# Evaluate model with test data\n",
    "fn.evaluation_report(rnn,X_test,y_test)"
   ]
  },
  {
   "cell_type": "code",
   "execution_count": 26,
   "metadata": {},
   "outputs": [],
   "source": [
    "rnn.save('model1.h5')"
   ]
  },
  {
   "cell_type": "code",
   "execution_count": 27,
   "metadata": {},
   "outputs": [],
   "source": [
    "# Show confusino matrix and prediction report\n"
   ]
  },
  {
   "cell_type": "markdown",
   "metadata": {},
   "source": [
    "### Play with your model\n",
    "**Emoji**\n",
    "0 = joy 😆\n",
    "1 = fear 😱\n",
    "2 = anger 😡\n",
    "3 = sadness 😭\n",
    "4 = disgust 🤮\n",
    "5 = shame 😳\n",
    "6 = guilt 😞"
   ]
  },
  {
   "cell_type": "code",
   "execution_count": 28,
   "metadata": {},
   "outputs": [],
   "source": [
    "# Define predict function\n",
    "def predict_emoji(input_text, model):\n",
    "    \n",
    "    prepro_input = preprocess_fn([input_text])\n",
    "    \n",
    "    pred_class = model.predict(prepro_input).argmax(axis=1)\n",
    "    \n",
    "    label_to_emoji = ['😆','😱','😡','😭','🤮','😳','😞']\n",
    "    \n",
    "    result = label_to_emoji[int(pred_class)]\n",
    "    \n",
    "    print('%s %s'%(input_text,result))"
   ]
  },
  {
   "cell_type": "code",
   "execution_count": 41,
   "metadata": {},
   "outputs": [
    {
     "name": "stdout",
     "output_type": "stream",
     "text": [
      "hate 🤮\n"
     ]
    }
   ],
   "source": [
    "# Test your model\n",
    "input_text = 'hate'\n",
    "predict_emoji(input_text, rnn)"
   ]
  },
  {
   "cell_type": "code",
   "execution_count": null,
   "metadata": {},
   "outputs": [],
   "source": []
  }
 ],
 "metadata": {
  "kernelspec": {
   "display_name": "Python 3",
   "language": "python",
   "name": "python3"
  },
  "language_info": {
   "codemirror_mode": {
    "name": "ipython",
    "version": 3
   },
   "file_extension": ".py",
   "mimetype": "text/x-python",
   "name": "python",
   "nbconvert_exporter": "python",
   "pygments_lexer": "ipython3",
   "version": "3.6.5"
  }
 },
 "nbformat": 4,
 "nbformat_minor": 2
}
