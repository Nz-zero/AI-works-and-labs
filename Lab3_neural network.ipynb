{
 "cells": [
  {
   "cell_type": "markdown",
   "metadata": {},
   "source": [
    "# Lab3 - Introduction to Deep Neural Network\n",
    "- Nattapat Yuvasuta, 59070501028\n",
    "- Niti Buesamae, 59070501047\n",
    "\n",
    "Name your file to 59_1028_1047.ipynb\n",
    "\n",
    "## Lab Instruction \n",
    "\n",
    "In this lab, you will learn to create a simple fully-connect neural network using Keras library with Tensorflow backend. We will play with MNIST data which is a Keras build-in dataset. \n",
    "\n",
    "See http://yann.lecun.com/exdb/mnist\n",
    "\n",
    "First, import all the library that we will use in this lab"
   ]
  },
  {
   "cell_type": "code",
   "execution_count": 1,
   "metadata": {},
   "outputs": [
    {
     "name": "stderr",
     "output_type": "stream",
     "text": [
      "C:\\Users\\Nz-zero\\Anaconda3\\lib\\site-packages\\h5py\\__init__.py:36: FutureWarning: Conversion of the second argument of issubdtype from `float` to `np.floating` is deprecated. In future, it will be treated as `np.float64 == np.dtype(float).type`.\n",
      "  from ._conv import register_converters as _register_converters\n",
      "Using TensorFlow backend.\n"
     ]
    }
   ],
   "source": [
    "import keras\n",
    "import numpy as np"
   ]
  },
  {
   "cell_type": "code",
   "execution_count": 2,
   "metadata": {},
   "outputs": [],
   "source": [
    "from keras.datasets import mnist\n",
    "\n",
    "### Load Data ###\n",
    "(train_images, train_labels), (test_images, test_labels) = mnist.load_data()\n",
    "#################"
   ]
  },
  {
   "cell_type": "markdown",
   "metadata": {},
   "source": [
    "### 1. Learn About the Data\n",
    "\n",
    "Understand your data. For example, its shape, format, datatype, structure, distribution, data classes, etc."
   ]
  },
  {
   "cell_type": "code",
   "execution_count": 3,
   "metadata": {},
   "outputs": [
    {
     "name": "stdout",
     "output_type": "stream",
     "text": [
      "Feature type: <class 'numpy.ndarray'>\n",
      "Label type: <class 'numpy.ndarray'>\n"
     ]
    }
   ],
   "source": [
    "print('Feature type: %s'%type(train_images))\n",
    "print('Label type: %s'%type(train_labels))"
   ]
  },
  {
   "cell_type": "code",
   "execution_count": 4,
   "metadata": {},
   "outputs": [
    {
     "name": "stdout",
     "output_type": "stream",
     "text": [
      "Feature data type: uint8\n",
      "Label data type: uint8\n"
     ]
    }
   ],
   "source": [
    "print('Feature data type: %s'%train_images.dtype)\n",
    "print('Label data type: %s'%train_labels.dtype)"
   ]
  },
  {
   "cell_type": "code",
   "execution_count": 5,
   "metadata": {},
   "outputs": [
    {
     "name": "stdout",
     "output_type": "stream",
     "text": [
      "Train_set Feature shape: (60000, 28, 28)\n",
      "Train_set Label type: (60000,)\n",
      "Test_set Feature shape: (10000, 28, 28)\n",
      "Test_set Label type: (10000,)\n"
     ]
    }
   ],
   "source": [
    "print('Train_set Feature shape: %s'%str(train_images.shape))\n",
    "print('Train_set Label type: %s'%str(train_labels.shape))\n",
    "print('Test_set Feature shape: %s'%str(test_images.shape))\n",
    "print('Test_set Label type: %s'%str(test_labels.shape))"
   ]
  },
  {
   "cell_type": "code",
   "execution_count": 6,
   "metadata": {},
   "outputs": [
    {
     "name": "stdout",
     "output_type": "stream",
     "text": [
      "Train_set Feature dimension: 3\n",
      "Train_set Label dimension: 1\n",
      "Test_set Feature dimension: 3\n",
      "Test_set Label dimension: 1\n"
     ]
    }
   ],
   "source": [
    "print('Train_set Feature dimension: %s'%str(train_images.ndim))\n",
    "print('Train_set Label dimension: %s'%str(train_labels.ndim))\n",
    "print('Test_set Feature dimension: %s'%str(test_images.ndim))\n",
    "print('Test_set Label dimension: %s'%str(test_labels.ndim))"
   ]
  },
  {
   "cell_type": "markdown",
   "metadata": {},
   "source": [
    "### 2. Build Neural Network Model\n",
    "\n",
    "Build a two-layer neural network using `Sequential()`\n",
    "( See https://keras.io/models/sequential ) \n",
    "> INPUT -> LINEAR -> RELU -> LINEAR -> SIGMOID\n",
    "\n",
    "with the hidden layer of size 512\n",
    "\n",
    "See Keras Model: https://keras.io/models/about-keras-models/\n",
    "\n"
   ]
  },
  {
   "cell_type": "code",
   "execution_count": 7,
   "metadata": {},
   "outputs": [],
   "source": [
    "from keras import models\n",
    "from keras import layers"
   ]
  },
  {
   "cell_type": "code",
   "execution_count": 8,
   "metadata": {},
   "outputs": [],
   "source": [
    "network = models.Sequential()"
   ]
  },
  {
   "cell_type": "markdown",
   "metadata": {},
   "source": [
    "Linear is a neural network itself, the hidden layers is 512 nodes with a relu activation and choose 10 for all possible output ( number = 0-9)  "
   ]
  },
  {
   "cell_type": "code",
   "execution_count": 9,
   "metadata": {},
   "outputs": [],
   "source": [
    "network.add(layers.Dense(512, activation='relu',input_shape=(28*28,)))\n",
    "network.add(layers.Dense(10, activation='softmax'))"
   ]
  },
  {
   "cell_type": "markdown",
   "metadata": {},
   "source": [
    "Compile your model with the following argument.\n",
    "\n",
    "```\n",
    "optimizer='sgd',\n",
    "loss='categorical_crossentropy',\n",
    "metrics=['accuracy']\n",
    "```"
   ]
  },
  {
   "cell_type": "code",
   "execution_count": 10,
   "metadata": {},
   "outputs": [],
   "source": [
    "network.compile(optimizer='sgd',\n",
    "               loss='categorical_crossentropy',\n",
    "               metrics=['accuracy'])"
   ]
  },
  {
   "cell_type": "markdown",
   "metadata": {},
   "source": [
    "Let's see how our model looklike using `.summary()`"
   ]
  },
  {
   "cell_type": "code",
   "execution_count": 11,
   "metadata": {},
   "outputs": [
    {
     "name": "stdout",
     "output_type": "stream",
     "text": [
      "_________________________________________________________________\n",
      "Layer (type)                 Output Shape              Param #   \n",
      "=================================================================\n",
      "dense_1 (Dense)              (None, 512)               401920    \n",
      "_________________________________________________________________\n",
      "dense_2 (Dense)              (None, 10)                5130      \n",
      "=================================================================\n",
      "Total params: 407,050\n",
      "Trainable params: 407,050\n",
      "Non-trainable params: 0\n",
      "_________________________________________________________________\n"
     ]
    }
   ],
   "source": [
    "network.summary()"
   ]
  },
  {
   "cell_type": "markdown",
   "metadata": {},
   "source": [
    "### 3. Preprocessing\n",
    "\n",
    "- Reshape the features data (flattern) and normalize the value to be between 0 and 1\n",
    "- One-hot the target data"
   ]
  },
  {
   "cell_type": "code",
   "execution_count": 12,
   "metadata": {},
   "outputs": [
    {
     "name": "stdout",
     "output_type": "stream",
     "text": [
      "(60000, 28, 28)\n",
      "(10000, 28, 28)\n"
     ]
    }
   ],
   "source": [
    "print(train_images.shape)\n",
    "print(test_images.shape)"
   ]
  },
  {
   "cell_type": "code",
   "execution_count": 13,
   "metadata": {},
   "outputs": [],
   "source": [
    "train_images = train_images.reshape(60000,28*28) # Reshape\n",
    "train_images = train_images.astype('float32')/255 # Normalize\n",
    "\n",
    "test_images = test_images.reshape(10000,28*28) # Reshape\n",
    "test_images = test_images.astype('float32')/255 # Normalize"
   ]
  },
  {
   "cell_type": "code",
   "execution_count": 14,
   "metadata": {},
   "outputs": [
    {
     "name": "stdout",
     "output_type": "stream",
     "text": [
      "(60000, 784)\n",
      "(10000, 784)\n"
     ]
    }
   ],
   "source": [
    "print(train_images.shape)\n",
    "print(test_images.shape)"
   ]
  },
  {
   "cell_type": "markdown",
   "metadata": {},
   "source": [
    "One-hot the target data from numerical to categorical"
   ]
  },
  {
   "cell_type": "code",
   "execution_count": 15,
   "metadata": {},
   "outputs": [],
   "source": [
    "from keras.utils import to_categorical"
   ]
  },
  {
   "cell_type": "code",
   "execution_count": 16,
   "metadata": {},
   "outputs": [],
   "source": [
    "train_labels = to_categorical(train_labels)\n",
    "test_labels = to_categorical(test_labels)"
   ]
  },
  {
   "cell_type": "code",
   "execution_count": 17,
   "metadata": {},
   "outputs": [
    {
     "data": {
      "text/plain": [
       "array([[0., 0., 0., ..., 0., 0., 0.],\n",
       "       [1., 0., 0., ..., 0., 0., 0.],\n",
       "       [0., 0., 0., ..., 0., 0., 0.],\n",
       "       ...,\n",
       "       [0., 0., 0., ..., 0., 0., 0.],\n",
       "       [0., 0., 0., ..., 0., 0., 0.],\n",
       "       [0., 0., 0., ..., 0., 1., 0.]], dtype=float32)"
      ]
     },
     "execution_count": 17,
     "metadata": {},
     "output_type": "execute_result"
    }
   ],
   "source": [
    "train_labels"
   ]
  },
  {
   "cell_type": "markdown",
   "metadata": {},
   "source": [
    "### 4. Model Training \n",
    "\n",
    "Use `.fit()` to train your neural network model and return the record of accuracy and loss value in each epoch\n",
    "\n",
    "We will train model with 10 epoch (If you confident with your computer performance, you can trian model with more epoch.)\n",
    "\n",
    "We will train with mini-batch method with each the batch size equal to 128 data.\n",
    "\n",
    "To prevent the overfit with test set, we will split a current training data into 90% for training and 10% for validating model.\n",
    "\n",
    "This process will take about a minute."
   ]
  },
  {
   "cell_type": "code",
   "execution_count": 18,
   "metadata": {},
   "outputs": [
    {
     "name": "stdout",
     "output_type": "stream",
     "text": [
      "Train on 54000 samples, validate on 6000 samples\n",
      "Epoch 1/10\n",
      "54000/54000 [==============================] - 5s 91us/step - loss: 1.1642 - acc: 0.7472 - val_loss: 0.5887 - val_acc: 0.8882\n",
      "Epoch 2/10\n",
      "54000/54000 [==============================] - 2s 35us/step - loss: 0.5507 - acc: 0.8697 - val_loss: 0.4016 - val_acc: 0.9087\n",
      "Epoch 3/10\n",
      "54000/54000 [==============================] - 2s 30us/step - loss: 0.4391 - acc: 0.8871 - val_loss: 0.3380 - val_acc: 0.9198\n",
      "Epoch 4/10\n",
      "54000/54000 [==============================] - 2s 31us/step - loss: 0.3893 - acc: 0.8953 - val_loss: 0.3055 - val_acc: 0.9232\n",
      "Epoch 5/10\n",
      "54000/54000 [==============================] - 2s 31us/step - loss: 0.3593 - acc: 0.9022 - val_loss: 0.2837 - val_acc: 0.9287\n",
      "Epoch 6/10\n",
      "54000/54000 [==============================] - 2s 43us/step - loss: 0.3382 - acc: 0.9067 - val_loss: 0.2687 - val_acc: 0.9297\n",
      "Epoch 7/10\n",
      "54000/54000 [==============================] - 2s 36us/step - loss: 0.3218 - acc: 0.9111 - val_loss: 0.2571 - val_acc: 0.9320\n",
      "Epoch 8/10\n",
      "54000/54000 [==============================] - 2s 31us/step - loss: 0.3085 - acc: 0.9141 - val_loss: 0.2476 - val_acc: 0.9348\n",
      "Epoch 9/10\n",
      "54000/54000 [==============================] - 2s 30us/step - loss: 0.2971 - acc: 0.9180 - val_loss: 0.2387 - val_acc: 0.9372\n",
      "Epoch 10/10\n",
      "54000/54000 [==============================] - 2s 31us/step - loss: 0.2871 - acc: 0.9199 - val_loss: 0.2322 - val_acc: 0.9383\n"
     ]
    }
   ],
   "source": [
    "history = network.fit(train_images,train_labels,epochs=10,batch_size=128,validation_split=0.1)"
   ]
  },
  {
   "cell_type": "markdown",
   "metadata": {},
   "source": [
    "We will plot the loss and accuracy of both train set and validate set over iteration."
   ]
  },
  {
   "cell_type": "code",
   "execution_count": null,
   "metadata": {},
   "outputs": [],
   "source": [
    "import  matplotlib.pyplot  as plt\n",
    "%matplotlib inline"
   ]
  },
  {
   "cell_type": "code",
   "execution_count": 20,
   "metadata": {},
   "outputs": [],
   "source": [
    "# The function argument is a record or history of the model during training process.\n",
    "def plot_loss_fn(history):\n",
    "    loss = history.history['loss']\n",
    "    val_loss = history.history['val_loss']\n",
    "\n",
    "    epochs = range(1, len(loss) + 1)\n",
    "\n",
    "    plt.plot(epochs, loss, 'bo', label='Training loss')\n",
    "    plt.plot(epochs, val_loss, 'b', label='Validation loss')\n",
    "    plt.title('Training and validation loss')\n",
    "    plt.xlabel('Epochs')\n",
    "    plt.ylabel('Loss')\n",
    "    plt.legend()\n",
    "    \n",
    "def plot_acc_fn(history):\n",
    "\n",
    "    acc = history.history['acc']\n",
    "    val_acc = history.history['val_acc']\n",
    "    \n",
    "    epochs = range(1, len(acc) + 1)\n",
    "\n",
    "    plt.plot(epochs, acc, 'bo', label='Training acc')\n",
    "    plt.plot(epochs, val_acc, 'b', label='Validation acc')\n",
    "    plt.title('Training and validation accuracy')\n",
    "    plt.xlabel('Epochs')\n",
    "    plt.ylabel('Acc')\n",
    "    plt.legend()"
   ]
  },
  {
   "cell_type": "code",
   "execution_count": 21,
   "metadata": {},
   "outputs": [
    {
     "data": {
      "image/png": "[encoded data removed]",
      "text/plain": [
       "<Figure size 432x288 with 1 Axes>"
      ]
     },
     "metadata": {},
     "output_type": "display_data"
    }
   ],
   "source": [
    "plot_loss_fn(history)"
   ]
  },
  {
   "cell_type": "code",
   "execution_count": 22,
   "metadata": {},
   "outputs": [
    {
     "data": {
      "image/png": "[encoded data removed]",
      "text/plain": [
       "<Figure size 432x288 with 1 Axes>"
      ]
     },
     "metadata": {},
     "output_type": "display_data"
    }
   ],
   "source": [
    "plot_acc_fn(history)"
   ]
  },
  {
   "cell_type": "markdown",
   "metadata": {},
   "source": [
    "At which iteration does your model start to get overfit? give your reason.\n",
    "\n",
    "**ANSWER**\n"
   ]
  },
  {
   "cell_type": "markdown",
   "metadata": {},
   "source": [
    "From graph the accuracy of validation is better than training accuracy so our model doesn't get overfit at any point."
   ]
  },
  {
   "cell_type": "markdown",
   "metadata": {},
   "source": [
    "### 5. Model Evaluation\n",
    "\n",
    "Evaluate your model with test set using `.evaluate()` and compare the result with the training set and validate set. Does your model overfit or underfit? How about the bias and variance?"
   ]
  },
  {
   "cell_type": "code",
   "execution_count": 23,
   "metadata": {},
   "outputs": [
    {
     "name": "stdout",
     "output_type": "stream",
     "text": [
      "10000/10000 [==============================] - 0s 37us/step\n",
      "Test Loss: 0.09835423312559724\n",
      "Test Accuracy: 0.972\n"
     ]
    }
   ],
   "source": [
    "test_loss, test_acc = network.evaluate(test_images, test_labels)\n",
    "print('Test Loss: %s\\nTest Accuracy: %s' % (test_loss,test_acc))"
   ]
  },
  {
   "cell_type": "code",
   "execution_count": 24,
   "metadata": {},
   "outputs": [
    {
     "name": "stdout",
     "output_type": "stream",
     "text": [
      "60000/60000 [==============================] - 3s 44us/step\n",
      "Train Loss: 0.08262258052118122\n",
      "Train Accuracy: 0.9788166666666667\n"
     ]
    }
   ],
   "source": [
    "train_loss, train_acc = network.evaluate(train_images, train_labels)\n",
    "print('Train Loss: %s\\nTrain Accuracy: %s' % (train_loss,train_acc))"
   ]
  },
  {
   "cell_type": "markdown",
   "metadata": {},
   "source": [
    "**ANSWER**"
   ]
  },
  {
   "cell_type": "markdown",
   "metadata": {},
   "source": [
    "No, it doesn't overfit because the accuracy of train and test set is not so defferent. And for the same reason, our model seems to be high bias but low variance because our accuracy is good on average and the different between each run is not much different."
   ]
  },
  {
   "cell_type": "code",
   "execution_count": 25,
   "metadata": {},
   "outputs": [
    {
     "data": {
      "text/plain": [
       "array([[0., 0., 0., ..., 1., 0., 0.],\n",
       "       [0., 0., 1., ..., 0., 0., 0.],\n",
       "       [0., 1., 0., ..., 0., 0., 0.],\n",
       "       ...,\n",
       "       [0., 0., 0., ..., 0., 0., 0.],\n",
       "       [0., 0., 0., ..., 0., 0., 0.],\n",
       "       [0., 0., 0., ..., 0., 0., 0.]], dtype=float32)"
      ]
     },
     "execution_count": 25,
     "metadata": {},
     "output_type": "execute_result"
    }
   ],
   "source": [
    "test_labels"
   ]
  },
  {
   "cell_type": "markdown",
   "metadata": {},
   "source": [
    "Use confusion matrix to analyse the performance of your model. which class does your model classify poorly. What is your model precision and recall. "
   ]
  },
  {
   "cell_type": "code",
   "execution_count": 26,
   "metadata": {},
   "outputs": [
    {
     "name": "stdout",
     "output_type": "stream",
     "text": [
      "Training----------\n",
      "             precision    recall  f1-score   support\n",
      "\n",
      "          0       0.99      0.99      0.99      5923\n",
      "          1       0.98      0.99      0.98      6742\n",
      "          2       0.98      0.98      0.98      5958\n",
      "          3       0.98      0.97      0.97      6131\n",
      "          4       0.98      0.98      0.98      5842\n",
      "          5       0.98      0.98      0.98      5421\n",
      "          6       0.98      0.99      0.99      5918\n",
      "          7       0.98      0.98      0.98      6265\n",
      "          8       0.98      0.97      0.97      5851\n",
      "          9       0.97      0.97      0.97      5949\n",
      "\n",
      "avg / total       0.98      0.98      0.98     60000\n",
      "\n",
      "[[5837    1    6    5    7   12   22    6   17   10]\n",
      " [   1 6664   26    9   10    0    4   10   16    2]\n",
      " [   8   12 5837   17   19    5    6   31   17    6]\n",
      " [   3    9   44 5942    2   45    2   25   39   20]\n",
      " [   4   13   12    0 5724    2   15    7    6   59]\n",
      " [   9    8    8   31    6 5296   26    3   20   14]\n",
      " [  17    8    4    2   13   24 5840    0   10    0]\n",
      " [   4   22   32    7   22    2    1 6138    4   33]\n",
      " [   8   39   12   38   11   28   16    4 5672   23]\n",
      " [  13   13    2   27   51   15    2   35   12 5779]]\n",
      "Testing----------\n",
      "             precision    recall  f1-score   support\n",
      "\n",
      "          0       0.98      0.99      0.98       980\n",
      "          1       0.98      0.99      0.99      1135\n",
      "          2       0.97      0.97      0.97      1032\n",
      "          3       0.96      0.98      0.97      1010\n",
      "          4       0.97      0.97      0.97       982\n",
      "          5       0.97      0.97      0.97       892\n",
      "          6       0.98      0.97      0.97       958\n",
      "          7       0.97      0.96      0.97      1028\n",
      "          8       0.97      0.96      0.96       974\n",
      "          9       0.97      0.96      0.96      1009\n",
      "\n",
      "avg / total       0.97      0.97      0.97     10000\n",
      "\n",
      "[[ 967    0    1    2    1    3    3    2    1    0]\n",
      " [   0 1120    4    0    0    1    4    1    5    0]\n",
      " [   4    1 1006    2    4    0    2    7    6    0]\n",
      " [   0    0    5  985    0    7    0    7    4    2]\n",
      " [   1    0    4    1  957    0    2    2    2   13]\n",
      " [   5    1    0    9    0  864    7    0    4    2]\n",
      " [   5    3    1    1    4    7  932    1    4    0]\n",
      " [   0    8   12    3    0    1    0  992    0   12]\n",
      " [   3    0    4   11    5    6    4    6  933    2]\n",
      " [   5    6    2   11   12    1    0    7    1  964]]\n"
     ]
    }
   ],
   "source": [
    "import numpy as np\n",
    "from sklearn.metrics import classification_report, confusion_matrix\n",
    "\n",
    "### evaluate your model ###\n",
    "print(\"Training----------\")\n",
    "yhat_train = network.predict(train_images)\n",
    "yhat_train = np.argmax(yhat_train,axis = 1)\n",
    "yhat_train2 = np.argmax(train_labels,axis = 1)\n",
    "\n",
    "print(classification_report(yhat_train2, yhat_train))\n",
    "print(confusion_matrix(yhat_train2, yhat_train))\n",
    "print(\"Testing----------\")\n",
    "yhat_test = network.predict(test_images)\n",
    "yhat_test = np.argmax(yhat_test,axis = 1)\n",
    "yhat_test2 = np.argmax(test_labels,axis = 1)\n",
    "\n",
    "print(classification_report(yhat_test2, yhat_test))\n",
    "print(confusion_matrix(yhat_test2, yhat_test))"
   ]
  },
  {
   "cell_type": "markdown",
   "metadata": {},
   "source": [
    "\n",
    "**ANSWER**"
   ]
  },
  {
   "cell_type": "markdown",
   "metadata": {},
   "source": [
    "Both precision and recall of a model is 92% and label '5' is the most poorly predicted by model because F1 score is the lowest in both train and test classification reports."
   ]
  },
  {
   "cell_type": "markdown",
   "metadata": {},
   "source": [
    "### 6. Model tuning\n",
    "\n",
    "Try to tune your model by: \n",
    "1. Adjust the learning rate of your optimizer by increasing and decreasing learning rate and see how it affect your model.\n",
    "2. Try using different optimizer ('sgd', 'rmspop', 'adagrad', 'adam', See https://keras.io/optimizers ) and see which one converge faster.\n",
    "3. Change your the model structure by adding more hidden layer with any number of node and see how it affect your model."
   ]
  },
  {
   "cell_type": "markdown",
   "metadata": {},
   "source": [
    "Learning rate adjust to 50 to see what if will happen if it too large"
   ]
  },
  {
   "cell_type": "code",
   "execution_count": 27,
   "metadata": {},
   "outputs": [],
   "source": [
    "def plot_all_acc_fn(sgd,adagard,rms,adam):\n",
    "    \n",
    "    \n",
    "    sgd_acc = sgd.history['acc']\n",
    "    sgd_val_acc = sgd.history['val_acc']\n",
    "    \n",
    "    epochs = range(1, len(sgd_acc) + 1)\n",
    "    \n",
    "    plt.plot(epochs, sgd_val_acc, 'yo', label='Validation acc sgd')\n",
    "    plt.legend()\n",
    "    \n",
    "    adagard_acc = adagard.history['acc']\n",
    "    adagard_val_acc = adagard.history['val_acc']\n",
    "    \n",
    "    epochs = range(1, len(adagard_acc) + 1)\n",
    "\n",
    "    plt.plot(epochs, adagard_val_acc, 'go', label='Validation acc adagard')\n",
    "    \n",
    "    rms_acc = rms.history['acc']\n",
    "    rms_val_acc = rms.history['val_acc']\n",
    "    \n",
    "    epochs = range(1, len(rms_acc) + 1)\n",
    "\n",
    "    plt.plot(epochs, rms_val_acc, 'bo', label='Validation acc rmspop')\n",
    "    \n",
    "    adam_acc = adam.history['acc']\n",
    "    adam_val_acc = adam.history['val_acc']\n",
    "    \n",
    "    epochs = range(1, len(adam_acc) + 1)\n",
    "\n",
    "    plt.plot(epochs, adam_val_acc, 'ro', label='Validation acc adam')\n",
    "\n",
    "    plt.title('Training and validation accuracy')\n",
    "    plt.xlabel('Epochs')\n",
    "    plt.ylabel('acc')\n",
    "    plt.legend()"
   ]
  },
  {
   "cell_type": "code",
   "execution_count": 28,
   "metadata": {},
   "outputs": [],
   "source": [
    "from keras import optimizers\n",
    "network_sgd = models.Sequential()\n",
    "network_sgd.add(layers.Dense(512, activation='relu',input_shape=(28*28,)))\n",
    "network_sgd.add(layers.Dense(10, activation='sigmoid'))\n",
    "\n",
    "sgd = optimizers.sgd(lr = 50.00) \n",
    "network_sgd.compile(loss='categorical_crossentropy',\n",
    "               metrics=['accuracy'],optimizer=sgd)"
   ]
  },
  {
   "cell_type": "code",
   "execution_count": 29,
   "metadata": {},
   "outputs": [
    {
     "name": "stdout",
     "output_type": "stream",
     "text": [
      "Train on 54000 samples, validate on 6000 samples\n",
      "Epoch 1/10\n",
      "54000/54000 [==============================] - 3s 47us/step - loss: 8.9286 - acc: 0.0986 - val_loss: 8.7888 - val_acc: 0.0978\n",
      "Epoch 2/10\n",
      "54000/54000 [==============================] - 2s 42us/step - loss: 8.9532 - acc: 0.0988 - val_loss: 8.7888 - val_acc: 0.0978\n",
      "Epoch 3/10\n",
      "54000/54000 [==============================] - 2s 43us/step - loss: 8.9532 - acc: 0.0988 - val_loss: 8.7888 - val_acc: 0.0978\n",
      "Epoch 4/10\n",
      "54000/54000 [==============================] - 2s 42us/step - loss: 8.9532 - acc: 0.0988 - val_loss: 8.7888 - val_acc: 0.0978\n",
      "Epoch 5/10\n",
      "54000/54000 [==============================] - 3s 47us/step - loss: 8.9532 - acc: 0.0988 - val_loss: 8.7888 - val_acc: 0.0978\n",
      "Epoch 6/10\n",
      "54000/54000 [==============================] - 2s 42us/step - loss: 8.9532 - acc: 0.0988 - val_loss: 8.7888 - val_acc: 0.0978\n",
      "Epoch 7/10\n",
      "54000/54000 [==============================] - 2s 43us/step - loss: 8.9532 - acc: 0.0988 - val_loss: 8.7888 - val_acc: 0.0978\n",
      "Epoch 8/10\n",
      "54000/54000 [==============================] - 2s 41us/step - loss: 8.9532 - acc: 0.0988 - val_loss: 8.7888 - val_acc: 0.0978\n",
      "Epoch 9/10\n",
      "54000/54000 [==============================] - 2s 41us/step - loss: 8.9532 - acc: 0.0988 - val_loss: 8.7888 - val_acc: 0.0978\n",
      "Epoch 10/10\n",
      "54000/54000 [==============================] - 2s 41us/step - loss: 8.9532 - acc: 0.0988 - val_loss: 8.7888 - val_acc: 0.0978\n"
     ]
    }
   ],
   "source": [
    "history_de = network_sgd.fit(train_images,train_labels,epochs=10,batch_size=128,validation_split=0.1)"
   ]
  },
  {
   "cell_type": "markdown",
   "metadata": {},
   "source": [
    "Learning rate adjust to 0.0001 to see what if it too small"
   ]
  },
  {
   "cell_type": "code",
   "execution_count": 30,
   "metadata": {},
   "outputs": [],
   "source": [
    "from keras import optimizers\n",
    "network_sgd = models.Sequential()\n",
    "network_sgd.add(layers.Dense(512, activation='relu',input_shape=(28*28,)))\n",
    "network_sgd.add(layers.Dense(10, activation='sigmoid'))\n",
    "\n",
    "sgd = optimizers.sgd(lr = 0.0001) \n",
    "network_sgd.compile(loss='categorical_crossentropy',\n",
    "               metrics=['accuracy'],optimizer=sgd)"
   ]
  },
  {
   "cell_type": "code",
   "execution_count": 31,
   "metadata": {},
   "outputs": [
    {
     "name": "stdout",
     "output_type": "stream",
     "text": [
      "Train on 54000 samples, validate on 6000 samples\n",
      "Epoch 1/10\n",
      "54000/54000 [==============================] - 2s 45us/step - loss: 2.3270 - acc: 0.0814 - val_loss: 2.3160 - val_acc: 0.0817\n",
      "Epoch 2/10\n",
      "54000/54000 [==============================] - 2s 45us/step - loss: 2.3099 - acc: 0.0899 - val_loss: 2.2992 - val_acc: 0.0902\n",
      "Epoch 3/10\n",
      "54000/54000 [==============================] - 2s 41us/step - loss: 2.2942 - acc: 0.1007 - val_loss: 2.2837 - val_acc: 0.1027\n",
      "Epoch 4/10\n",
      "54000/54000 [==============================] - 2s 41us/step - loss: 2.2795 - acc: 0.1137 - val_loss: 2.2691 - val_acc: 0.1172\n",
      "Epoch 5/10\n",
      "54000/54000 [==============================] - 2s 42us/step - loss: 2.2657 - acc: 0.1291 - val_loss: 2.2554 - val_acc: 0.1338\n",
      "Epoch 6/10\n",
      "54000/54000 [==============================] - 2s 42us/step - loss: 2.2527 - acc: 0.1485 - val_loss: 2.2423 - val_acc: 0.1577\n",
      "Epoch 7/10\n",
      "54000/54000 [==============================] - 2s 46us/step - loss: 2.2403 - acc: 0.1706 - val_loss: 2.2297 - val_acc: 0.1798\n",
      "Epoch 8/10\n",
      "54000/54000 [==============================] - 2s 45us/step - loss: 2.2283 - acc: 0.1954 - val_loss: 2.2176 - val_acc: 0.2040\n",
      "Epoch 9/10\n",
      "54000/54000 [==============================] - 2s 44us/step - loss: 2.2167 - acc: 0.2222 - val_loss: 2.2058 - val_acc: 0.2317\n",
      "Epoch 10/10\n",
      "54000/54000 [==============================] - 2s 41us/step - loss: 2.2054 - acc: 0.2506 - val_loss: 2.1943 - val_acc: 0.2617\n"
     ]
    }
   ],
   "source": [
    "history_de = network_sgd.fit(train_images,train_labels,epochs=10,batch_size=128,validation_split=0.1)"
   ]
  },
  {
   "cell_type": "markdown",
   "metadata": {},
   "source": [
    "Learning rate adjust to 0.01 to see what if we use recommended value"
   ]
  },
  {
   "cell_type": "code",
   "execution_count": 32,
   "metadata": {},
   "outputs": [],
   "source": [
    "\n",
    "from keras import optimizers\n",
    "network_sgd = models.Sequential()\n",
    "network_sgd.add(layers.Dense(512, activation='relu',input_shape=(28*28,)))\n",
    "network_sgd.add(layers.Dense(10, activation='sigmoid'))\n",
    "\n",
    "sgd = optimizers.sgd(lr = 0.01)\n",
    "network_sgd.compile(loss='categorical_crossentropy',\n",
    "               metrics=['accuracy'],optimizer=sgd)"
   ]
  },
  {
   "cell_type": "code",
   "execution_count": 33,
   "metadata": {},
   "outputs": [
    {
     "name": "stdout",
     "output_type": "stream",
     "text": [
      "Train on 54000 samples, validate on 6000 samples\n",
      "Epoch 1/10\n",
      "54000/54000 [==============================] - 2s 45us/step - loss: 1.7033 - acc: 0.6269 - val_loss: 0.9201 - val_acc: 0.8620\n",
      "Epoch 2/10\n",
      "54000/54000 [==============================] - 2s 42us/step - loss: 0.7103 - acc: 0.8530 - val_loss: 0.4809 - val_acc: 0.9037\n",
      "Epoch 3/10\n",
      "54000/54000 [==============================] - 2s 42us/step - loss: 0.4953 - acc: 0.8798 - val_loss: 0.3755 - val_acc: 0.9108\n",
      "Epoch 4/10\n",
      "54000/54000 [==============================] - 2s 42us/step - loss: 0.4211 - acc: 0.8918 - val_loss: 0.3282 - val_acc: 0.9185\n",
      "Epoch 5/10\n",
      "54000/54000 [==============================] - 3s 46us/step - loss: 0.3813 - acc: 0.8989 - val_loss: 0.3005 - val_acc: 0.9213\n",
      "Epoch 6/10\n",
      "54000/54000 [==============================] - 2s 43us/step - loss: 0.3552 - acc: 0.9041 - val_loss: 0.2832 - val_acc: 0.9250\n",
      "Epoch 7/10\n",
      "54000/54000 [==============================] - 2s 45us/step - loss: 0.3363 - acc: 0.9085 - val_loss: 0.2701 - val_acc: 0.9280\n",
      "Epoch 8/10\n",
      "54000/54000 [==============================] - 2s 43us/step - loss: 0.3212 - acc: 0.9116 - val_loss: 0.2569 - val_acc: 0.9312\n",
      "Epoch 9/10\n",
      "54000/54000 [==============================] - 2s 43us/step - loss: 0.3086 - acc: 0.9150 - val_loss: 0.2492 - val_acc: 0.9342\n",
      "Epoch 10/10\n",
      "54000/54000 [==============================] - 2s 43us/step - loss: 0.2978 - acc: 0.9182 - val_loss: 0.2388 - val_acc: 0.9355\n"
     ]
    }
   ],
   "source": [
    "history_in = network_sgd.fit(train_images,train_labels,epochs=10,batch_size=128,validation_split=0.1)"
   ]
  },
  {
   "cell_type": "markdown",
   "metadata": {},
   "source": [
    "adjust optimizer to sgd"
   ]
  },
  {
   "cell_type": "code",
   "execution_count": 34,
   "metadata": {},
   "outputs": [],
   "source": [
    "# sgd optimizer\n",
    "from keras import optimizers\n",
    "network_sgd = models.Sequential()\n",
    "network_sgd.add(layers.Dense(512, activation='relu',input_shape=(28*28,)))\n",
    "network_sgd.add(layers.Dense(10, activation='sigmoid'))\n",
    "\n",
    "sgd = optimizers.sgd()\n",
    "network_sgd.compile(loss='categorical_crossentropy',\n",
    "               metrics=['accuracy'],optimizer=sgd)"
   ]
  },
  {
   "cell_type": "code",
   "execution_count": 35,
   "metadata": {},
   "outputs": [
    {
     "name": "stdout",
     "output_type": "stream",
     "text": [
      "Train on 54000 samples, validate on 6000 samples\n",
      "Epoch 1/10\n",
      "54000/54000 [==============================] - 3s 47us/step - loss: 1.6420 - acc: 0.6519 - val_loss: 0.8576 - val_acc: 0.8682\n",
      "Epoch 2/10\n",
      "54000/54000 [==============================] - 3s 48us/step - loss: 0.6840 - acc: 0.8523 - val_loss: 0.4684 - val_acc: 0.9017\n",
      "Epoch 3/10\n",
      "54000/54000 [==============================] - 2s 44us/step - loss: 0.4881 - acc: 0.8795 - val_loss: 0.3710 - val_acc: 0.9125\n",
      "Epoch 4/10\n",
      "54000/54000 [==============================] - 2s 44us/step - loss: 0.4177 - acc: 0.8910 - val_loss: 0.3261 - val_acc: 0.9183\n",
      "Epoch 5/10\n",
      "54000/54000 [==============================] - 2s 44us/step - loss: 0.3795 - acc: 0.8989 - val_loss: 0.3016 - val_acc: 0.9193\n",
      "Epoch 6/10\n",
      "54000/54000 [==============================] - 2s 46us/step - loss: 0.3544 - acc: 0.9035 - val_loss: 0.2819 - val_acc: 0.9258\n",
      "Epoch 7/10\n",
      "54000/54000 [==============================] - 2s 44us/step - loss: 0.3357 - acc: 0.9081 - val_loss: 0.2703 - val_acc: 0.9268\n",
      "Epoch 8/10\n",
      "54000/54000 [==============================] - 2s 46us/step - loss: 0.3211 - acc: 0.9117 - val_loss: 0.2584 - val_acc: 0.9287\n",
      "Epoch 9/10\n",
      "54000/54000 [==============================] - 2s 45us/step - loss: 0.3089 - acc: 0.9151 - val_loss: 0.2495 - val_acc: 0.9313\n",
      "Epoch 10/10\n",
      "54000/54000 [==============================] - 3s 47us/step - loss: 0.2985 - acc: 0.9174 - val_loss: 0.2415 - val_acc: 0.9332\n"
     ]
    }
   ],
   "source": [
    "history_sgd = network_sgd.fit(train_images,train_labels,epochs=10,batch_size=128,validation_split=0.1)"
   ]
  },
  {
   "cell_type": "code",
   "execution_count": 36,
   "metadata": {},
   "outputs": [
    {
     "data": {
      "image/png": "[encoded data removed]",
      "text/plain": [
       "<Figure size 432x288 with 1 Axes>"
      ]
     },
     "metadata": {},
     "output_type": "display_data"
    }
   ],
   "source": [
    "plot_acc_fn(history_sgd)"
   ]
  },
  {
   "cell_type": "markdown",
   "metadata": {},
   "source": [
    "adjust optimizer to adagard"
   ]
  },
  {
   "cell_type": "code",
   "execution_count": 37,
   "metadata": {},
   "outputs": [],
   "source": [
    "# adagrad optimizer\n",
    "from keras import optimizers\n",
    "network_adagrad = models.Sequential()\n",
    "network_adagrad.add(layers.Dense(512, activation='relu',input_shape=(28*28,)))\n",
    "network_adagrad.add(layers.Dense(10, activation='sigmoid'))\n",
    "\n",
    "adagrad = optimizers.adagrad()\n",
    "network_adagrad.compile(loss='categorical_crossentropy',\n",
    "               metrics=['accuracy'],optimizer=adagrad)"
   ]
  },
  {
   "cell_type": "code",
   "execution_count": 38,
   "metadata": {},
   "outputs": [
    {
     "name": "stdout",
     "output_type": "stream",
     "text": [
      "Train on 54000 samples, validate on 6000 samples\n",
      "Epoch 1/10\n",
      "54000/54000 [==============================] - 3s 59us/step - loss: 0.2634 - acc: 0.9230 - val_loss: 0.1249 - val_acc: 0.9653\n",
      "Epoch 2/10\n",
      "54000/54000 [==============================] - 3s 52us/step - loss: 0.1274 - acc: 0.9637 - val_loss: 0.1015 - val_acc: 0.9710\n",
      "Epoch 3/10\n",
      "54000/54000 [==============================] - 3s 52us/step - loss: 0.0977 - acc: 0.9724 - val_loss: 0.0902 - val_acc: 0.9758\n",
      "Epoch 4/10\n",
      "54000/54000 [==============================] - 3s 56us/step - loss: 0.0806 - acc: 0.9775 - val_loss: 0.0827 - val_acc: 0.9762\n",
      "Epoch 5/10\n",
      "54000/54000 [==============================] - 3s 55us/step - loss: 0.0691 - acc: 0.9815 - val_loss: 0.0794 - val_acc: 0.9770\n",
      "Epoch 6/10\n",
      "54000/54000 [==============================] - 3s 55us/step - loss: 0.0608 - acc: 0.9836 - val_loss: 0.0745 - val_acc: 0.9783\n",
      "Epoch 7/10\n",
      "54000/54000 [==============================] - 3s 50us/step - loss: 0.0546 - acc: 0.9855 - val_loss: 0.0717 - val_acc: 0.9797\n",
      "Epoch 8/10\n",
      "54000/54000 [==============================] - 3s 52us/step - loss: 0.0491 - acc: 0.9873 - val_loss: 0.0730 - val_acc: 0.9797\n",
      "Epoch 9/10\n",
      "54000/54000 [==============================] - 3s 50us/step - loss: 0.0445 - acc: 0.9890 - val_loss: 0.0701 - val_acc: 0.9810\n",
      "Epoch 10/10\n",
      "54000/54000 [==============================] - 3s 54us/step - loss: 0.0409 - acc: 0.9901 - val_loss: 0.0673 - val_acc: 0.9802\n"
     ]
    }
   ],
   "source": [
    "history4 = network_adagrad.fit(train_images,train_labels,epochs=10,batch_size=128,validation_split=0.1)"
   ]
  },
  {
   "cell_type": "code",
   "execution_count": 39,
   "metadata": {},
   "outputs": [
    {
     "data": {
      "image/png": "[encoded data removed]",
      "text/plain": [
       "<Figure size 432x288 with 1 Axes>"
      ]
     },
     "metadata": {},
     "output_type": "display_data"
    }
   ],
   "source": [
    "plot_acc_fn(history4)"
   ]
  },
  {
   "cell_type": "markdown",
   "metadata": {},
   "source": [
    "adjust optimizer to rmsprop"
   ]
  },
  {
   "cell_type": "code",
   "execution_count": 40,
   "metadata": {},
   "outputs": [],
   "source": [
    "# rmsprop optimizer\n",
    "from keras import optimizers\n",
    "network_rmsprop = models.Sequential()\n",
    "network_rmsprop.add(layers.Dense(512, activation='relu',input_shape=(28*28,)))\n",
    "network_rmsprop.add(layers.Dense(10, activation='sigmoid'))\n",
    "\n",
    "rmsprop = optimizers.rmsprop()\n",
    "network_rmsprop.compile(loss='categorical_crossentropy',\n",
    "               metrics=['accuracy'],optimizer=rmsprop)"
   ]
  },
  {
   "cell_type": "code",
   "execution_count": 41,
   "metadata": {},
   "outputs": [
    {
     "name": "stdout",
     "output_type": "stream",
     "text": [
      "Train on 54000 samples, validate on 6000 samples\n",
      "Epoch 1/10\n",
      "54000/54000 [==============================] - 3s 60us/step - loss: 0.3051 - acc: 0.9126 - val_loss: 0.1327 - val_acc: 0.9607\n",
      "Epoch 2/10\n",
      "54000/54000 [==============================] - 3s 56us/step - loss: 0.1265 - acc: 0.9620 - val_loss: 0.1058 - val_acc: 0.9703\n",
      "Epoch 3/10\n",
      "54000/54000 [==============================] - 3s 58us/step - loss: 0.0832 - acc: 0.9751 - val_loss: 0.0808 - val_acc: 0.9755\n",
      "Epoch 4/10\n",
      "54000/54000 [==============================] - 3s 61us/step - loss: 0.0618 - acc: 0.9813 - val_loss: 0.0791 - val_acc: 0.9763\n",
      "Epoch 5/10\n",
      "54000/54000 [==============================] - 3s 60us/step - loss: 0.0462 - acc: 0.9863 - val_loss: 0.0762 - val_acc: 0.9792\n",
      "Epoch 6/10\n",
      "54000/54000 [==============================] - 3s 56us/step - loss: 0.0354 - acc: 0.9890 - val_loss: 0.0773 - val_acc: 0.9808\n",
      "Epoch 7/10\n",
      "54000/54000 [==============================] - 3s 55us/step - loss: 0.0273 - acc: 0.9918 - val_loss: 0.0715 - val_acc: 0.9820\n",
      "Epoch 8/10\n",
      "54000/54000 [==============================] - 3s 56us/step - loss: 0.0209 - acc: 0.9938 - val_loss: 0.0727 - val_acc: 0.9808\n",
      "Epoch 9/10\n",
      "54000/54000 [==============================] - 3s 57us/step - loss: 0.0171 - acc: 0.9954 - val_loss: 0.0704 - val_acc: 0.9823\n",
      "Epoch 10/10\n",
      "54000/54000 [==============================] - 3s 63us/step - loss: 0.0123 - acc: 0.9965 - val_loss: 0.0756 - val_acc: 0.9808\n"
     ]
    }
   ],
   "source": [
    "history5 = network_rmsprop.fit(train_images,train_labels,epochs=10,batch_size=128,validation_split=0.1)"
   ]
  },
  {
   "cell_type": "code",
   "execution_count": 42,
   "metadata": {},
   "outputs": [
    {
     "data": {
      "image/png": "[encoded data removed]",
      "text/plain": [
       "<Figure size 432x288 with 1 Axes>"
      ]
     },
     "metadata": {},
     "output_type": "display_data"
    }
   ],
   "source": [
    "plot_acc_fn(history5)"
   ]
  },
  {
   "cell_type": "markdown",
   "metadata": {},
   "source": [
    "adjust optimizer to adam"
   ]
  },
  {
   "cell_type": "code",
   "execution_count": 43,
   "metadata": {},
   "outputs": [],
   "source": [
    "# adam optimizer\n",
    "from keras import optimizers\n",
    "network_adam = models.Sequential()\n",
    "network_adam.add(layers.Dense(512, activation='relu',input_shape=(28*28,)))\n",
    "network_adam.add(layers.Dense(10, activation='sigmoid'))\n",
    "\n",
    "adam = optimizers.adam()\n",
    "network_adam.compile(loss='categorical_crossentropy',\n",
    "               metrics=['accuracy'],optimizer=adam)"
   ]
  },
  {
   "cell_type": "code",
   "execution_count": 44,
   "metadata": {},
   "outputs": [
    {
     "name": "stdout",
     "output_type": "stream",
     "text": [
      "Train on 54000 samples, validate on 6000 samples\n",
      "Epoch 1/10\n",
      "54000/54000 [==============================] - 4s 82us/step - loss: 0.3111 - acc: 0.9151 - val_loss: 0.1210 - val_acc: 0.9658\n",
      "Epoch 2/10\n",
      "54000/54000 [==============================] - 4s 72us/step - loss: 0.1246 - acc: 0.9635 - val_loss: 0.0928 - val_acc: 0.9742\n",
      "Epoch 3/10\n",
      "54000/54000 [==============================] - 3s 65us/step - loss: 0.0810 - acc: 0.9763 - val_loss: 0.0792 - val_acc: 0.9758\n",
      "Epoch 4/10\n",
      "54000/54000 [==============================] - 4s 69us/step - loss: 0.0586 - acc: 0.9829 - val_loss: 0.0814 - val_acc: 0.9773\n",
      "Epoch 5/10\n",
      "54000/54000 [==============================] - 3s 64us/step - loss: 0.0426 - acc: 0.9872 - val_loss: 0.0722 - val_acc: 0.9787\n",
      "Epoch 6/10\n",
      "54000/54000 [==============================] - 3s 64us/step - loss: 0.0336 - acc: 0.9907 - val_loss: 0.0742 - val_acc: 0.9795\n",
      "Epoch 7/10\n",
      "54000/54000 [==============================] - 3s 64us/step - loss: 0.0263 - acc: 0.9927 - val_loss: 0.0666 - val_acc: 0.9807\n",
      "Epoch 8/10\n",
      "54000/54000 [==============================] - 4s 66us/step - loss: 0.0192 - acc: 0.9949 - val_loss: 0.0717 - val_acc: 0.9802\n",
      "Epoch 9/10\n",
      "54000/54000 [==============================] - 4s 66us/step - loss: 0.0153 - acc: 0.9961 - val_loss: 0.0748 - val_acc: 0.9798\n",
      "Epoch 10/10\n",
      "54000/54000 [==============================] - 4s 72us/step - loss: 0.0122 - acc: 0.9970 - val_loss: 0.0754 - val_acc: 0.9783\n"
     ]
    }
   ],
   "source": [
    "history6 = network_adam.fit(train_images,train_labels,epochs=10,batch_size=128,validation_split=0.1)"
   ]
  },
  {
   "cell_type": "code",
   "execution_count": 45,
   "metadata": {},
   "outputs": [
    {
     "data": {
      "image/png": "[encoded data removed]",
      "text/plain": [
       "<Figure size 432x288 with 1 Axes>"
      ]
     },
     "metadata": {},
     "output_type": "display_data"
    }
   ],
   "source": [
    "plot_acc_fn(history6)"
   ]
  },
  {
   "cell_type": "code",
   "execution_count": 46,
   "metadata": {},
   "outputs": [
    {
     "data": {
      "image/png": "[encoded data removed]",
      "text/plain": [
       "<Figure size 432x288 with 1 Axes>"
      ]
     },
     "metadata": {},
     "output_type": "display_data"
    }
   ],
   "source": [
    "plot_all_acc_fn(history_sgd,history4,history5,history6)"
   ]
  },
  {
   "cell_type": "markdown",
   "metadata": {},
   "source": [
    "Change model structure by add more hidden layer \n",
    "Input -> Linear -> Relu -> Linear -> Relu -> Linear -> Sigmoid"
   ]
  },
  {
   "cell_type": "code",
   "execution_count": 47,
   "metadata": {},
   "outputs": [],
   "source": [
    "from keras import optimizers\n",
    "network_plus_layer = models.Sequential()\n",
    "network_plus_layer.add(layers.Dense(512, activation='relu',input_shape=(28*28,)))\n",
    "network_plus_layer.add(layers.Dense(256, activation='relu'))\n",
    "network_plus_layer.add(layers.Dense(10, activation='sigmoid'))\n",
    "\n",
    "sgd = optimizers.sgd(lr = 0.01) \n",
    "network_plus_layer.compile(loss='categorical_crossentropy',\n",
    "               metrics=['accuracy'],optimizer=sgd)"
   ]
  },
  {
   "cell_type": "code",
   "execution_count": null,
   "metadata": {},
   "outputs": [
    {
     "name": "stdout",
     "output_type": "stream",
     "text": [
      "Train on 54000 samples, validate on 6000 samples\n",
      "Epoch 1/10\n",
      "54000/54000 [==============================] - 3s 61us/step - loss: 1.5433 - acc: 0.6636 - val_loss: 0.6587 - val_acc: 0.8742\n",
      "Epoch 2/10\n",
      "54000/54000 [==============================] - 3s 54us/step - loss: 0.5404 - acc: 0.8691 - val_loss: 0.3652 - val_acc: 0.9128\n",
      "Epoch 3/10\n",
      "54000/54000 [==============================] - 3s 57us/step - loss: 0.3972 - acc: 0.8935 - val_loss: 0.2978 - val_acc: 0.9212\n",
      "Epoch 4/10\n",
      "54000/54000 [==============================] - 3s 54us/step - loss: 0.3455 - acc: 0.9049 - val_loss: 0.2670 - val_acc: 0.9280\n",
      "Epoch 5/10\n",
      "35712/54000 [==================>...........] - ETA: 0s - loss: 0.3203 - acc: 0.9102"
     ]
    }
   ],
   "source": [
    "history_plus_layer = network_plus_layer.fit(train_images,train_labels,epochs=10,batch_size=128,validation_split=0.1)"
   ]
  },
  {
   "cell_type": "markdown",
   "metadata": {},
   "source": [
    "Add more layers to see the differences"
   ]
  },
  {
   "cell_type": "code",
   "execution_count": null,
   "metadata": {},
   "outputs": [],
   "source": [
    "from keras import optimizers\n",
    "network_plus_layer2 = models.Sequential()\n",
    "network_plus_layer2.add(layers.Dense(512, activation='relu',input_shape=(28*28,)))\n",
    "network_plus_layer2.add(layers.Dense(256, activation='relu'))\n",
    "network_plus_layer2.add(layers.Dense(128, activation='relu'))\n",
    "network_plus_layer2.add(layers.Dense(10, activation='sigmoid'))\n",
    "\n",
    "sgd = optimizers.sgd(lr = 0.01) \n",
    "network_plus_layer2.compile(loss='categorical_crossentropy',\n",
    "               metrics=['accuracy'],optimizer=sgd)"
   ]
  },
  {
   "cell_type": "code",
   "execution_count": null,
   "metadata": {},
   "outputs": [],
   "source": [
    "history_plus_layer2 = network_plus_layer2.fit(train_images,train_labels,epochs=10,batch_size=128,validation_split=0.1)"
   ]
  },
  {
   "cell_type": "markdown",
   "metadata": {},
   "source": [
    "What if we decrease the number of nodes?"
   ]
  },
  {
   "cell_type": "markdown",
   "metadata": {},
   "source": [
    "### 7. Discussion and Result\n",
    "Write down your analysis from previous step\n",
    "\n",
    "**ANSWER**"
   ]
  },
  {
   "cell_type": "markdown",
   "metadata": {},
   "source": [
    "1.) Learning rate affects directly on how fast it converge to the optimum point and weight. Too big of learning rate can result in model hard stuck on local minimum. Too small learning rate may not differs from brute-force so the optimal learning rate is essential. \n",
    "\n",
    "2.) From multi-plotting, Adam is the best optimizer because it has the highest validation accuracy of most of the time.\n",
    "\n",
    "3.) By adding more hidden layers, both initial and during learning process of loss and accuracy have improve and converge to their optimal point at faster rate.\n"
   ]
  }
 ],
 "metadata": {
  "kernelspec": {
   "display_name": "Python 3",
   "language": "python",
   "name": "python3"
  },
  "language_info": {
   "codemirror_mode": {
    "name": "ipython",
    "version": 3
   },
   "file_extension": ".py",
   "mimetype": "text/x-python",
   "name": "python",
   "nbconvert_exporter": "python",
   "pygments_lexer": "ipython3",
   "version": "3.6.5"
  }
 },
 "nbformat": 4,
 "nbformat_minor": 2
}
